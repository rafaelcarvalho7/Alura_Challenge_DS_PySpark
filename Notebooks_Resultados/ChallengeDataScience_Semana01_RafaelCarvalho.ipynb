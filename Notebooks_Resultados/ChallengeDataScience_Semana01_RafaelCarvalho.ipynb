{
  "nbformat": 4,
  "nbformat_minor": 0,
  "metadata": {
    "colab": {
      "provenance": [],
      "mount_file_id": "1oAL60fTjbt6EHCmxWCz61UjcNNXCuXk5",
      "authorship_tag": "ABX9TyOV6W9fZDqEvk1n+BoR2rIf",
      "include_colab_link": true
    },
    "kernelspec": {
      "name": "python3",
      "display_name": "Python 3"
    },
    "language_info": {
      "name": "python"
    }
  },
  "cells": [
    {
      "cell_type": "markdown",
      "metadata": {
        "id": "view-in-github",
        "colab_type": "text"
      },
      "source": [
        "<a href=\"https://colab.research.google.com/github/rafaelcarvalho7/Alura_Challenge_DS_PySpark/blob/main/Notebooks/ChallengeDataScience_Semana01_RafaelCarvalho.ipynb\" target=\"_parent\"><img src=\"https://colab.research.google.com/assets/colab-badge.svg\" alt=\"Open In Colab\"/></a>"
      ]
    },
    {
      "cell_type": "markdown",
      "source": [
        "#Instalando o PySpark"
      ],
      "metadata": {
        "id": "ffBIoxRlwbIb"
      }
    },
    {
      "cell_type": "code",
      "execution_count": 1,
      "metadata": {
        "id": "NLLdSh2sqbob"
      },
      "outputs": [],
      "source": [
        "#Instalando o PySpark\n",
        "\n",
        "!apt-get install openjdk-8-jdk-headless -qq > /dev/null\n",
        "!wget -q https://archive.apache.org/dist/spark/spark-3.1.2/spark-3.1.2-bin-hadoop2.7.tgz\n",
        "!tar xf spark-3.1.2-bin-hadoop2.7.tgz\n",
        "!pip install -q findspark"
      ]
    },
    {
      "cell_type": "code",
      "source": [
        "import os\n",
        "os.environ[\"JAVA_HOME\"] = \"/usr/lib/jvm/java-8-openjdk-amd64\"\n",
        "os.environ[\"SPARK_HOME\"] = \"/content/spark-3.1.2-bin-hadoop2.7\""
      ],
      "metadata": {
        "id": "UE-GsCEwwY7v"
      },
      "execution_count": 2,
      "outputs": []
    },
    {
      "cell_type": "code",
      "source": [
        "import findspark\n",
        "findspark.init()"
      ],
      "metadata": {
        "id": "MBieHcvYwp9W"
      },
      "execution_count": 3,
      "outputs": []
    },
    {
      "cell_type": "code",
      "source": [
        "!pip install pyspark\n",
        "from pyspark.sql import SparkSession\n",
        "spark = SparkSession.builder \\\n",
        "    .master('local[*]') \\\n",
        "    .appName('ChallengeDS_InsightPlaces') \\\n",
        "    .config('spark.ui.port', '4050') \\\n",
        "    .getOrCreate()"
      ],
      "metadata": {
        "colab": {
          "base_uri": "https://localhost:8080/"
        },
        "id": "Vml5PMgxw2sV",
        "outputId": "13843b76-89b3-4702-e352-b3986a6406b0"
      },
      "execution_count": 4,
      "outputs": [
        {
          "output_type": "stream",
          "name": "stdout",
          "text": [
            "Looking in indexes: https://pypi.org/simple, https://us-python.pkg.dev/colab-wheels/public/simple/\n",
            "Requirement already satisfied: pyspark in /usr/local/lib/python3.7/dist-packages (3.3.1)\n",
            "Requirement already satisfied: py4j==0.10.9.5 in /usr/local/lib/python3.7/dist-packages (from pyspark) (0.10.9.5)\n"
          ]
        }
      ]
    },
    {
      "cell_type": "code",
      "source": [
        "!wget -q https://bin.equinox.io/c/4VmDzA7iaHb/ngrok-stable-linux-amd64.zip\n",
        "!unzip ngrok-stable-linux-amd64.zip"
      ],
      "metadata": {
        "colab": {
          "base_uri": "https://localhost:8080/"
        },
        "id": "RvtSUZFjz5OK",
        "outputId": "956fe6df-bdef-4473-c8ff-991587fce2bf"
      },
      "execution_count": 5,
      "outputs": [
        {
          "output_type": "stream",
          "name": "stdout",
          "text": [
            "Archive:  ngrok-stable-linux-amd64.zip\n",
            "replace ngrok? [y]es, [n]o, [A]ll, [N]one, [r]ename: n\n"
          ]
        }
      ]
    },
    {
      "cell_type": "code",
      "source": [
        "get_ipython().system_raw('./ngrok http 4050 &')"
      ],
      "metadata": {
        "id": "aQTTi-mDz9cv"
      },
      "execution_count": 6,
      "outputs": []
    },
    {
      "cell_type": "code",
      "source": [
        "!curl -s http://localhost:4040/api/tunnels"
      ],
      "metadata": {
        "colab": {
          "base_uri": "https://localhost:8080/"
        },
        "id": "Buh1cemv0Az9",
        "outputId": "1c1ab981-7808-48e2-bdb2-d8f285fa9a09"
      },
      "execution_count": 7,
      "outputs": [
        {
          "output_type": "stream",
          "name": "stdout",
          "text": [
            "{\"tunnels\":[],\"uri\":\"/api/tunnels\"}\n"
          ]
        }
      ]
    },
    {
      "cell_type": "code",
      "source": [
        "spark"
      ],
      "metadata": {
        "colab": {
          "base_uri": "https://localhost:8080/",
          "height": 219
        },
        "id": "gFSW8siaw5HW",
        "outputId": "78bd177d-71bf-41e3-c269-9ac8a0dd0ce7"
      },
      "execution_count": 8,
      "outputs": [
        {
          "output_type": "execute_result",
          "data": {
            "text/plain": [
              "<pyspark.sql.session.SparkSession at 0x7fa640da1850>"
            ],
            "text/html": [
              "\n",
              "            <div>\n",
              "                <p><b>SparkSession - in-memory</b></p>\n",
              "                \n",
              "        <div>\n",
              "            <p><b>SparkContext</b></p>\n",
              "\n",
              "            <p><a href=\"http://6dadccd98120:4050\">Spark UI</a></p>\n",
              "\n",
              "            <dl>\n",
              "              <dt>Version</dt>\n",
              "                <dd><code>v3.1.2</code></dd>\n",
              "              <dt>Master</dt>\n",
              "                <dd><code>local[*]</code></dd>\n",
              "              <dt>AppName</dt>\n",
              "                <dd><code>ChallengeDS_InsightPlaces</code></dd>\n",
              "            </dl>\n",
              "        </div>\n",
              "        \n",
              "            </div>\n",
              "        "
            ]
          },
          "metadata": {},
          "execution_count": 8
        }
      ]
    },
    {
      "cell_type": "markdown",
      "source": [
        "# Imobiliária Insight Places"
      ],
      "metadata": {
        "id": "LJPdYjpOyC2_"
      }
    },
    {
      "cell_type": "markdown",
      "source": [
        "## Importando Dados"
      ],
      "metadata": {
        "id": "7ZC-btM5yLKd"
      }
    },
    {
      "cell_type": "code",
      "source": [
        "import zipfile\n",
        "zipfile.ZipFile('/content/drive/MyDrive/ChallengeDS_IP/semana-1.zip', 'r').extractall('/content/drive/MyDrive/ChallengeDS_IP')"
      ],
      "metadata": {
        "id": "9Dp8edbHxLi1"
      },
      "execution_count": 9,
      "outputs": []
    },
    {
      "cell_type": "code",
      "source": [
        "path = '/content/drive/MyDrive/ChallengeDS_IP/dataset_bruto.json'\n",
        "imoveisRJ = spark.read.json(path)"
      ],
      "metadata": {
        "id": "gL8gMGJjy1Kw"
      },
      "execution_count": 10,
      "outputs": []
    },
    {
      "cell_type": "code",
      "source": [
        "imoveisRJ.count()"
      ],
      "metadata": {
        "colab": {
          "base_uri": "https://localhost:8080/"
        },
        "id": "AxAFsJDjy_8N",
        "outputId": "788f6bb8-e8a1-4eac-dcdd-b0bbe69f22b5"
      },
      "execution_count": 11,
      "outputs": [
        {
          "output_type": "execute_result",
          "data": {
            "text/plain": [
              "89083"
            ]
          },
          "metadata": {},
          "execution_count": 11
        }
      ]
    },
    {
      "cell_type": "markdown",
      "source": [
        "## Analisando os dados"
      ],
      "metadata": {
        "id": "y4mr_oCj17oc"
      }
    },
    {
      "cell_type": "markdown",
      "source": [
        "###Verificando conjunto de dados"
      ],
      "metadata": {
        "id": "1djDi63_1_Te"
      }
    },
    {
      "cell_type": "code",
      "source": [
        "imoveisRJ.head()"
      ],
      "metadata": {
        "colab": {
          "base_uri": "https://localhost:8080/"
        },
        "id": "D83ovMKrYRQU",
        "outputId": "42124918-33c1-4707-a514-075892d17754"
      },
      "execution_count": 12,
      "outputs": [
        {
          "output_type": "execute_result",
          "data": {
            "text/plain": [
              "Row(anuncio=Row(andar=0, area_total=[], area_util=['16'], banheiros=[0], caracteristicas=[], endereco=Row(bairro='Centro', cep='20061003', cidade='Rio de Janeiro', estado='Rio de Janeiro', latitude=-22.906082, longitude=-43.18671, pais='BR', rua='Rua Buenos Aires', zona='Zona Central'), id='47d553e0-79f2-4a46-9390-5a3c962740c2', quartos=[0], suites=[0], tipo_anuncio='Usado', tipo_unidade='Outros', tipo_uso='Comercial', vaga=[1], valores=[Row(condominio='260', iptu='107', tipo='Venda', valor='10000')]), imagens=[Row(id='39d6282a-71f3-47bc-94aa-909351ecd881', url='https://api.images.insightplaces.com.br/{type}/{width}/{height}/1b08098d-f2dc-439c-b604-a4e50d12774b.jpg')], usuario=Row(id='9d44563d-3405-4e84-9381-35b7cf40a9a4', nome='Frank'))"
            ]
          },
          "metadata": {},
          "execution_count": 12
        }
      ]
    },
    {
      "cell_type": "code",
      "source": [
        "imoveisRJ.printSchema()"
      ],
      "metadata": {
        "colab": {
          "base_uri": "https://localhost:8080/"
        },
        "id": "AYFKw_VM10lF",
        "outputId": "a4e71a86-bdf7-428a-e5c3-f8d5d6606f72"
      },
      "execution_count": 13,
      "outputs": [
        {
          "output_type": "stream",
          "name": "stdout",
          "text": [
            "root\n",
            " |-- anuncio: struct (nullable = true)\n",
            " |    |-- andar: long (nullable = true)\n",
            " |    |-- area_total: array (nullable = true)\n",
            " |    |    |-- element: string (containsNull = true)\n",
            " |    |-- area_util: array (nullable = true)\n",
            " |    |    |-- element: string (containsNull = true)\n",
            " |    |-- banheiros: array (nullable = true)\n",
            " |    |    |-- element: long (containsNull = true)\n",
            " |    |-- caracteristicas: array (nullable = true)\n",
            " |    |    |-- element: string (containsNull = true)\n",
            " |    |-- endereco: struct (nullable = true)\n",
            " |    |    |-- bairro: string (nullable = true)\n",
            " |    |    |-- cep: string (nullable = true)\n",
            " |    |    |-- cidade: string (nullable = true)\n",
            " |    |    |-- estado: string (nullable = true)\n",
            " |    |    |-- latitude: double (nullable = true)\n",
            " |    |    |-- longitude: double (nullable = true)\n",
            " |    |    |-- pais: string (nullable = true)\n",
            " |    |    |-- rua: string (nullable = true)\n",
            " |    |    |-- zona: string (nullable = true)\n",
            " |    |-- id: string (nullable = true)\n",
            " |    |-- quartos: array (nullable = true)\n",
            " |    |    |-- element: long (containsNull = true)\n",
            " |    |-- suites: array (nullable = true)\n",
            " |    |    |-- element: long (containsNull = true)\n",
            " |    |-- tipo_anuncio: string (nullable = true)\n",
            " |    |-- tipo_unidade: string (nullable = true)\n",
            " |    |-- tipo_uso: string (nullable = true)\n",
            " |    |-- vaga: array (nullable = true)\n",
            " |    |    |-- element: long (containsNull = true)\n",
            " |    |-- valores: array (nullable = true)\n",
            " |    |    |-- element: struct (containsNull = true)\n",
            " |    |    |    |-- condominio: string (nullable = true)\n",
            " |    |    |    |-- iptu: string (nullable = true)\n",
            " |    |    |    |-- tipo: string (nullable = true)\n",
            " |    |    |    |-- valor: string (nullable = true)\n",
            " |-- imagens: array (nullable = true)\n",
            " |    |-- element: struct (containsNull = true)\n",
            " |    |    |-- id: string (nullable = true)\n",
            " |    |    |-- url: string (nullable = true)\n",
            " |-- usuario: struct (nullable = true)\n",
            " |    |-- id: string (nullable = true)\n",
            " |    |-- nome: string (nullable = true)\n",
            "\n"
          ]
        }
      ]
    },
    {
      "cell_type": "markdown",
      "source": [
        "Alterar valores:\\\n",
        "⇒ area_total = string->double\\\n",
        "⇒ area_util = string->double\\\n",
        "⇒ valores.condiminio = string->double\\\n",
        "⇒ valores.iptu = string->double\\\n",
        "⇒ valores.valor = string->double\n"
      ],
      "metadata": {
        "id": "A2fR1Mjq3ZmQ"
      }
    },
    {
      "cell_type": "markdown",
      "source": [
        "### Convertendo StringType para DoubleType"
      ],
      "metadata": {
        "id": "eiMjXN8FEBUN"
      }
    },
    {
      "cell_type": "code",
      "source": [
        "from pyspark.sql.functions import from_json, col, concat_ws\n",
        "from pyspark.sql.types import DoubleType, StringType, IntegerType\n",
        "from pyspark.sql import functions as f"
      ],
      "metadata": {
        "id": "-t_5119OEGqn"
      },
      "execution_count": 14,
      "outputs": []
    },
    {
      "cell_type": "code",
      "source": [
        "#Selcionando só a coluna de anuncios\n",
        "imoveisRJ_anuncio = imoveisRJ.select(\"anuncio.*\")\n",
        "imoveisRJ_anuncio.printSchema()"
      ],
      "metadata": {
        "colab": {
          "base_uri": "https://localhost:8080/"
        },
        "id": "aqRajToi2GQ-",
        "outputId": "186d0301-210a-4df7-d371-6a261314a980"
      },
      "execution_count": 15,
      "outputs": [
        {
          "output_type": "stream",
          "name": "stdout",
          "text": [
            "root\n",
            " |-- andar: long (nullable = true)\n",
            " |-- area_total: array (nullable = true)\n",
            " |    |-- element: string (containsNull = true)\n",
            " |-- area_util: array (nullable = true)\n",
            " |    |-- element: string (containsNull = true)\n",
            " |-- banheiros: array (nullable = true)\n",
            " |    |-- element: long (containsNull = true)\n",
            " |-- caracteristicas: array (nullable = true)\n",
            " |    |-- element: string (containsNull = true)\n",
            " |-- endereco: struct (nullable = true)\n",
            " |    |-- bairro: string (nullable = true)\n",
            " |    |-- cep: string (nullable = true)\n",
            " |    |-- cidade: string (nullable = true)\n",
            " |    |-- estado: string (nullable = true)\n",
            " |    |-- latitude: double (nullable = true)\n",
            " |    |-- longitude: double (nullable = true)\n",
            " |    |-- pais: string (nullable = true)\n",
            " |    |-- rua: string (nullable = true)\n",
            " |    |-- zona: string (nullable = true)\n",
            " |-- id: string (nullable = true)\n",
            " |-- quartos: array (nullable = true)\n",
            " |    |-- element: long (containsNull = true)\n",
            " |-- suites: array (nullable = true)\n",
            " |    |-- element: long (containsNull = true)\n",
            " |-- tipo_anuncio: string (nullable = true)\n",
            " |-- tipo_unidade: string (nullable = true)\n",
            " |-- tipo_uso: string (nullable = true)\n",
            " |-- vaga: array (nullable = true)\n",
            " |    |-- element: long (containsNull = true)\n",
            " |-- valores: array (nullable = true)\n",
            " |    |-- element: struct (containsNull = true)\n",
            " |    |    |-- condominio: string (nullable = true)\n",
            " |    |    |-- iptu: string (nullable = true)\n",
            " |    |    |-- tipo: string (nullable = true)\n",
            " |    |    |-- valor: string (nullable = true)\n",
            "\n"
          ]
        }
      ]
    },
    {
      "cell_type": "code",
      "source": [
        "imoveisRJ_anuncio.show(15, truncate=False)"
      ],
      "metadata": {
        "colab": {
          "base_uri": "https://localhost:8080/"
        },
        "id": "eIjQZdil5z69",
        "outputId": "fc974009-2b05-48ec-e825-f54659e6ff43"
      },
      "execution_count": 16,
      "outputs": [
        {
          "output_type": "stream",
          "name": "stdout",
          "text": [
            "+-----+----------+---------+---------+-------------------------------------------------------------------------------------------------------------------------------+-----------------------------------------------------------------------------------------------------------------------------+------------------------------------+-------+------+------------+------------+-----------+----+----------------------------+\n",
            "|andar|area_total|area_util|banheiros|caracteristicas                                                                                                                |endereco                                                                                                                     |id                                  |quartos|suites|tipo_anuncio|tipo_unidade|tipo_uso   |vaga|valores                     |\n",
            "+-----+----------+---------+---------+-------------------------------------------------------------------------------------------------------------------------------+-----------------------------------------------------------------------------------------------------------------------------+------------------------------------+-------+------+------------+------------+-----------+----+----------------------------+\n",
            "|0    |[]        |[16]     |[0]      |[]                                                                                                                             |{Centro, 20061003, Rio de Janeiro, Rio de Janeiro, -22.906082, -43.18671, BR, Rua Buenos Aires, Zona Central}                |47d553e0-79f2-4a46-9390-5a3c962740c2|[0]    |[0]   |Usado       |Outros      |Comercial  |[1] |[{260, 107, Venda, 10000}]  |\n",
            "|0    |[]        |[14]     |[0]      |[]                                                                                                                             |{Centro, 20051040, Rio de Janeiro, Rio de Janeiro, -22.902536, -43.18434, BR, Avenida Passos, Zona Central}                  |b6ffbae1-17f6-4870-9950-e998ac1c8d6a|[0]    |[]    |Usado       |Outros      |Comercial  |[0] |[{260, 107, Venda, 10000}]  |\n",
            "|0    |[1026]    |[1026]   |[0]      |[]                                                                                                                             |{Maria da Graça, 20785360, Rio de Janeiro, Rio de Janeiro, -22.885516, -43.269083, BR, Rua Luís de Brito, Zona Norte}        |1fb030a5-9e3e-4a1d-93cd-cd2d8a215e11|[0]    |[]    |Usado       |Outros      |Comercial  |[0] |[{null, 1613, Venda, 10000}]|\n",
            "|0    |[120]     |[120]    |[0]      |[Portão eletrônico, Condomínio fechado]                                                                                        |{Campo Grande, 23095071, Rio de Janeiro, Rio de Janeiro, -22.885028, -43.561668, BR, Estrada Guandu do Sape, Zona Oeste}     |ac6cb348-69d6-45af-9589-dc34099370d8|[0]    |[]    |Usado       |Outros      |Residencial|[]  |[{80, null, Venda, 10000}]  |\n",
            "|0    |[3]       |[3]      |[0]      |[]                                                                                                                             |{São Cristóvão, 20931670, Rio de Janeiro, Rio de Janeiro, -22.885912, -43.219296, BR, Rua Monsenhor Manuel Gomes, Zona Norte}|e032b908-ef42-4d4a-8125-eba4792bacbe|[0]    |[]    |Usado       |Outros      |Residencial|[]  |[{0, 0, Venda, 5000}]       |\n",
            "|0    |[20]      |[15]     |[1]      |[]                                                                                                                             |{Centro, 20231047, Rio de Janeiro, Rio de Janeiro, -22.913152, -43.184043, BR, Rua dos Inválidos, Zona Central}              |df9cf0b8-b972-4334-88c9-87ef528806df|[0]    |[]    |Usado       |Outros      |Comercial  |[1] |[{223, 87, Venda, 18500}]   |\n",
            "|3    |[43]      |[43]     |[1]      |[Academia, Churrasqueira, Playground, Salão de festas, Condomínio fechado, Portão eletrônico, Portaria 24h, Animais permitidos]|{Paciência, 23585430, Rio de Janeiro, Rio de Janeiro, -22.919851, -43.634034, BR, Estrada de Santa Eugênia, Zona Oeste}      |d2e3a3aa-09b5-45a0-9dcd-918847cd3ca3|[2]    |[]    |Usado       |Apartamento |Residencial|[1] |[{245, null, Venda, 15000}] |\n",
            "|2    |[42]      |[42]     |[1]      |[Churrasqueira, Playground, Salão de festas, Condomínio fechado, Portão eletrônico, Portaria 24h, Animais permitidos]          |{Paciência, 23585430, Rio de Janeiro, Rio de Janeiro, -22.928108, -43.635375, BR, Estrada de Santa Eugênia, Zona Oeste}      |085bab2c-87ad-452a-bd0f-8b1451509f84|[2]    |[]    |Usado       |Apartamento |Residencial|[1] |[{0, 0, Venda, 15000}]      |\n",
            "|0    |[]        |[12]     |[0]      |[Portaria 24h, Elevador]                                                                                                       |{Centro, 20231047, Rio de Janeiro, Rio de Janeiro, -22.913152, -43.184043, BR, Rua dos Inválidos, Zona Central}              |096ad966-dc36-47bf-8795-5604f078713a|[0]    |[]    |Usado       |Outros      |Comercial  |[1] |[{250, null, Venda, 20000}] |\n",
            "|1    |[41]      |[41]     |[1]      |[Portaria 24h, Condomínio fechado, Playground, Salão de festas, Churrasqueira, Portão eletrônico]                              |{Guaratiba, 23036060, Rio de Janeiro, Rio de Janeiro, -22.948756, -43.582824, BR, Estrada Cabuçu de Baixo, Zona Oeste}       |18d22cbe-1b86-4764-8def-70c615f15a61|[2]    |[]    |Usado       |Apartamento |Residencial|[1] |[{0, 0, Venda, 20000}]      |\n",
            "|3    |[43]      |[43]     |[1]      |[Churrasqueira, Piscina, Playground, Salão de festas, Condomínio fechado, Portão eletrônico, Portaria 24h, Animais permitidos] |{Cosmos, 23066271, Rio de Janeiro, Rio de Janeiro, -22.888194, -43.629602, BR, Estrada da Paciência, Zona Oeste}             |bed8a354-9317-4426-b27e-1c798f864271|[2]    |[]    |Usado       |Apartamento |Residencial|[0] |[{285, null, Venda, 20000}] |\n",
            "|0    |[10]      |[4]      |[0]      |[Elevador, Portaria 24h]                                                                                                       |{Centro, 20080021, Rio de Janeiro, Rio de Janeiro, -22.900167, -43.183256, BR, Rua dos Andradas, Zona Central}               |b7d0fbd3-0b28-4203-b7d2-5a63b6f6f7aa|[0]    |[]    |Usado       |Outros      |Comercial  |[0] |[{200, 86, Venda, 11500}]   |\n",
            "|0    |[12]      |[12]     |[1]      |[Portaria 24h]                                                                                                                 |{Copacabana, 22021010, Rio de Janeiro, Rio de Janeiro, -22.965218, -43.179086, BR, Rua Ministro Viveiros de Castro, Zona Sul}|c6571c11-166e-4a4c-acdf-10da35afd5fa|[0]    |[]    |Usado       |Outros      |Comercial  |[]  |[{470, null, Venda, 12000}] |\n",
            "|0    |[17]      |[17]     |[0]      |[Elevador]                                                                                                                     |{Centro, 20070021, Rio de Janeiro, Rio de Janeiro, -22.902503, -43.177944, BR, Rua Buenos Aires, Zona Central}               |46d5b560-205f-45fe-9223-f2a4db04545c|[0]    |[]    |Usado       |Outros      |Comercial  |[1] |[{294, 98, Venda, 18000}]   |\n",
            "|1    |[32]      |[32]     |[]       |[Elevador, Condomínio fechado, Portão eletrônico]                                                                              |{Centro, 20090020, Rio de Janeiro, Rio de Janeiro, -22.898297, -43.178573, BR, Rua Cortines Laxe, Zona Central}              |db197997-00e6-4d6d-8066-45cbbf3ac56c|[]     |[]    |Usado       |Outros      |Comercial  |[1] |[{684, null, Venda, 15000}] |\n",
            "+-----+----------+---------+---------+-------------------------------------------------------------------------------------------------------------------------------+-----------------------------------------------------------------------------------------------------------------------------+------------------------------------+-------+------+------------+------------+-----------+----+----------------------------+\n",
            "only showing top 15 rows\n",
            "\n"
          ]
        }
      ]
    },
    {
      "cell_type": "code",
      "source": [
        "colunas_corrigir = ['area_total', 'area_util', 'banheiros', 'quartos', 'suites', 'vaga']"
      ],
      "metadata": {
        "id": "lpGIAN3w-Z4O"
      },
      "execution_count": 17,
      "outputs": []
    },
    {
      "cell_type": "code",
      "source": [
        "# Tranformando as variáveis de array para seu determinado tipo\n",
        "imoveisRJ_anuncio_corr = imoveisRJ_anuncio.select([f.col(c)[0].alias(c) if c in colunas_corrigir else c for c in imoveisRJ_anuncio.columns])\n",
        "imoveisRJ_anuncio_corr.show()"
      ],
      "metadata": {
        "colab": {
          "base_uri": "https://localhost:8080/"
        },
        "id": "cXna6U_w9-Zm",
        "outputId": "71db8e71-ed64-441b-c764-e6236d25a75e"
      },
      "execution_count": 18,
      "outputs": [
        {
          "output_type": "stream",
          "name": "stdout",
          "text": [
            "+-----+----------+---------+---------+--------------------+--------------------+--------------------+-------+------+------------+------------+-----------+----+--------------------+\n",
            "|andar|area_total|area_util|banheiros|     caracteristicas|            endereco|                  id|quartos|suites|tipo_anuncio|tipo_unidade|   tipo_uso|vaga|             valores|\n",
            "+-----+----------+---------+---------+--------------------+--------------------+--------------------+-------+------+------------+------------+-----------+----+--------------------+\n",
            "|    0|      null|       16|        0|                  []|{Centro, 20061003...|47d553e0-79f2-4a4...|      0|     0|       Usado|      Outros|  Comercial|   1|[{260, 107, Venda...|\n",
            "|    0|      null|       14|        0|                  []|{Centro, 20051040...|b6ffbae1-17f6-487...|      0|  null|       Usado|      Outros|  Comercial|   0|[{260, 107, Venda...|\n",
            "|    0|      1026|     1026|        0|                  []|{Maria da Graça, ...|1fb030a5-9e3e-4a1...|      0|  null|       Usado|      Outros|  Comercial|   0|[{null, 1613, Ven...|\n",
            "|    0|       120|      120|        0|[Portão eletrônic...|{Campo Grande, 23...|ac6cb348-69d6-45a...|      0|  null|       Usado|      Outros|Residencial|null|[{80, null, Venda...|\n",
            "|    0|         3|        3|        0|                  []|{São Cristóvão, 2...|e032b908-ef42-4d4...|      0|  null|       Usado|      Outros|Residencial|null|[{0, 0, Venda, 50...|\n",
            "|    0|        20|       15|        1|                  []|{Centro, 20231047...|df9cf0b8-b972-433...|      0|  null|       Usado|      Outros|  Comercial|   1|[{223, 87, Venda,...|\n",
            "|    3|        43|       43|        1|[Academia, Churra...|{Paciência, 23585...|d2e3a3aa-09b5-45a...|      2|  null|       Usado| Apartamento|Residencial|   1|[{245, null, Vend...|\n",
            "|    2|        42|       42|        1|[Churrasqueira, P...|{Paciência, 23585...|085bab2c-87ad-452...|      2|  null|       Usado| Apartamento|Residencial|   1|[{0, 0, Venda, 15...|\n",
            "|    0|      null|       12|        0|[Portaria 24h, El...|{Centro, 20231047...|096ad966-dc36-47b...|      0|  null|       Usado|      Outros|  Comercial|   1|[{250, null, Vend...|\n",
            "|    1|        41|       41|        1|[Portaria 24h, Co...|{Guaratiba, 23036...|18d22cbe-1b86-476...|      2|  null|       Usado| Apartamento|Residencial|   1|[{0, 0, Venda, 20...|\n",
            "|    3|        43|       43|        1|[Churrasqueira, P...|{Cosmos, 23066271...|bed8a354-9317-442...|      2|  null|       Usado| Apartamento|Residencial|   0|[{285, null, Vend...|\n",
            "|    0|        10|        4|        0|[Elevador, Portar...|{Centro, 20080021...|b7d0fbd3-0b28-420...|      0|  null|       Usado|      Outros|  Comercial|   0|[{200, 86, Venda,...|\n",
            "|    0|        12|       12|        1|      [Portaria 24h]|{Copacabana, 2202...|c6571c11-166e-4a4...|      0|  null|       Usado|      Outros|  Comercial|null|[{470, null, Vend...|\n",
            "|    0|        17|       17|        0|          [Elevador]|{Centro, 20070021...|46d5b560-205f-45f...|      0|  null|       Usado|      Outros|  Comercial|   1|[{294, 98, Venda,...|\n",
            "|    1|        32|       32|     null|[Elevador, Condom...|{Centro, 20090020...|db197997-00e6-4d6...|   null|  null|       Usado|      Outros|  Comercial|   1|[{684, null, Vend...|\n",
            "|    0|      null|       10|        0|[Elevador, Condom...|{Saúde, 20080040,...|835d4338-4aa9-4e4...|      0|  null|       Usado|      Outros|  Comercial|null|[{0, 120, Venda, ...|\n",
            "|    2|        43|       43|        1|[Academia, Churra...|{Guaratiba, 23036...|12a13315-d67f-48f...|      2|  null|       Usado| Apartamento|Residencial|   1|[{245, null, Vend...|\n",
            "|    3|        43|       43|        1|[Churrasqueira, P...|{Cosmos, 23066271...|a2e6d7a5-0ff0-484...|      2|     0|       Usado| Apartamento|Residencial|   0|[{285, null, Vend...|\n",
            "|    3|        43|       43|        1|[Churrasqueira, P...|{Paciência, 23585...|a6e3173b-c950-4db...|      2|  null|       Usado| Apartamento|Residencial|   1|[{250, null, Vend...|\n",
            "|    3|        43|       43|        1|[Churrasqueira, P...|{Guaratiba, 23036...|2e6e5dfb-206c-496...|      2|     0|       Usado| Apartamento|Residencial|   1|[{245, null, Vend...|\n",
            "+-----+----------+---------+---------+--------------------+--------------------+--------------------+-------+------+------------+------------+-----------+----+--------------------+\n",
            "only showing top 20 rows\n",
            "\n"
          ]
        }
      ]
    },
    {
      "cell_type": "code",
      "source": [
        "imoveisRJ_anuncio_corr.limit(10).toPandas()"
      ],
      "metadata": {
        "colab": {
          "base_uri": "https://localhost:8080/",
          "height": 615
        },
        "id": "0toFTN6bd4Le",
        "outputId": "e8278cff-3263-4cc1-ed59-f868a73bb839"
      },
      "execution_count": 19,
      "outputs": [
        {
          "output_type": "execute_result",
          "data": {
            "text/plain": [
              "   andar area_total area_util  banheiros  \\\n",
              "0      0       None        16          0   \n",
              "1      0       None        14          0   \n",
              "2      0       1026      1026          0   \n",
              "3      0        120       120          0   \n",
              "4      0          3         3          0   \n",
              "5      0         20        15          1   \n",
              "6      3         43        43          1   \n",
              "7      2         42        42          1   \n",
              "8      0       None        12          0   \n",
              "9      1         41        41          1   \n",
              "\n",
              "                                     caracteristicas  \\\n",
              "0                                                 []   \n",
              "1                                                 []   \n",
              "2                                                 []   \n",
              "3            [Portão eletrônico, Condomínio fechado]   \n",
              "4                                                 []   \n",
              "5                                                 []   \n",
              "6  [Academia, Churrasqueira, Playground, Salão de...   \n",
              "7  [Churrasqueira, Playground, Salão de festas, C...   \n",
              "8                           [Portaria 24h, Elevador]   \n",
              "9  [Portaria 24h, Condomínio fechado, Playground,...   \n",
              "\n",
              "                                            endereco  \\\n",
              "0  (Centro, 20061003, Rio de Janeiro, Rio de Jane...   \n",
              "1  (Centro, 20051040, Rio de Janeiro, Rio de Jane...   \n",
              "2  (Maria da Graça, 20785360, Rio de Janeiro, Rio...   \n",
              "3  (Campo Grande, 23095071, Rio de Janeiro, Rio d...   \n",
              "4  (São Cristóvão, 20931670, Rio de Janeiro, Rio ...   \n",
              "5  (Centro, 20231047, Rio de Janeiro, Rio de Jane...   \n",
              "6  (Paciência, 23585430, Rio de Janeiro, Rio de J...   \n",
              "7  (Paciência, 23585430, Rio de Janeiro, Rio de J...   \n",
              "8  (Centro, 20231047, Rio de Janeiro, Rio de Jane...   \n",
              "9  (Guaratiba, 23036060, Rio de Janeiro, Rio de J...   \n",
              "\n",
              "                                     id  quartos  suites tipo_anuncio  \\\n",
              "0  47d553e0-79f2-4a46-9390-5a3c962740c2        0     0.0        Usado   \n",
              "1  b6ffbae1-17f6-4870-9950-e998ac1c8d6a        0     NaN        Usado   \n",
              "2  1fb030a5-9e3e-4a1d-93cd-cd2d8a215e11        0     NaN        Usado   \n",
              "3  ac6cb348-69d6-45af-9589-dc34099370d8        0     NaN        Usado   \n",
              "4  e032b908-ef42-4d4a-8125-eba4792bacbe        0     NaN        Usado   \n",
              "5  df9cf0b8-b972-4334-88c9-87ef528806df        0     NaN        Usado   \n",
              "6  d2e3a3aa-09b5-45a0-9dcd-918847cd3ca3        2     NaN        Usado   \n",
              "7  085bab2c-87ad-452a-bd0f-8b1451509f84        2     NaN        Usado   \n",
              "8  096ad966-dc36-47bf-8795-5604f078713a        0     NaN        Usado   \n",
              "9  18d22cbe-1b86-4764-8def-70c615f15a61        2     NaN        Usado   \n",
              "\n",
              "  tipo_unidade     tipo_uso  vaga                       valores  \n",
              "0       Outros    Comercial   1.0    [(260, 107, Venda, 10000)]  \n",
              "1       Outros    Comercial   0.0    [(260, 107, Venda, 10000)]  \n",
              "2       Outros    Comercial   0.0  [(None, 1613, Venda, 10000)]  \n",
              "3       Outros  Residencial   NaN    [(80, None, Venda, 10000)]  \n",
              "4       Outros  Residencial   NaN         [(0, 0, Venda, 5000)]  \n",
              "5       Outros    Comercial   1.0     [(223, 87, Venda, 18500)]  \n",
              "6  Apartamento  Residencial   1.0   [(245, None, Venda, 15000)]  \n",
              "7  Apartamento  Residencial   1.0        [(0, 0, Venda, 15000)]  \n",
              "8       Outros    Comercial   1.0   [(250, None, Venda, 20000)]  \n",
              "9  Apartamento  Residencial   1.0        [(0, 0, Venda, 20000)]  "
            ],
            "text/html": [
              "\n",
              "  <div id=\"df-4a78e387-b82e-4a9f-8e5c-a957a4cfff02\">\n",
              "    <div class=\"colab-df-container\">\n",
              "      <div>\n",
              "<style scoped>\n",
              "    .dataframe tbody tr th:only-of-type {\n",
              "        vertical-align: middle;\n",
              "    }\n",
              "\n",
              "    .dataframe tbody tr th {\n",
              "        vertical-align: top;\n",
              "    }\n",
              "\n",
              "    .dataframe thead th {\n",
              "        text-align: right;\n",
              "    }\n",
              "</style>\n",
              "<table border=\"1\" class=\"dataframe\">\n",
              "  <thead>\n",
              "    <tr style=\"text-align: right;\">\n",
              "      <th></th>\n",
              "      <th>andar</th>\n",
              "      <th>area_total</th>\n",
              "      <th>area_util</th>\n",
              "      <th>banheiros</th>\n",
              "      <th>caracteristicas</th>\n",
              "      <th>endereco</th>\n",
              "      <th>id</th>\n",
              "      <th>quartos</th>\n",
              "      <th>suites</th>\n",
              "      <th>tipo_anuncio</th>\n",
              "      <th>tipo_unidade</th>\n",
              "      <th>tipo_uso</th>\n",
              "      <th>vaga</th>\n",
              "      <th>valores</th>\n",
              "    </tr>\n",
              "  </thead>\n",
              "  <tbody>\n",
              "    <tr>\n",
              "      <th>0</th>\n",
              "      <td>0</td>\n",
              "      <td>None</td>\n",
              "      <td>16</td>\n",
              "      <td>0</td>\n",
              "      <td>[]</td>\n",
              "      <td>(Centro, 20061003, Rio de Janeiro, Rio de Jane...</td>\n",
              "      <td>47d553e0-79f2-4a46-9390-5a3c962740c2</td>\n",
              "      <td>0</td>\n",
              "      <td>0.0</td>\n",
              "      <td>Usado</td>\n",
              "      <td>Outros</td>\n",
              "      <td>Comercial</td>\n",
              "      <td>1.0</td>\n",
              "      <td>[(260, 107, Venda, 10000)]</td>\n",
              "    </tr>\n",
              "    <tr>\n",
              "      <th>1</th>\n",
              "      <td>0</td>\n",
              "      <td>None</td>\n",
              "      <td>14</td>\n",
              "      <td>0</td>\n",
              "      <td>[]</td>\n",
              "      <td>(Centro, 20051040, Rio de Janeiro, Rio de Jane...</td>\n",
              "      <td>b6ffbae1-17f6-4870-9950-e998ac1c8d6a</td>\n",
              "      <td>0</td>\n",
              "      <td>NaN</td>\n",
              "      <td>Usado</td>\n",
              "      <td>Outros</td>\n",
              "      <td>Comercial</td>\n",
              "      <td>0.0</td>\n",
              "      <td>[(260, 107, Venda, 10000)]</td>\n",
              "    </tr>\n",
              "    <tr>\n",
              "      <th>2</th>\n",
              "      <td>0</td>\n",
              "      <td>1026</td>\n",
              "      <td>1026</td>\n",
              "      <td>0</td>\n",
              "      <td>[]</td>\n",
              "      <td>(Maria da Graça, 20785360, Rio de Janeiro, Rio...</td>\n",
              "      <td>1fb030a5-9e3e-4a1d-93cd-cd2d8a215e11</td>\n",
              "      <td>0</td>\n",
              "      <td>NaN</td>\n",
              "      <td>Usado</td>\n",
              "      <td>Outros</td>\n",
              "      <td>Comercial</td>\n",
              "      <td>0.0</td>\n",
              "      <td>[(None, 1613, Venda, 10000)]</td>\n",
              "    </tr>\n",
              "    <tr>\n",
              "      <th>3</th>\n",
              "      <td>0</td>\n",
              "      <td>120</td>\n",
              "      <td>120</td>\n",
              "      <td>0</td>\n",
              "      <td>[Portão eletrônico, Condomínio fechado]</td>\n",
              "      <td>(Campo Grande, 23095071, Rio de Janeiro, Rio d...</td>\n",
              "      <td>ac6cb348-69d6-45af-9589-dc34099370d8</td>\n",
              "      <td>0</td>\n",
              "      <td>NaN</td>\n",
              "      <td>Usado</td>\n",
              "      <td>Outros</td>\n",
              "      <td>Residencial</td>\n",
              "      <td>NaN</td>\n",
              "      <td>[(80, None, Venda, 10000)]</td>\n",
              "    </tr>\n",
              "    <tr>\n",
              "      <th>4</th>\n",
              "      <td>0</td>\n",
              "      <td>3</td>\n",
              "      <td>3</td>\n",
              "      <td>0</td>\n",
              "      <td>[]</td>\n",
              "      <td>(São Cristóvão, 20931670, Rio de Janeiro, Rio ...</td>\n",
              "      <td>e032b908-ef42-4d4a-8125-eba4792bacbe</td>\n",
              "      <td>0</td>\n",
              "      <td>NaN</td>\n",
              "      <td>Usado</td>\n",
              "      <td>Outros</td>\n",
              "      <td>Residencial</td>\n",
              "      <td>NaN</td>\n",
              "      <td>[(0, 0, Venda, 5000)]</td>\n",
              "    </tr>\n",
              "    <tr>\n",
              "      <th>5</th>\n",
              "      <td>0</td>\n",
              "      <td>20</td>\n",
              "      <td>15</td>\n",
              "      <td>1</td>\n",
              "      <td>[]</td>\n",
              "      <td>(Centro, 20231047, Rio de Janeiro, Rio de Jane...</td>\n",
              "      <td>df9cf0b8-b972-4334-88c9-87ef528806df</td>\n",
              "      <td>0</td>\n",
              "      <td>NaN</td>\n",
              "      <td>Usado</td>\n",
              "      <td>Outros</td>\n",
              "      <td>Comercial</td>\n",
              "      <td>1.0</td>\n",
              "      <td>[(223, 87, Venda, 18500)]</td>\n",
              "    </tr>\n",
              "    <tr>\n",
              "      <th>6</th>\n",
              "      <td>3</td>\n",
              "      <td>43</td>\n",
              "      <td>43</td>\n",
              "      <td>1</td>\n",
              "      <td>[Academia, Churrasqueira, Playground, Salão de...</td>\n",
              "      <td>(Paciência, 23585430, Rio de Janeiro, Rio de J...</td>\n",
              "      <td>d2e3a3aa-09b5-45a0-9dcd-918847cd3ca3</td>\n",
              "      <td>2</td>\n",
              "      <td>NaN</td>\n",
              "      <td>Usado</td>\n",
              "      <td>Apartamento</td>\n",
              "      <td>Residencial</td>\n",
              "      <td>1.0</td>\n",
              "      <td>[(245, None, Venda, 15000)]</td>\n",
              "    </tr>\n",
              "    <tr>\n",
              "      <th>7</th>\n",
              "      <td>2</td>\n",
              "      <td>42</td>\n",
              "      <td>42</td>\n",
              "      <td>1</td>\n",
              "      <td>[Churrasqueira, Playground, Salão de festas, C...</td>\n",
              "      <td>(Paciência, 23585430, Rio de Janeiro, Rio de J...</td>\n",
              "      <td>085bab2c-87ad-452a-bd0f-8b1451509f84</td>\n",
              "      <td>2</td>\n",
              "      <td>NaN</td>\n",
              "      <td>Usado</td>\n",
              "      <td>Apartamento</td>\n",
              "      <td>Residencial</td>\n",
              "      <td>1.0</td>\n",
              "      <td>[(0, 0, Venda, 15000)]</td>\n",
              "    </tr>\n",
              "    <tr>\n",
              "      <th>8</th>\n",
              "      <td>0</td>\n",
              "      <td>None</td>\n",
              "      <td>12</td>\n",
              "      <td>0</td>\n",
              "      <td>[Portaria 24h, Elevador]</td>\n",
              "      <td>(Centro, 20231047, Rio de Janeiro, Rio de Jane...</td>\n",
              "      <td>096ad966-dc36-47bf-8795-5604f078713a</td>\n",
              "      <td>0</td>\n",
              "      <td>NaN</td>\n",
              "      <td>Usado</td>\n",
              "      <td>Outros</td>\n",
              "      <td>Comercial</td>\n",
              "      <td>1.0</td>\n",
              "      <td>[(250, None, Venda, 20000)]</td>\n",
              "    </tr>\n",
              "    <tr>\n",
              "      <th>9</th>\n",
              "      <td>1</td>\n",
              "      <td>41</td>\n",
              "      <td>41</td>\n",
              "      <td>1</td>\n",
              "      <td>[Portaria 24h, Condomínio fechado, Playground,...</td>\n",
              "      <td>(Guaratiba, 23036060, Rio de Janeiro, Rio de J...</td>\n",
              "      <td>18d22cbe-1b86-4764-8def-70c615f15a61</td>\n",
              "      <td>2</td>\n",
              "      <td>NaN</td>\n",
              "      <td>Usado</td>\n",
              "      <td>Apartamento</td>\n",
              "      <td>Residencial</td>\n",
              "      <td>1.0</td>\n",
              "      <td>[(0, 0, Venda, 20000)]</td>\n",
              "    </tr>\n",
              "  </tbody>\n",
              "</table>\n",
              "</div>\n",
              "      <button class=\"colab-df-convert\" onclick=\"convertToInteractive('df-4a78e387-b82e-4a9f-8e5c-a957a4cfff02')\"\n",
              "              title=\"Convert this dataframe to an interactive table.\"\n",
              "              style=\"display:none;\">\n",
              "        \n",
              "  <svg xmlns=\"http://www.w3.org/2000/svg\" height=\"24px\"viewBox=\"0 0 24 24\"\n",
              "       width=\"24px\">\n",
              "    <path d=\"M0 0h24v24H0V0z\" fill=\"none\"/>\n",
              "    <path d=\"M18.56 5.44l.94 2.06.94-2.06 2.06-.94-2.06-.94-.94-2.06-.94 2.06-2.06.94zm-11 1L8.5 8.5l.94-2.06 2.06-.94-2.06-.94L8.5 2.5l-.94 2.06-2.06.94zm10 10l.94 2.06.94-2.06 2.06-.94-2.06-.94-.94-2.06-.94 2.06-2.06.94z\"/><path d=\"M17.41 7.96l-1.37-1.37c-.4-.4-.92-.59-1.43-.59-.52 0-1.04.2-1.43.59L10.3 9.45l-7.72 7.72c-.78.78-.78 2.05 0 2.83L4 21.41c.39.39.9.59 1.41.59.51 0 1.02-.2 1.41-.59l7.78-7.78 2.81-2.81c.8-.78.8-2.07 0-2.86zM5.41 20L4 18.59l7.72-7.72 1.47 1.35L5.41 20z\"/>\n",
              "  </svg>\n",
              "      </button>\n",
              "      \n",
              "  <style>\n",
              "    .colab-df-container {\n",
              "      display:flex;\n",
              "      flex-wrap:wrap;\n",
              "      gap: 12px;\n",
              "    }\n",
              "\n",
              "    .colab-df-convert {\n",
              "      background-color: #E8F0FE;\n",
              "      border: none;\n",
              "      border-radius: 50%;\n",
              "      cursor: pointer;\n",
              "      display: none;\n",
              "      fill: #1967D2;\n",
              "      height: 32px;\n",
              "      padding: 0 0 0 0;\n",
              "      width: 32px;\n",
              "    }\n",
              "\n",
              "    .colab-df-convert:hover {\n",
              "      background-color: #E2EBFA;\n",
              "      box-shadow: 0px 1px 2px rgba(60, 64, 67, 0.3), 0px 1px 3px 1px rgba(60, 64, 67, 0.15);\n",
              "      fill: #174EA6;\n",
              "    }\n",
              "\n",
              "    [theme=dark] .colab-df-convert {\n",
              "      background-color: #3B4455;\n",
              "      fill: #D2E3FC;\n",
              "    }\n",
              "\n",
              "    [theme=dark] .colab-df-convert:hover {\n",
              "      background-color: #434B5C;\n",
              "      box-shadow: 0px 1px 3px 1px rgba(0, 0, 0, 0.15);\n",
              "      filter: drop-shadow(0px 1px 2px rgba(0, 0, 0, 0.3));\n",
              "      fill: #FFFFFF;\n",
              "    }\n",
              "  </style>\n",
              "\n",
              "      <script>\n",
              "        const buttonEl =\n",
              "          document.querySelector('#df-4a78e387-b82e-4a9f-8e5c-a957a4cfff02 button.colab-df-convert');\n",
              "        buttonEl.style.display =\n",
              "          google.colab.kernel.accessAllowed ? 'block' : 'none';\n",
              "\n",
              "        async function convertToInteractive(key) {\n",
              "          const element = document.querySelector('#df-4a78e387-b82e-4a9f-8e5c-a957a4cfff02');\n",
              "          const dataTable =\n",
              "            await google.colab.kernel.invokeFunction('convertToInteractive',\n",
              "                                                     [key], {});\n",
              "          if (!dataTable) return;\n",
              "\n",
              "          const docLinkHtml = 'Like what you see? Visit the ' +\n",
              "            '<a target=\"_blank\" href=https://colab.research.google.com/notebooks/data_table.ipynb>data table notebook</a>'\n",
              "            + ' to learn more about interactive tables.';\n",
              "          element.innerHTML = '';\n",
              "          dataTable['output_type'] = 'display_data';\n",
              "          await google.colab.output.renderOutput(dataTable, element);\n",
              "          const docLink = document.createElement('div');\n",
              "          docLink.innerHTML = docLinkHtml;\n",
              "          element.appendChild(docLink);\n",
              "        }\n",
              "      </script>\n",
              "    </div>\n",
              "  </div>\n",
              "  "
            ]
          },
          "metadata": {},
          "execution_count": 19
        }
      ]
    },
    {
      "cell_type": "code",
      "source": [
        "imoveisRJ_anuncio_corr.summary()"
      ],
      "metadata": {
        "colab": {
          "base_uri": "https://localhost:8080/"
        },
        "id": "gi2Ms2w0wiVE",
        "outputId": "b00f8102-5ed7-453f-bc8e-f581eb70ad19"
      },
      "execution_count": 20,
      "outputs": [
        {
          "output_type": "execute_result",
          "data": {
            "text/plain": [
              "DataFrame[summary: string, andar: string, area_total: string, area_util: string, banheiros: string, id: string, quartos: string, suites: string, tipo_anuncio: string, tipo_unidade: string, tipo_uso: string, vaga: string]"
            ]
          },
          "metadata": {},
          "execution_count": 20
        }
      ]
    },
    {
      "cell_type": "code",
      "source": [
        "#Tranformando as variáveis de StringType para IntegerType\n",
        "imoveisRJ_anuncio_corr = imoveisRJ_anuncio_corr.withColumn('area_total', imoveisRJ_anuncio_corr['area_total'].cast(IntegerType()))\n",
        "imoveisRJ_anuncio_corr = imoveisRJ_anuncio_corr.withColumn('area_util', imoveisRJ_anuncio_corr['area_util'].cast(IntegerType()))\n",
        "imoveisRJ_anuncio_corr = imoveisRJ_anuncio_corr.withColumn('banheiros', imoveisRJ_anuncio_corr['banheiros'].cast(IntegerType()))\n",
        "imoveisRJ_anuncio_corr = imoveisRJ_anuncio_corr.withColumn('quartos', imoveisRJ_anuncio_corr['quartos'].cast(IntegerType()))\n",
        "imoveisRJ_anuncio_corr = imoveisRJ_anuncio_corr.withColumn('vaga', imoveisRJ_anuncio_corr['vaga'].cast(IntegerType()))\n",
        "imoveisRJ_anuncio_corr = imoveisRJ_anuncio_corr.withColumn('suites', imoveisRJ_anuncio_corr['suites'].cast(IntegerType()))\n",
        "\n",
        "imoveisRJ_anuncio_corr.printSchema()"
      ],
      "metadata": {
        "colab": {
          "base_uri": "https://localhost:8080/"
        },
        "id": "hPr83BxD3D8T",
        "outputId": "b24f3a50-cb7a-4ce5-a47d-b501f54ce137"
      },
      "execution_count": 21,
      "outputs": [
        {
          "output_type": "stream",
          "name": "stdout",
          "text": [
            "root\n",
            " |-- andar: long (nullable = true)\n",
            " |-- area_total: integer (nullable = true)\n",
            " |-- area_util: integer (nullable = true)\n",
            " |-- banheiros: integer (nullable = true)\n",
            " |-- caracteristicas: array (nullable = true)\n",
            " |    |-- element: string (containsNull = true)\n",
            " |-- endereco: struct (nullable = true)\n",
            " |    |-- bairro: string (nullable = true)\n",
            " |    |-- cep: string (nullable = true)\n",
            " |    |-- cidade: string (nullable = true)\n",
            " |    |-- estado: string (nullable = true)\n",
            " |    |-- latitude: double (nullable = true)\n",
            " |    |-- longitude: double (nullable = true)\n",
            " |    |-- pais: string (nullable = true)\n",
            " |    |-- rua: string (nullable = true)\n",
            " |    |-- zona: string (nullable = true)\n",
            " |-- id: string (nullable = true)\n",
            " |-- quartos: integer (nullable = true)\n",
            " |-- suites: integer (nullable = true)\n",
            " |-- tipo_anuncio: string (nullable = true)\n",
            " |-- tipo_unidade: string (nullable = true)\n",
            " |-- tipo_uso: string (nullable = true)\n",
            " |-- vaga: integer (nullable = true)\n",
            " |-- valores: array (nullable = true)\n",
            " |    |-- element: struct (containsNull = true)\n",
            " |    |    |-- condominio: string (nullable = true)\n",
            " |    |    |-- iptu: string (nullable = true)\n",
            " |    |    |-- tipo: string (nullable = true)\n",
            " |    |    |-- valor: string (nullable = true)\n",
            "\n"
          ]
        }
      ]
    },
    {
      "cell_type": "markdown",
      "source": [
        "# Analisando a distribuição dos tipos de unidade, uso e anuncio"
      ],
      "metadata": {
        "id": "reS5iFtSHFLE"
      }
    },
    {
      "cell_type": "code",
      "source": [
        "#Bibliotecas adicionais\n",
        "import pandas as pd\n",
        "import numpy as np\n",
        "import seaborn as sns"
      ],
      "metadata": {
        "id": "DcxRqL6w3fJR"
      },
      "execution_count": 22,
      "outputs": []
    },
    {
      "cell_type": "code",
      "source": [
        "#Distribuição em tipo de unidades\n",
        "tipo_unidade = imoveisRJ_anuncio_corr.groupBy(\"tipo_unidade\").count()\n",
        "tipo_unidade = tipo_unidade.withColumn('count', tipo_unidade['count'].cast(IntegerType()))\n",
        "tipo_unidadepd = tipo_unidade.toPandas()\n",
        "tipo_unidadepd"
      ],
      "metadata": {
        "colab": {
          "base_uri": "https://localhost:8080/",
          "height": 143
        },
        "id": "_GXIrN9dFdPc",
        "outputId": "726c7b50-1374-4235-848c-61f186bf9771"
      },
      "execution_count": 23,
      "outputs": [
        {
          "output_type": "execute_result",
          "data": {
            "text/plain": [
              "  tipo_unidade  count\n",
              "0       Outros  11963\n",
              "1  Apartamento  66801\n",
              "2         Casa  10319"
            ],
            "text/html": [
              "\n",
              "  <div id=\"df-f259bae4-4524-4b96-9b75-0eab830d2458\">\n",
              "    <div class=\"colab-df-container\">\n",
              "      <div>\n",
              "<style scoped>\n",
              "    .dataframe tbody tr th:only-of-type {\n",
              "        vertical-align: middle;\n",
              "    }\n",
              "\n",
              "    .dataframe tbody tr th {\n",
              "        vertical-align: top;\n",
              "    }\n",
              "\n",
              "    .dataframe thead th {\n",
              "        text-align: right;\n",
              "    }\n",
              "</style>\n",
              "<table border=\"1\" class=\"dataframe\">\n",
              "  <thead>\n",
              "    <tr style=\"text-align: right;\">\n",
              "      <th></th>\n",
              "      <th>tipo_unidade</th>\n",
              "      <th>count</th>\n",
              "    </tr>\n",
              "  </thead>\n",
              "  <tbody>\n",
              "    <tr>\n",
              "      <th>0</th>\n",
              "      <td>Outros</td>\n",
              "      <td>11963</td>\n",
              "    </tr>\n",
              "    <tr>\n",
              "      <th>1</th>\n",
              "      <td>Apartamento</td>\n",
              "      <td>66801</td>\n",
              "    </tr>\n",
              "    <tr>\n",
              "      <th>2</th>\n",
              "      <td>Casa</td>\n",
              "      <td>10319</td>\n",
              "    </tr>\n",
              "  </tbody>\n",
              "</table>\n",
              "</div>\n",
              "      <button class=\"colab-df-convert\" onclick=\"convertToInteractive('df-f259bae4-4524-4b96-9b75-0eab830d2458')\"\n",
              "              title=\"Convert this dataframe to an interactive table.\"\n",
              "              style=\"display:none;\">\n",
              "        \n",
              "  <svg xmlns=\"http://www.w3.org/2000/svg\" height=\"24px\"viewBox=\"0 0 24 24\"\n",
              "       width=\"24px\">\n",
              "    <path d=\"M0 0h24v24H0V0z\" fill=\"none\"/>\n",
              "    <path d=\"M18.56 5.44l.94 2.06.94-2.06 2.06-.94-2.06-.94-.94-2.06-.94 2.06-2.06.94zm-11 1L8.5 8.5l.94-2.06 2.06-.94-2.06-.94L8.5 2.5l-.94 2.06-2.06.94zm10 10l.94 2.06.94-2.06 2.06-.94-2.06-.94-.94-2.06-.94 2.06-2.06.94z\"/><path d=\"M17.41 7.96l-1.37-1.37c-.4-.4-.92-.59-1.43-.59-.52 0-1.04.2-1.43.59L10.3 9.45l-7.72 7.72c-.78.78-.78 2.05 0 2.83L4 21.41c.39.39.9.59 1.41.59.51 0 1.02-.2 1.41-.59l7.78-7.78 2.81-2.81c.8-.78.8-2.07 0-2.86zM5.41 20L4 18.59l7.72-7.72 1.47 1.35L5.41 20z\"/>\n",
              "  </svg>\n",
              "      </button>\n",
              "      \n",
              "  <style>\n",
              "    .colab-df-container {\n",
              "      display:flex;\n",
              "      flex-wrap:wrap;\n",
              "      gap: 12px;\n",
              "    }\n",
              "\n",
              "    .colab-df-convert {\n",
              "      background-color: #E8F0FE;\n",
              "      border: none;\n",
              "      border-radius: 50%;\n",
              "      cursor: pointer;\n",
              "      display: none;\n",
              "      fill: #1967D2;\n",
              "      height: 32px;\n",
              "      padding: 0 0 0 0;\n",
              "      width: 32px;\n",
              "    }\n",
              "\n",
              "    .colab-df-convert:hover {\n",
              "      background-color: #E2EBFA;\n",
              "      box-shadow: 0px 1px 2px rgba(60, 64, 67, 0.3), 0px 1px 3px 1px rgba(60, 64, 67, 0.15);\n",
              "      fill: #174EA6;\n",
              "    }\n",
              "\n",
              "    [theme=dark] .colab-df-convert {\n",
              "      background-color: #3B4455;\n",
              "      fill: #D2E3FC;\n",
              "    }\n",
              "\n",
              "    [theme=dark] .colab-df-convert:hover {\n",
              "      background-color: #434B5C;\n",
              "      box-shadow: 0px 1px 3px 1px rgba(0, 0, 0, 0.15);\n",
              "      filter: drop-shadow(0px 1px 2px rgba(0, 0, 0, 0.3));\n",
              "      fill: #FFFFFF;\n",
              "    }\n",
              "  </style>\n",
              "\n",
              "      <script>\n",
              "        const buttonEl =\n",
              "          document.querySelector('#df-f259bae4-4524-4b96-9b75-0eab830d2458 button.colab-df-convert');\n",
              "        buttonEl.style.display =\n",
              "          google.colab.kernel.accessAllowed ? 'block' : 'none';\n",
              "\n",
              "        async function convertToInteractive(key) {\n",
              "          const element = document.querySelector('#df-f259bae4-4524-4b96-9b75-0eab830d2458');\n",
              "          const dataTable =\n",
              "            await google.colab.kernel.invokeFunction('convertToInteractive',\n",
              "                                                     [key], {});\n",
              "          if (!dataTable) return;\n",
              "\n",
              "          const docLinkHtml = 'Like what you see? Visit the ' +\n",
              "            '<a target=\"_blank\" href=https://colab.research.google.com/notebooks/data_table.ipynb>data table notebook</a>'\n",
              "            + ' to learn more about interactive tables.';\n",
              "          element.innerHTML = '';\n",
              "          dataTable['output_type'] = 'display_data';\n",
              "          await google.colab.output.renderOutput(dataTable, element);\n",
              "          const docLink = document.createElement('div');\n",
              "          docLink.innerHTML = docLinkHtml;\n",
              "          element.appendChild(docLink);\n",
              "        }\n",
              "      </script>\n",
              "    </div>\n",
              "  </div>\n",
              "  "
            ]
          },
          "metadata": {},
          "execution_count": 23
        }
      ]
    },
    {
      "cell_type": "code",
      "source": [
        "sns.barplot(data=tipo_unidadepd, x='tipo_unidade', y='count')"
      ],
      "metadata": {
        "colab": {
          "base_uri": "https://localhost:8080/",
          "height": 301
        },
        "id": "GLnI2_DD5f_R",
        "outputId": "73ec6ca9-bb64-47fa-fe67-827871acac42"
      },
      "execution_count": 24,
      "outputs": [
        {
          "output_type": "execute_result",
          "data": {
            "text/plain": [
              "<matplotlib.axes._subplots.AxesSubplot at 0x7fa62ce8acd0>"
            ]
          },
          "metadata": {},
          "execution_count": 24
        },
        {
          "output_type": "display_data",
          "data": {
            "text/plain": [
              "<Figure size 432x288 with 1 Axes>"
            ],
            "image/png": "[encoded data removed]"
          },
          "metadata": {
            "needs_background": "light"
          }
        }
      ]
    },
    {
      "cell_type": "code",
      "source": [
        "tipo_unidade_apart = imoveisRJ_anuncio_corr.filter(\"tipo_unidade == 'Apartamento'\")\n",
        "tipo_unidade_apart.show()"
      ],
      "metadata": {
        "colab": {
          "base_uri": "https://localhost:8080/"
        },
        "id": "uhwqeaXe3lDt",
        "outputId": "9a405e0c-251e-484b-ba73-078dd5c7888c"
      },
      "execution_count": 25,
      "outputs": [
        {
          "output_type": "stream",
          "name": "stdout",
          "text": [
            "+-----+----------+---------+---------+--------------------+--------------------+--------------------+-------+------+------------+------------+-----------+----+--------------------+\n",
            "|andar|area_total|area_util|banheiros|     caracteristicas|            endereco|                  id|quartos|suites|tipo_anuncio|tipo_unidade|   tipo_uso|vaga|             valores|\n",
            "+-----+----------+---------+---------+--------------------+--------------------+--------------------+-------+------+------------+------------+-----------+----+--------------------+\n",
            "|    3|        43|       43|        1|[Academia, Churra...|{Paciência, 23585...|d2e3a3aa-09b5-45a...|      2|  null|       Usado| Apartamento|Residencial|   1|[{245, null, Vend...|\n",
            "|    2|        42|       42|        1|[Churrasqueira, P...|{Paciência, 23585...|085bab2c-87ad-452...|      2|  null|       Usado| Apartamento|Residencial|   1|[{0, 0, Venda, 15...|\n",
            "|    1|        41|       41|        1|[Portaria 24h, Co...|{Guaratiba, 23036...|18d22cbe-1b86-476...|      2|  null|       Usado| Apartamento|Residencial|   1|[{0, 0, Venda, 20...|\n",
            "|    3|        43|       43|        1|[Churrasqueira, P...|{Cosmos, 23066271...|bed8a354-9317-442...|      2|  null|       Usado| Apartamento|Residencial|   0|[{285, null, Vend...|\n",
            "|    2|        43|       43|        1|[Academia, Churra...|{Guaratiba, 23036...|12a13315-d67f-48f...|      2|  null|       Usado| Apartamento|Residencial|   1|[{245, null, Vend...|\n",
            "|    3|        43|       43|        1|[Churrasqueira, P...|{Cosmos, 23066271...|a2e6d7a5-0ff0-484...|      2|     0|       Usado| Apartamento|Residencial|   0|[{285, null, Vend...|\n",
            "|    3|        43|       43|        1|[Churrasqueira, P...|{Paciência, 23585...|a6e3173b-c950-4db...|      2|  null|       Usado| Apartamento|Residencial|   1|[{250, null, Vend...|\n",
            "|    3|        43|       43|        1|[Churrasqueira, P...|{Guaratiba, 23036...|2e6e5dfb-206c-496...|      2|     0|       Usado| Apartamento|Residencial|   1|[{245, null, Vend...|\n",
            "|    3|        43|       43|        1|[Churrasqueira, P...|{Paciência, 23585...|99f8d0f9-95a4-461...|      2|     0|       Usado| Apartamento|Residencial|   1|[{245, null, Vend...|\n",
            "|    4|        43|       43|        1|[Churrasqueira, P...|{Guaratiba, 23036...|b3f44c1a-2d50-4d5...|      2|  null|       Usado| Apartamento|Residencial|   1|[{240, null, Vend...|\n",
            "|    0|        60|       60|        1|[Condomínio fechado]|{Pedra de Guarati...|dc99d9e1-4c63-41f...|      2|  null|       Usado| Apartamento|Residencial|   1|[{0, 0, Venda, 15...|\n",
            "|    1|        43|       43|        1|[Churrasqueira, P...|{Cosmos, 23056630...|aa3606d8-8bcd-45e...|      2|  null|       Usado| Apartamento|Residencial|   1|[{240, 0, Venda, ...|\n",
            "|    0|        43|       43|        1|[Churrasqueira, P...|{Campo Grande, 23...|df80b0d5-677c-4be...|      2|     0|       Usado| Apartamento|Residencial|   0|[{245, null, Vend...|\n",
            "|    2|        43|       43|        1|[Academia, Churra...|{Santa Cruz, 2352...|3d6c0218-9b7d-474...|      2|  null|       Usado| Apartamento|Residencial|   2|[{290, null, Vend...|\n",
            "|    3|        43|       43|        1|[Salão de festas,...|{Guaratiba, 23020...|304266cc-62d1-4ce...|      2|  null|       Usado| Apartamento|Residencial|null|[{285, null, Vend...|\n",
            "|    4|        55|       55|        2|[Academia, Churra...|{Recreio dos Band...|111472a2-afa1-4a7...|      2|     1|       Usado| Apartamento|Residencial|   1|[{0, 0, Venda, 30...|\n",
            "|    0|        45|       45|        1|[Playground, Pisc...|{Cosmos, 23066271...|275c1589-6537-4bf...|      2|     0|       Usado| Apartamento|Residencial|   1|[{null, null, Ven...|\n",
            "|    5|        42|       42|        1|[Condomínio fecha...|{Realengo, 217251...|ab8f367f-7509-45c...|      2|     0|       Usado| Apartamento|Residencial|   0|[{280, 0, Venda, ...|\n",
            "|    1|        43|       43|        1|[Churrasqueira, P...|{Cosmos, 23058001...|e0a3d370-66dd-4f5...|      2|  null|       Usado| Apartamento|Residencial|   1|[{280, null, Vend...|\n",
            "|    3|      null|       55|        1|[Academia, Churra...|{Todos os Santos,...|09c8ba2d-dbf1-487...|      2|     1|       Usado| Apartamento|Residencial|   1|[{0, 0, Venda, 26...|\n",
            "+-----+----------+---------+---------+--------------------+--------------------+--------------------+-------+------+------------+------------+-----------+----+--------------------+\n",
            "only showing top 20 rows\n",
            "\n"
          ]
        }
      ]
    },
    {
      "cell_type": "code",
      "source": [
        "#Distribuição em tipo de uso\n",
        "tipo_uso = imoveisRJ_anuncio_corr.groupBy(\"tipo_uso\").count()\n",
        "tipo_uso = tipo_uso.withColumn('count', tipo_uso['count'].cast(IntegerType()))\n",
        "tipo_usopd = tipo_uso.toPandas()\n",
        "tipo_usopd"
      ],
      "metadata": {
        "colab": {
          "base_uri": "https://localhost:8080/",
          "height": 112
        },
        "id": "2TL3di1uFmh6",
        "outputId": "9e8144d8-2685-49ac-93cb-ca257958dd21"
      },
      "execution_count": 26,
      "outputs": [
        {
          "output_type": "execute_result",
          "data": {
            "text/plain": [
              "      tipo_uso  count\n",
              "0    Comercial   4542\n",
              "1  Residencial  84541"
            ],
            "text/html": [
              "\n",
              "  <div id=\"df-3b253024-472a-499e-9347-51259ecb8282\">\n",
              "    <div class=\"colab-df-container\">\n",
              "      <div>\n",
              "<style scoped>\n",
              "    .dataframe tbody tr th:only-of-type {\n",
              "        vertical-align: middle;\n",
              "    }\n",
              "\n",
              "    .dataframe tbody tr th {\n",
              "        vertical-align: top;\n",
              "    }\n",
              "\n",
              "    .dataframe thead th {\n",
              "        text-align: right;\n",
              "    }\n",
              "</style>\n",
              "<table border=\"1\" class=\"dataframe\">\n",
              "  <thead>\n",
              "    <tr style=\"text-align: right;\">\n",
              "      <th></th>\n",
              "      <th>tipo_uso</th>\n",
              "      <th>count</th>\n",
              "    </tr>\n",
              "  </thead>\n",
              "  <tbody>\n",
              "    <tr>\n",
              "      <th>0</th>\n",
              "      <td>Comercial</td>\n",
              "      <td>4542</td>\n",
              "    </tr>\n",
              "    <tr>\n",
              "      <th>1</th>\n",
              "      <td>Residencial</td>\n",
              "      <td>84541</td>\n",
              "    </tr>\n",
              "  </tbody>\n",
              "</table>\n",
              "</div>\n",
              "      <button class=\"colab-df-convert\" onclick=\"convertToInteractive('df-3b253024-472a-499e-9347-51259ecb8282')\"\n",
              "              title=\"Convert this dataframe to an interactive table.\"\n",
              "              style=\"display:none;\">\n",
              "        \n",
              "  <svg xmlns=\"http://www.w3.org/2000/svg\" height=\"24px\"viewBox=\"0 0 24 24\"\n",
              "       width=\"24px\">\n",
              "    <path d=\"M0 0h24v24H0V0z\" fill=\"none\"/>\n",
              "    <path d=\"M18.56 5.44l.94 2.06.94-2.06 2.06-.94-2.06-.94-.94-2.06-.94 2.06-2.06.94zm-11 1L8.5 8.5l.94-2.06 2.06-.94-2.06-.94L8.5 2.5l-.94 2.06-2.06.94zm10 10l.94 2.06.94-2.06 2.06-.94-2.06-.94-.94-2.06-.94 2.06-2.06.94z\"/><path d=\"M17.41 7.96l-1.37-1.37c-.4-.4-.92-.59-1.43-.59-.52 0-1.04.2-1.43.59L10.3 9.45l-7.72 7.72c-.78.78-.78 2.05 0 2.83L4 21.41c.39.39.9.59 1.41.59.51 0 1.02-.2 1.41-.59l7.78-7.78 2.81-2.81c.8-.78.8-2.07 0-2.86zM5.41 20L4 18.59l7.72-7.72 1.47 1.35L5.41 20z\"/>\n",
              "  </svg>\n",
              "      </button>\n",
              "      \n",
              "  <style>\n",
              "    .colab-df-container {\n",
              "      display:flex;\n",
              "      flex-wrap:wrap;\n",
              "      gap: 12px;\n",
              "    }\n",
              "\n",
              "    .colab-df-convert {\n",
              "      background-color: #E8F0FE;\n",
              "      border: none;\n",
              "      border-radius: 50%;\n",
              "      cursor: pointer;\n",
              "      display: none;\n",
              "      fill: #1967D2;\n",
              "      height: 32px;\n",
              "      padding: 0 0 0 0;\n",
              "      width: 32px;\n",
              "    }\n",
              "\n",
              "    .colab-df-convert:hover {\n",
              "      background-color: #E2EBFA;\n",
              "      box-shadow: 0px 1px 2px rgba(60, 64, 67, 0.3), 0px 1px 3px 1px rgba(60, 64, 67, 0.15);\n",
              "      fill: #174EA6;\n",
              "    }\n",
              "\n",
              "    [theme=dark] .colab-df-convert {\n",
              "      background-color: #3B4455;\n",
              "      fill: #D2E3FC;\n",
              "    }\n",
              "\n",
              "    [theme=dark] .colab-df-convert:hover {\n",
              "      background-color: #434B5C;\n",
              "      box-shadow: 0px 1px 3px 1px rgba(0, 0, 0, 0.15);\n",
              "      filter: drop-shadow(0px 1px 2px rgba(0, 0, 0, 0.3));\n",
              "      fill: #FFFFFF;\n",
              "    }\n",
              "  </style>\n",
              "\n",
              "      <script>\n",
              "        const buttonEl =\n",
              "          document.querySelector('#df-3b253024-472a-499e-9347-51259ecb8282 button.colab-df-convert');\n",
              "        buttonEl.style.display =\n",
              "          google.colab.kernel.accessAllowed ? 'block' : 'none';\n",
              "\n",
              "        async function convertToInteractive(key) {\n",
              "          const element = document.querySelector('#df-3b253024-472a-499e-9347-51259ecb8282');\n",
              "          const dataTable =\n",
              "            await google.colab.kernel.invokeFunction('convertToInteractive',\n",
              "                                                     [key], {});\n",
              "          if (!dataTable) return;\n",
              "\n",
              "          const docLinkHtml = 'Like what you see? Visit the ' +\n",
              "            '<a target=\"_blank\" href=https://colab.research.google.com/notebooks/data_table.ipynb>data table notebook</a>'\n",
              "            + ' to learn more about interactive tables.';\n",
              "          element.innerHTML = '';\n",
              "          dataTable['output_type'] = 'display_data';\n",
              "          await google.colab.output.renderOutput(dataTable, element);\n",
              "          const docLink = document.createElement('div');\n",
              "          docLink.innerHTML = docLinkHtml;\n",
              "          element.appendChild(docLink);\n",
              "        }\n",
              "      </script>\n",
              "    </div>\n",
              "  </div>\n",
              "  "
            ]
          },
          "metadata": {},
          "execution_count": 26
        }
      ]
    },
    {
      "cell_type": "code",
      "source": [
        "sns.barplot(data=tipo_usopd, x='tipo_uso', y='count')"
      ],
      "metadata": {
        "colab": {
          "base_uri": "https://localhost:8080/",
          "height": 297
        },
        "id": "_KUhqZxHOIUf",
        "outputId": "9ddf2f77-9da9-4f13-cb9f-cc2e7f76dc9e"
      },
      "execution_count": 27,
      "outputs": [
        {
          "output_type": "execute_result",
          "data": {
            "text/plain": [
              "<matplotlib.axes._subplots.AxesSubplot at 0x7fa62c8dcd90>"
            ]
          },
          "metadata": {},
          "execution_count": 27
        },
        {
          "output_type": "display_data",
          "data": {
            "text/plain": [
              "<Figure size 432x288 with 1 Axes>"
            ],
            "image/png": "[encoded data removed]"
          },
          "metadata": {
            "needs_background": "light"
          }
        }
      ]
    },
    {
      "cell_type": "code",
      "source": [
        "tipo_uso_res = imoveisRJ_anuncio_corr.filter(\"tipo_uso == 'Residencial'\")\n",
        "tipo_uso_res.show()"
      ],
      "metadata": {
        "colab": {
          "base_uri": "https://localhost:8080/"
        },
        "id": "kl-lznVT33US",
        "outputId": "039d3cb2-684a-41d2-c9ac-0e9f805df521"
      },
      "execution_count": 28,
      "outputs": [
        {
          "output_type": "stream",
          "name": "stdout",
          "text": [
            "+-----+----------+---------+---------+--------------------+--------------------+--------------------+-------+------+------------+------------+-----------+----+--------------------+\n",
            "|andar|area_total|area_util|banheiros|     caracteristicas|            endereco|                  id|quartos|suites|tipo_anuncio|tipo_unidade|   tipo_uso|vaga|             valores|\n",
            "+-----+----------+---------+---------+--------------------+--------------------+--------------------+-------+------+------------+------------+-----------+----+--------------------+\n",
            "|    0|       120|      120|        0|[Portão eletrônic...|{Campo Grande, 23...|ac6cb348-69d6-45a...|      0|  null|       Usado|      Outros|Residencial|null|[{80, null, Venda...|\n",
            "|    0|         3|        3|        0|                  []|{São Cristóvão, 2...|e032b908-ef42-4d4...|      0|  null|       Usado|      Outros|Residencial|null|[{0, 0, Venda, 50...|\n",
            "|    3|        43|       43|        1|[Academia, Churra...|{Paciência, 23585...|d2e3a3aa-09b5-45a...|      2|  null|       Usado| Apartamento|Residencial|   1|[{245, null, Vend...|\n",
            "|    2|        42|       42|        1|[Churrasqueira, P...|{Paciência, 23585...|085bab2c-87ad-452...|      2|  null|       Usado| Apartamento|Residencial|   1|[{0, 0, Venda, 15...|\n",
            "|    1|        41|       41|        1|[Portaria 24h, Co...|{Guaratiba, 23036...|18d22cbe-1b86-476...|      2|  null|       Usado| Apartamento|Residencial|   1|[{0, 0, Venda, 20...|\n",
            "|    3|        43|       43|        1|[Churrasqueira, P...|{Cosmos, 23066271...|bed8a354-9317-442...|      2|  null|       Usado| Apartamento|Residencial|   0|[{285, null, Vend...|\n",
            "|    2|        43|       43|        1|[Academia, Churra...|{Guaratiba, 23036...|12a13315-d67f-48f...|      2|  null|       Usado| Apartamento|Residencial|   1|[{245, null, Vend...|\n",
            "|    3|        43|       43|        1|[Churrasqueira, P...|{Cosmos, 23066271...|a2e6d7a5-0ff0-484...|      2|     0|       Usado| Apartamento|Residencial|   0|[{285, null, Vend...|\n",
            "|    3|        43|       43|        1|[Churrasqueira, P...|{Paciência, 23585...|a6e3173b-c950-4db...|      2|  null|       Usado| Apartamento|Residencial|   1|[{250, null, Vend...|\n",
            "|    3|        43|       43|        1|[Churrasqueira, P...|{Guaratiba, 23036...|2e6e5dfb-206c-496...|      2|     0|       Usado| Apartamento|Residencial|   1|[{245, null, Vend...|\n",
            "|    0|       100|      100|        0|                  []|{Sepetiba, 235306...|62cb0173-a243-4bb...|      0|  null|       Usado|      Outros|Residencial|   0|[{null, null, Ven...|\n",
            "|    3|        43|       43|        1|[Churrasqueira, P...|{Paciência, 23585...|99f8d0f9-95a4-461...|      2|     0|       Usado| Apartamento|Residencial|   1|[{245, null, Vend...|\n",
            "|    4|        43|       43|        1|[Churrasqueira, P...|{Guaratiba, 23036...|b3f44c1a-2d50-4d5...|      2|  null|       Usado| Apartamento|Residencial|   1|[{240, null, Vend...|\n",
            "|    0|       120|      120|        0|[Portão eletrônic...|{Campo Grande, 23...|3442cf8f-c783-46c...|      0|  null|       Usado|      Outros|Residencial|null|[{80, null, Venda...|\n",
            "|    0|        60|       60|        1|[Condomínio fechado]|{Pedra de Guarati...|dc99d9e1-4c63-41f...|      2|  null|       Usado| Apartamento|Residencial|   1|[{0, 0, Venda, 15...|\n",
            "|    1|        43|       43|        1|[Churrasqueira, P...|{Cosmos, 23056630...|aa3606d8-8bcd-45e...|      2|  null|       Usado| Apartamento|Residencial|   1|[{240, 0, Venda, ...|\n",
            "|    0|        65|       65|        2|[Animais permitidos]|{Campo Grande, 23...|73789e4a-7d19-454...|      2|     0|       Usado|        Casa|Residencial|   1|[{0, 0, Venda, 18...|\n",
            "|    0|       120|      120|        0|[Portão eletrônic...|{Campo Grande, 23...|cb466788-9533-456...|      0|  null|       Usado|      Outros|Residencial|null|[{80, null, Venda...|\n",
            "|    0|       120|      120|        0|[Portão eletrônic...|{Campo Grande, 23...|272951e7-d667-4e3...|      0|  null|       Usado|      Outros|Residencial|null|[{80, null, Venda...|\n",
            "|    0|        58|       58|        1|[Condomínio fecha...|{Inhoaíba, 230620...|541bd733-e078-436...|      2|     0|       Usado|        Casa|Residencial|   1|[{0, 0, Venda, 15...|\n",
            "+-----+----------+---------+---------+--------------------+--------------------+--------------------+-------+------+------------+------------+-----------+----+--------------------+\n",
            "only showing top 20 rows\n",
            "\n"
          ]
        }
      ]
    },
    {
      "cell_type": "code",
      "source": [
        "#Distribuição em tipo de anuncio\n",
        "tipo_anuncio = imoveisRJ_anuncio_corr.groupBy(\"tipo_anuncio\").count()\n",
        "tipo_anuncio = tipo_anuncio.withColumn('count', tipo_anuncio['count'].cast(IntegerType()))\n",
        "tipo_anunciopd = tipo_anuncio.toPandas()\n",
        "tipo_anunciopd"
      ],
      "metadata": {
        "colab": {
          "base_uri": "https://localhost:8080/",
          "height": 112
        },
        "id": "jBv8qTotFqDb",
        "outputId": "33e46759-be62-4c73-a302-2db4da0aaede"
      },
      "execution_count": 29,
      "outputs": [
        {
          "output_type": "execute_result",
          "data": {
            "text/plain": [
              "  tipo_anuncio  count\n",
              "0        Usado  88827\n",
              "1   Lançamento    256"
            ],
            "text/html": [
              "\n",
              "  <div id=\"df-468bd915-3c41-4056-bce5-aca4597916a0\">\n",
              "    <div class=\"colab-df-container\">\n",
              "      <div>\n",
              "<style scoped>\n",
              "    .dataframe tbody tr th:only-of-type {\n",
              "        vertical-align: middle;\n",
              "    }\n",
              "\n",
              "    .dataframe tbody tr th {\n",
              "        vertical-align: top;\n",
              "    }\n",
              "\n",
              "    .dataframe thead th {\n",
              "        text-align: right;\n",
              "    }\n",
              "</style>\n",
              "<table border=\"1\" class=\"dataframe\">\n",
              "  <thead>\n",
              "    <tr style=\"text-align: right;\">\n",
              "      <th></th>\n",
              "      <th>tipo_anuncio</th>\n",
              "      <th>count</th>\n",
              "    </tr>\n",
              "  </thead>\n",
              "  <tbody>\n",
              "    <tr>\n",
              "      <th>0</th>\n",
              "      <td>Usado</td>\n",
              "      <td>88827</td>\n",
              "    </tr>\n",
              "    <tr>\n",
              "      <th>1</th>\n",
              "      <td>Lançamento</td>\n",
              "      <td>256</td>\n",
              "    </tr>\n",
              "  </tbody>\n",
              "</table>\n",
              "</div>\n",
              "      <button class=\"colab-df-convert\" onclick=\"convertToInteractive('df-468bd915-3c41-4056-bce5-aca4597916a0')\"\n",
              "              title=\"Convert this dataframe to an interactive table.\"\n",
              "              style=\"display:none;\">\n",
              "        \n",
              "  <svg xmlns=\"http://www.w3.org/2000/svg\" height=\"24px\"viewBox=\"0 0 24 24\"\n",
              "       width=\"24px\">\n",
              "    <path d=\"M0 0h24v24H0V0z\" fill=\"none\"/>\n",
              "    <path d=\"M18.56 5.44l.94 2.06.94-2.06 2.06-.94-2.06-.94-.94-2.06-.94 2.06-2.06.94zm-11 1L8.5 8.5l.94-2.06 2.06-.94-2.06-.94L8.5 2.5l-.94 2.06-2.06.94zm10 10l.94 2.06.94-2.06 2.06-.94-2.06-.94-.94-2.06-.94 2.06-2.06.94z\"/><path d=\"M17.41 7.96l-1.37-1.37c-.4-.4-.92-.59-1.43-.59-.52 0-1.04.2-1.43.59L10.3 9.45l-7.72 7.72c-.78.78-.78 2.05 0 2.83L4 21.41c.39.39.9.59 1.41.59.51 0 1.02-.2 1.41-.59l7.78-7.78 2.81-2.81c.8-.78.8-2.07 0-2.86zM5.41 20L4 18.59l7.72-7.72 1.47 1.35L5.41 20z\"/>\n",
              "  </svg>\n",
              "      </button>\n",
              "      \n",
              "  <style>\n",
              "    .colab-df-container {\n",
              "      display:flex;\n",
              "      flex-wrap:wrap;\n",
              "      gap: 12px;\n",
              "    }\n",
              "\n",
              "    .colab-df-convert {\n",
              "      background-color: #E8F0FE;\n",
              "      border: none;\n",
              "      border-radius: 50%;\n",
              "      cursor: pointer;\n",
              "      display: none;\n",
              "      fill: #1967D2;\n",
              "      height: 32px;\n",
              "      padding: 0 0 0 0;\n",
              "      width: 32px;\n",
              "    }\n",
              "\n",
              "    .colab-df-convert:hover {\n",
              "      background-color: #E2EBFA;\n",
              "      box-shadow: 0px 1px 2px rgba(60, 64, 67, 0.3), 0px 1px 3px 1px rgba(60, 64, 67, 0.15);\n",
              "      fill: #174EA6;\n",
              "    }\n",
              "\n",
              "    [theme=dark] .colab-df-convert {\n",
              "      background-color: #3B4455;\n",
              "      fill: #D2E3FC;\n",
              "    }\n",
              "\n",
              "    [theme=dark] .colab-df-convert:hover {\n",
              "      background-color: #434B5C;\n",
              "      box-shadow: 0px 1px 3px 1px rgba(0, 0, 0, 0.15);\n",
              "      filter: drop-shadow(0px 1px 2px rgba(0, 0, 0, 0.3));\n",
              "      fill: #FFFFFF;\n",
              "    }\n",
              "  </style>\n",
              "\n",
              "      <script>\n",
              "        const buttonEl =\n",
              "          document.querySelector('#df-468bd915-3c41-4056-bce5-aca4597916a0 button.colab-df-convert');\n",
              "        buttonEl.style.display =\n",
              "          google.colab.kernel.accessAllowed ? 'block' : 'none';\n",
              "\n",
              "        async function convertToInteractive(key) {\n",
              "          const element = document.querySelector('#df-468bd915-3c41-4056-bce5-aca4597916a0');\n",
              "          const dataTable =\n",
              "            await google.colab.kernel.invokeFunction('convertToInteractive',\n",
              "                                                     [key], {});\n",
              "          if (!dataTable) return;\n",
              "\n",
              "          const docLinkHtml = 'Like what you see? Visit the ' +\n",
              "            '<a target=\"_blank\" href=https://colab.research.google.com/notebooks/data_table.ipynb>data table notebook</a>'\n",
              "            + ' to learn more about interactive tables.';\n",
              "          element.innerHTML = '';\n",
              "          dataTable['output_type'] = 'display_data';\n",
              "          await google.colab.output.renderOutput(dataTable, element);\n",
              "          const docLink = document.createElement('div');\n",
              "          docLink.innerHTML = docLinkHtml;\n",
              "          element.appendChild(docLink);\n",
              "        }\n",
              "      </script>\n",
              "    </div>\n",
              "  </div>\n",
              "  "
            ]
          },
          "metadata": {},
          "execution_count": 29
        }
      ]
    },
    {
      "cell_type": "code",
      "source": [
        "sns.barplot(data=tipo_anunciopd, x='tipo_anuncio', y='count')"
      ],
      "metadata": {
        "colab": {
          "base_uri": "https://localhost:8080/",
          "height": 297
        },
        "id": "6AEF5f2HUmtl",
        "outputId": "ff4cf7a3-2830-4548-9954-340a351e199f"
      },
      "execution_count": 30,
      "outputs": [
        {
          "output_type": "execute_result",
          "data": {
            "text/plain": [
              "<matplotlib.axes._subplots.AxesSubplot at 0x7fa62c8cd150>"
            ]
          },
          "metadata": {},
          "execution_count": 30
        },
        {
          "output_type": "display_data",
          "data": {
            "text/plain": [
              "<Figure size 432x288 with 1 Axes>"
            ],
            "image/png": "[encoded data removed]"
          },
          "metadata": {
            "needs_background": "light"
          }
        }
      ]
    },
    {
      "cell_type": "code",
      "source": [
        "tipo_uso_anun = imoveisRJ_anuncio_corr.filter(\"tipo_anuncio == 'Usado'\")\n",
        "tipo_uso_anun.show()"
      ],
      "metadata": {
        "id": "RIxFa9F_V5sO",
        "colab": {
          "base_uri": "https://localhost:8080/"
        },
        "outputId": "1aa55219-d9a9-4020-9486-60249902bade"
      },
      "execution_count": 31,
      "outputs": [
        {
          "output_type": "stream",
          "name": "stdout",
          "text": [
            "+-----+----------+---------+---------+--------------------+--------------------+--------------------+-------+------+------------+------------+-----------+----+--------------------+\n",
            "|andar|area_total|area_util|banheiros|     caracteristicas|            endereco|                  id|quartos|suites|tipo_anuncio|tipo_unidade|   tipo_uso|vaga|             valores|\n",
            "+-----+----------+---------+---------+--------------------+--------------------+--------------------+-------+------+------------+------------+-----------+----+--------------------+\n",
            "|    0|      null|       16|        0|                  []|{Centro, 20061003...|47d553e0-79f2-4a4...|      0|     0|       Usado|      Outros|  Comercial|   1|[{260, 107, Venda...|\n",
            "|    0|      null|       14|        0|                  []|{Centro, 20051040...|b6ffbae1-17f6-487...|      0|  null|       Usado|      Outros|  Comercial|   0|[{260, 107, Venda...|\n",
            "|    0|      1026|     1026|        0|                  []|{Maria da Graça, ...|1fb030a5-9e3e-4a1...|      0|  null|       Usado|      Outros|  Comercial|   0|[{null, 1613, Ven...|\n",
            "|    0|       120|      120|        0|[Portão eletrônic...|{Campo Grande, 23...|ac6cb348-69d6-45a...|      0|  null|       Usado|      Outros|Residencial|null|[{80, null, Venda...|\n",
            "|    0|         3|        3|        0|                  []|{São Cristóvão, 2...|e032b908-ef42-4d4...|      0|  null|       Usado|      Outros|Residencial|null|[{0, 0, Venda, 50...|\n",
            "|    0|        20|       15|        1|                  []|{Centro, 20231047...|df9cf0b8-b972-433...|      0|  null|       Usado|      Outros|  Comercial|   1|[{223, 87, Venda,...|\n",
            "|    3|        43|       43|        1|[Academia, Churra...|{Paciência, 23585...|d2e3a3aa-09b5-45a...|      2|  null|       Usado| Apartamento|Residencial|   1|[{245, null, Vend...|\n",
            "|    2|        42|       42|        1|[Churrasqueira, P...|{Paciência, 23585...|085bab2c-87ad-452...|      2|  null|       Usado| Apartamento|Residencial|   1|[{0, 0, Venda, 15...|\n",
            "|    0|      null|       12|        0|[Portaria 24h, El...|{Centro, 20231047...|096ad966-dc36-47b...|      0|  null|       Usado|      Outros|  Comercial|   1|[{250, null, Vend...|\n",
            "|    1|        41|       41|        1|[Portaria 24h, Co...|{Guaratiba, 23036...|18d22cbe-1b86-476...|      2|  null|       Usado| Apartamento|Residencial|   1|[{0, 0, Venda, 20...|\n",
            "|    3|        43|       43|        1|[Churrasqueira, P...|{Cosmos, 23066271...|bed8a354-9317-442...|      2|  null|       Usado| Apartamento|Residencial|   0|[{285, null, Vend...|\n",
            "|    0|        10|        4|        0|[Elevador, Portar...|{Centro, 20080021...|b7d0fbd3-0b28-420...|      0|  null|       Usado|      Outros|  Comercial|   0|[{200, 86, Venda,...|\n",
            "|    0|        12|       12|        1|      [Portaria 24h]|{Copacabana, 2202...|c6571c11-166e-4a4...|      0|  null|       Usado|      Outros|  Comercial|null|[{470, null, Vend...|\n",
            "|    0|        17|       17|        0|          [Elevador]|{Centro, 20070021...|46d5b560-205f-45f...|      0|  null|       Usado|      Outros|  Comercial|   1|[{294, 98, Venda,...|\n",
            "|    1|        32|       32|     null|[Elevador, Condom...|{Centro, 20090020...|db197997-00e6-4d6...|   null|  null|       Usado|      Outros|  Comercial|   1|[{684, null, Vend...|\n",
            "|    0|      null|       10|        0|[Elevador, Condom...|{Saúde, 20080040,...|835d4338-4aa9-4e4...|      0|  null|       Usado|      Outros|  Comercial|null|[{0, 120, Venda, ...|\n",
            "|    2|        43|       43|        1|[Academia, Churra...|{Guaratiba, 23036...|12a13315-d67f-48f...|      2|  null|       Usado| Apartamento|Residencial|   1|[{245, null, Vend...|\n",
            "|    3|        43|       43|        1|[Churrasqueira, P...|{Cosmos, 23066271...|a2e6d7a5-0ff0-484...|      2|     0|       Usado| Apartamento|Residencial|   0|[{285, null, Vend...|\n",
            "|    3|        43|       43|        1|[Churrasqueira, P...|{Paciência, 23585...|a6e3173b-c950-4db...|      2|  null|       Usado| Apartamento|Residencial|   1|[{250, null, Vend...|\n",
            "|    3|        43|       43|        1|[Churrasqueira, P...|{Guaratiba, 23036...|2e6e5dfb-206c-496...|      2|     0|       Usado| Apartamento|Residencial|   1|[{245, null, Vend...|\n",
            "+-----+----------+---------+---------+--------------------+--------------------+--------------------+-------+------+------------+------------+-----------+----+--------------------+\n",
            "only showing top 20 rows\n",
            "\n"
          ]
        }
      ]
    },
    {
      "cell_type": "markdown",
      "source": [
        "# Analisando as informações sobre localização"
      ],
      "metadata": {
        "id": "yC-4SdKI53Us"
      }
    },
    {
      "cell_type": "markdown",
      "source": [
        "## Extraindo a coluna Bairros e Zona da coluna de endereços"
      ],
      "metadata": {
        "id": "FfFg9oVcdQXZ"
      }
    },
    {
      "cell_type": "code",
      "source": [
        "# Filtrando apenas o bairro e zona nos endereços e armazenando em outro dataframe\n",
        "imoveisRJ_anuncio_end = imoveisRJ_anuncio_corr.select(['id','endereco.bairro','endereco.zona'])\n",
        "imoveisRJ_anuncio_end.show(truncate=False)"
      ],
      "metadata": {
        "colab": {
          "base_uri": "https://localhost:8080/"
        },
        "id": "rnRUIEt84c51",
        "outputId": "1b9c1f70-0cd0-4a17-887f-ea6d55c6788f"
      },
      "execution_count": 136,
      "outputs": [
        {
          "output_type": "stream",
          "name": "stdout",
          "text": [
            "+------------------------------------+--------------+------------+\n",
            "|id                                  |bairro        |zona        |\n",
            "+------------------------------------+--------------+------------+\n",
            "|47d553e0-79f2-4a46-9390-5a3c962740c2|Centro        |Zona Central|\n",
            "|b6ffbae1-17f6-4870-9950-e998ac1c8d6a|Centro        |Zona Central|\n",
            "|1fb030a5-9e3e-4a1d-93cd-cd2d8a215e11|Maria da Graça|Zona Norte  |\n",
            "|ac6cb348-69d6-45af-9589-dc34099370d8|Campo Grande  |Zona Oeste  |\n",
            "|e032b908-ef42-4d4a-8125-eba4792bacbe|São Cristóvão |Zona Norte  |\n",
            "|df9cf0b8-b972-4334-88c9-87ef528806df|Centro        |Zona Central|\n",
            "|d2e3a3aa-09b5-45a0-9dcd-918847cd3ca3|Paciência     |Zona Oeste  |\n",
            "|085bab2c-87ad-452a-bd0f-8b1451509f84|Paciência     |Zona Oeste  |\n",
            "|096ad966-dc36-47bf-8795-5604f078713a|Centro        |Zona Central|\n",
            "|18d22cbe-1b86-4764-8def-70c615f15a61|Guaratiba     |Zona Oeste  |\n",
            "|bed8a354-9317-4426-b27e-1c798f864271|Cosmos        |Zona Oeste  |\n",
            "|b7d0fbd3-0b28-4203-b7d2-5a63b6f6f7aa|Centro        |Zona Central|\n",
            "|c6571c11-166e-4a4c-acdf-10da35afd5fa|Copacabana    |Zona Sul    |\n",
            "|46d5b560-205f-45fe-9223-f2a4db04545c|Centro        |Zona Central|\n",
            "|db197997-00e6-4d6d-8066-45cbbf3ac56c|Centro        |Zona Central|\n",
            "|835d4338-4aa9-4e46-8a19-c7a31b387ce5|Saúde         |Zona Central|\n",
            "|12a13315-d67f-48f0-9497-017b83252781|Guaratiba     |Zona Oeste  |\n",
            "|a2e6d7a5-0ff0-484d-b3d8-3a8f15e2d80e|Cosmos        |Zona Oeste  |\n",
            "|a6e3173b-c950-4db4-9b7b-80c44bd75e90|Paciência     |Zona Oeste  |\n",
            "|2e6e5dfb-206c-4968-944b-ea4c3918b50d|Guaratiba     |Zona Oeste  |\n",
            "+------------------------------------+--------------+------------+\n",
            "only showing top 20 rows\n",
            "\n"
          ]
        }
      ]
    },
    {
      "cell_type": "code",
      "source": [
        "imoveisRJ_anuncio_end = imoveisRJ_anuncio_end.withColumnRenamed(\"id\",\"id_endereco\")"
      ],
      "metadata": {
        "id": "mVOfiV19bGiY"
      },
      "execution_count": 137,
      "outputs": []
    },
    {
      "cell_type": "code",
      "source": [
        "imoveisRJ_anuncio_end.show(truncate=False)"
      ],
      "metadata": {
        "colab": {
          "base_uri": "https://localhost:8080/"
        },
        "id": "4GAeihytbnrK",
        "outputId": "0958aa52-2ca8-4cbe-800c-e5782f68fead"
      },
      "execution_count": 138,
      "outputs": [
        {
          "output_type": "stream",
          "name": "stdout",
          "text": [
            "+------------------------------------+--------------+------------+\n",
            "|id_endereco                         |bairro        |zona        |\n",
            "+------------------------------------+--------------+------------+\n",
            "|47d553e0-79f2-4a46-9390-5a3c962740c2|Centro        |Zona Central|\n",
            "|b6ffbae1-17f6-4870-9950-e998ac1c8d6a|Centro        |Zona Central|\n",
            "|1fb030a5-9e3e-4a1d-93cd-cd2d8a215e11|Maria da Graça|Zona Norte  |\n",
            "|ac6cb348-69d6-45af-9589-dc34099370d8|Campo Grande  |Zona Oeste  |\n",
            "|e032b908-ef42-4d4a-8125-eba4792bacbe|São Cristóvão |Zona Norte  |\n",
            "|df9cf0b8-b972-4334-88c9-87ef528806df|Centro        |Zona Central|\n",
            "|d2e3a3aa-09b5-45a0-9dcd-918847cd3ca3|Paciência     |Zona Oeste  |\n",
            "|085bab2c-87ad-452a-bd0f-8b1451509f84|Paciência     |Zona Oeste  |\n",
            "|096ad966-dc36-47bf-8795-5604f078713a|Centro        |Zona Central|\n",
            "|18d22cbe-1b86-4764-8def-70c615f15a61|Guaratiba     |Zona Oeste  |\n",
            "|bed8a354-9317-4426-b27e-1c798f864271|Cosmos        |Zona Oeste  |\n",
            "|b7d0fbd3-0b28-4203-b7d2-5a63b6f6f7aa|Centro        |Zona Central|\n",
            "|c6571c11-166e-4a4c-acdf-10da35afd5fa|Copacabana    |Zona Sul    |\n",
            "|46d5b560-205f-45fe-9223-f2a4db04545c|Centro        |Zona Central|\n",
            "|db197997-00e6-4d6d-8066-45cbbf3ac56c|Centro        |Zona Central|\n",
            "|835d4338-4aa9-4e46-8a19-c7a31b387ce5|Saúde         |Zona Central|\n",
            "|12a13315-d67f-48f0-9497-017b83252781|Guaratiba     |Zona Oeste  |\n",
            "|a2e6d7a5-0ff0-484d-b3d8-3a8f15e2d80e|Cosmos        |Zona Oeste  |\n",
            "|a6e3173b-c950-4db4-9b7b-80c44bd75e90|Paciência     |Zona Oeste  |\n",
            "|2e6e5dfb-206c-4968-944b-ea4c3918b50d|Guaratiba     |Zona Oeste  |\n",
            "+------------------------------------+--------------+------------+\n",
            "only showing top 20 rows\n",
            "\n"
          ]
        }
      ]
    },
    {
      "cell_type": "code",
      "source": [
        "#Retirando a coluna endereço do dataframe principal\n",
        "imoveisRJ_anuncio_sem_end = imoveisRJ_anuncio_corr\\\n",
        "  .drop('endereco')\\"
      ],
      "metadata": {
        "id": "M7GLc52OK4I6"
      },
      "execution_count": 139,
      "outputs": []
    },
    {
      "cell_type": "code",
      "source": [
        "imoveisRJ_anuncio_sem_end.show()"
      ],
      "metadata": {
        "colab": {
          "base_uri": "https://localhost:8080/"
        },
        "id": "z3WZBGmKXs1q",
        "outputId": "379f60a0-d72f-4390-c1d2-7a710cb9fe7a"
      },
      "execution_count": 140,
      "outputs": [
        {
          "output_type": "stream",
          "name": "stdout",
          "text": [
            "+-----+----------+---------+---------+--------------------+--------------------+-------+------+------------+------------+-----------+----+--------------------+\n",
            "|andar|area_total|area_util|banheiros|     caracteristicas|                  id|quartos|suites|tipo_anuncio|tipo_unidade|   tipo_uso|vaga|             valores|\n",
            "+-----+----------+---------+---------+--------------------+--------------------+-------+------+------------+------------+-----------+----+--------------------+\n",
            "|    0|      null|       16|        0|                  []|47d553e0-79f2-4a4...|      0|     0|       Usado|      Outros|  Comercial|   1|[{260, 107, Venda...|\n",
            "|    0|      null|       14|        0|                  []|b6ffbae1-17f6-487...|      0|  null|       Usado|      Outros|  Comercial|   0|[{260, 107, Venda...|\n",
            "|    0|      1026|     1026|        0|                  []|1fb030a5-9e3e-4a1...|      0|  null|       Usado|      Outros|  Comercial|   0|[{null, 1613, Ven...|\n",
            "|    0|       120|      120|        0|[Portão eletrônic...|ac6cb348-69d6-45a...|      0|  null|       Usado|      Outros|Residencial|null|[{80, null, Venda...|\n",
            "|    0|         3|        3|        0|                  []|e032b908-ef42-4d4...|      0|  null|       Usado|      Outros|Residencial|null|[{0, 0, Venda, 50...|\n",
            "|    0|        20|       15|        1|                  []|df9cf0b8-b972-433...|      0|  null|       Usado|      Outros|  Comercial|   1|[{223, 87, Venda,...|\n",
            "|    3|        43|       43|        1|[Academia, Churra...|d2e3a3aa-09b5-45a...|      2|  null|       Usado| Apartamento|Residencial|   1|[{245, null, Vend...|\n",
            "|    2|        42|       42|        1|[Churrasqueira, P...|085bab2c-87ad-452...|      2|  null|       Usado| Apartamento|Residencial|   1|[{0, 0, Venda, 15...|\n",
            "|    0|      null|       12|        0|[Portaria 24h, El...|096ad966-dc36-47b...|      0|  null|       Usado|      Outros|  Comercial|   1|[{250, null, Vend...|\n",
            "|    1|        41|       41|        1|[Portaria 24h, Co...|18d22cbe-1b86-476...|      2|  null|       Usado| Apartamento|Residencial|   1|[{0, 0, Venda, 20...|\n",
            "|    3|        43|       43|        1|[Churrasqueira, P...|bed8a354-9317-442...|      2|  null|       Usado| Apartamento|Residencial|   0|[{285, null, Vend...|\n",
            "|    0|        10|        4|        0|[Elevador, Portar...|b7d0fbd3-0b28-420...|      0|  null|       Usado|      Outros|  Comercial|   0|[{200, 86, Venda,...|\n",
            "|    0|        12|       12|        1|      [Portaria 24h]|c6571c11-166e-4a4...|      0|  null|       Usado|      Outros|  Comercial|null|[{470, null, Vend...|\n",
            "|    0|        17|       17|        0|          [Elevador]|46d5b560-205f-45f...|      0|  null|       Usado|      Outros|  Comercial|   1|[{294, 98, Venda,...|\n",
            "|    1|        32|       32|     null|[Elevador, Condom...|db197997-00e6-4d6...|   null|  null|       Usado|      Outros|  Comercial|   1|[{684, null, Vend...|\n",
            "|    0|      null|       10|        0|[Elevador, Condom...|835d4338-4aa9-4e4...|      0|  null|       Usado|      Outros|  Comercial|null|[{0, 120, Venda, ...|\n",
            "|    2|        43|       43|        1|[Academia, Churra...|12a13315-d67f-48f...|      2|  null|       Usado| Apartamento|Residencial|   1|[{245, null, Vend...|\n",
            "|    3|        43|       43|        1|[Churrasqueira, P...|a2e6d7a5-0ff0-484...|      2|     0|       Usado| Apartamento|Residencial|   0|[{285, null, Vend...|\n",
            "|    3|        43|       43|        1|[Churrasqueira, P...|a6e3173b-c950-4db...|      2|  null|       Usado| Apartamento|Residencial|   1|[{250, null, Vend...|\n",
            "|    3|        43|       43|        1|[Churrasqueira, P...|2e6e5dfb-206c-496...|      2|     0|       Usado| Apartamento|Residencial|   1|[{245, null, Vend...|\n",
            "+-----+----------+---------+---------+--------------------+--------------------+-------+------+------------+------------+-----------+----+--------------------+\n",
            "only showing top 20 rows\n",
            "\n"
          ]
        }
      ]
    },
    {
      "cell_type": "code",
      "source": [
        "imoveisRj_anuncio_BZ = imoveisRJ_anuncio_sem_end.join(imoveisRJ_anuncio_end, imoveisRJ_anuncio_end.id_endereco == imoveisRJ_anuncio_sem_end.id, 'inner')\n"
      ],
      "metadata": {
        "id": "r0W98zw_Mf1A"
      },
      "execution_count": 141,
      "outputs": []
    },
    {
      "cell_type": "code",
      "source": [
        "imoveisRj_anuncio_BZ = imoveisRj_anuncio_BZ\\\n",
        "  .drop('id_endereco')\n"
      ],
      "metadata": {
        "id": "jTshwp3BZsn9"
      },
      "execution_count": 142,
      "outputs": []
    },
    {
      "cell_type": "code",
      "source": [
        "imoveisRj_anuncio_BZ.show(truncate=False)"
      ],
      "metadata": {
        "colab": {
          "base_uri": "https://localhost:8080/"
        },
        "id": "MOv2vC8zZuFh",
        "outputId": "76e8b267-2a2e-4164-e0be-abe6847d3baa"
      },
      "execution_count": 143,
      "outputs": [
        {
          "output_type": "stream",
          "name": "stdout",
          "text": [
            "+-----+----------+---------+---------+--------------------------------------------------------------------------------------------------------------------------------------------------+------------------------------------+-------+------+------------+------------+-----------+----+-----------------------------------------------------+-----------------------+----------+\n",
            "|andar|area_total|area_util|banheiros|caracteristicas                                                                                                                                   |id                                  |quartos|suites|tipo_anuncio|tipo_unidade|tipo_uso   |vaga|valores                                              |bairro                 |zona      |\n",
            "+-----+----------+---------+---------+--------------------------------------------------------------------------------------------------------------------------------------------------+------------------------------------+-------+------+------------+------------+-----------+----+-----------------------------------------------------+-----------------------+----------+\n",
            "|0    |116       |116      |2        |[Elevador, Academia, Churrasqueira, Piscina, Playground, Salão de festas, Portão eletrônico, Portaria 24h, Condomínio fechado, Animais permitidos]|006e2b19-f4de-4505-867f-a8d347d24e2c|3      |1     |Usado       |Apartamento |Residencial|1   |[{100, 100, Venda, 3793260}]                         |Barra da Tijuca        |Zona Oeste|\n",
            "|0    |143       |143      |4        |[Churrasqueira, Piscina]                                                                                                                          |011acce0-129f-4c24-9b52-21ef4daba93e|4      |3     |Usado       |Apartamento |Residencial|1   |[{3948, 2000, Venda, 1600000}]                       |Jacarepaguá            |Zona Oeste|\n",
            "|7    |236       |236      |4        |[Elevador, Academia, Churrasqueira, Piscina, Playground, Salão de festas, Condomínio fechado, Portão eletrônico, Portaria 24h, Animais permitidos]|013c582b-eca8-4743-ab69-0f1ef02e509b|5      |2     |Usado       |Apartamento |Residencial|3   |[{20, 20, Venda, 1535000}]                           |Freguesia (Jacarepaguá)|Zona Oeste|\n",
            "|0    |215       |215      |3        |[Churrasqueira, Elevador]                                                                                                                         |013d04e0-6054-4ac5-945c-0bc7e05a7fa7|3      |1     |Usado       |Apartamento |Residencial|2   |[{1685, 4500, Venda, 2279540}]                       |Botafogo               |Zona Sul  |\n",
            "|0    |262       |262      |1        |[]                                                                                                                                                |02682b9f-d52c-4324-b626-134a576a2a9e|4      |0     |Usado       |Outros      |Residencial|4   |[{1500, 500, Venda, 3000000}]                        |Barra da Tijuca        |Zona Oeste|\n",
            "|3    |64        |64       |1        |[Academia, Churrasqueira, Piscina, Playground, Salão de festas, Elevador, Condomínio fechado, Portão eletrônico, Portaria 24h, Animais permitidos]|02fba6ef-a691-442a-997f-211944057adf|2      |2     |Usado       |Apartamento |Residencial|1   |[{784, 80, Venda, 380000}]                           |Jacarepaguá            |Zona Oeste|\n",
            "|0    |70        |70       |1        |[]                                                                                                                                                |033d84b4-afb8-4974-9180-96e760e1a775|2      |0     |Usado       |Casa        |Residencial|2   |[{300, 0, Venda, 270000}]                            |Bancários              |Zona Norte|\n",
            "|0    |43        |43       |1        |[Churrasqueira, Academia, Playground, Salão de festas, Condomínio fechado, Portão eletrônico, Portaria 24h, Animais permitidos]                   |03a386b6-7ab8-4eff-891d-f8a16efc1989|2      |null  |Usado       |Apartamento |Residencial|1   |[{285, null, Venda, 22999}]                          |Realengo               |Zona Oeste|\n",
            "|2    |80        |80       |2        |[Condomínio fechado, Portão eletrônico, Animais permitidos]                                                                                       |04ff4f3e-3ea8-475e-bb6e-c54b90be7ebe|2      |2     |Usado       |Casa        |Residencial|1   |[{200, 60, Venda, 299900}, {200, 60, Aluguel, 2500}] |Pechincha              |Zona Oeste|\n",
            "|2    |66        |66       |2        |[Elevador, Salão de festas, Portaria 24h]                                                                                                         |05e0cf33-59c4-4dda-9b1f-f1cfe1cdeca7|2      |0     |Usado       |Apartamento |Residencial|1   |[{1600, 210, Venda, 1200000}]                        |Leblon                 |Zona Sul  |\n",
            "|0    |154       |154      |5        |[Condomínio fechado, Elevador, Animais permitidos, Academia, Piscina, Salão de festas]                                                            |06e17192-b0ea-4043-9c64-a4e6fb6a63f5|4      |null  |Usado       |Apartamento |Residencial|3   |[{1780, 4400, Venda, 2200000}]                       |Barra da Tijuca        |Zona Oeste|\n",
            "|0    |120       |120      |3        |[]                                                                                                                                                |070a3b3d-9992-4221-94f8-5eb70b6ae768|3      |2     |Usado       |Outros      |Residencial|1   |[{null, 2000, Venda, 590000}]                        |Tijuca                 |Zona Norte|\n",
            "|0    |30        |30       |1        |[Elevador]                                                                                                                                        |070bcd5b-8a55-4407-b184-0272188c90de|0      |0     |Usado       |Outros      |Comercial  |1   |[{998, 385, Aluguel, 700}, {998, 385, Venda, 240000}]|Barra da Tijuca        |Zona Oeste|\n",
            "|0    |100       |100      |3        |[Piscina, Playground]                                                                                                                             |075962eb-be7f-47c9-bd86-6acdc4ed4802|2      |1     |Usado       |Apartamento |Residencial|1   |[{5000, 7840, Venda, 2000000}]                       |Ipanema                |Zona Sul  |\n",
            "|0    |70        |70       |2        |[Elevador]                                                                                                                                        |07ab6e4a-fd5e-4c0c-ac9d-25b2de174238|2      |0     |Usado       |Apartamento |Residencial|1   |[{550, 1, Venda, 438999}]                            |Maracanã               |Zona Norte|\n",
            "|2    |50        |48       |1        |[Condomínio fechado, Animais permitidos]                                                                                                          |07bb07c1-21cc-4daa-99c4-e12b53da67d2|1      |0     |Usado       |Apartamento |Residencial|0   |[{10, 10, Venda, 170000}]                            |Piedade                |Zona Norte|\n",
            "|1    |120       |120      |2        |[Elevador, Portaria 24h, Animais permitidos]                                                                                                      |07cbfef2-efbf-4e89-a023-db65e76cc820|3      |0     |Usado       |Apartamento |Residencial|0   |[{950, 270, Venda, 950000}]                          |Copacabana             |Zona Sul  |\n",
            "|0    |null      |102      |2        |[Academia, Churrasqueira, Piscina, Playground, Salão de festas, Elevador, Condomínio fechado, Portão eletrônico, Portaria 24h, Animais permitidos]|085e90da-4e5e-4bd3-8c0c-988142671f88|2      |2     |Usado       |Apartamento |Residencial|1   |[{1, 1, Venda, 950000}]                              |São Conrado            |Zona Sul  |\n",
            "|0    |null      |72       |1        |[Elevador, Churrasqueira, Portão eletrônico, Condomínio fechado, Animais permitidos]                                                              |092409e4-0c46-4544-b380-55f34995006b|2      |0     |Usado       |Apartamento |Residencial|1   |[{2000, 225, Venda, 750000}]                         |Leme                   |Zona Sul  |\n",
            "|0    |68        |68       |1        |[]                                                                                                                                                |0a00abfe-d8ac-4870-9ab7-df651c2e9c9b|2      |0     |Usado       |Apartamento |Residencial|0   |[{750, 230, Venda, 340000}]                          |Zumbi                  |Zona Norte|\n",
            "+-----+----------+---------+---------+--------------------------------------------------------------------------------------------------------------------------------------------------+------------------------------------+-------+------+------------+------------+-----------+----+-----------------------------------------------------+-----------------------+----------+\n",
            "only showing top 20 rows\n",
            "\n"
          ]
        }
      ]
    },
    {
      "cell_type": "markdown",
      "source": [
        "## Extraindo as colunas de inforamações de valores e criando colunas separadas"
      ],
      "metadata": {
        "id": "m93aL5zqd_Aa"
      }
    },
    {
      "cell_type": "code",
      "source": [
        "imoveisRj_anuncio_BZ.printSchema()"
      ],
      "metadata": {
        "colab": {
          "base_uri": "https://localhost:8080/"
        },
        "id": "Sh2RbPMveLd6",
        "outputId": "4a7dbb5c-67f7-4d3c-8895-4fd252b0e081"
      },
      "execution_count": 144,
      "outputs": [
        {
          "output_type": "stream",
          "name": "stdout",
          "text": [
            "root\n",
            " |-- andar: long (nullable = true)\n",
            " |-- area_total: integer (nullable = true)\n",
            " |-- area_util: integer (nullable = true)\n",
            " |-- banheiros: integer (nullable = true)\n",
            " |-- caracteristicas: array (nullable = true)\n",
            " |    |-- element: string (containsNull = true)\n",
            " |-- id: string (nullable = true)\n",
            " |-- quartos: integer (nullable = true)\n",
            " |-- suites: integer (nullable = true)\n",
            " |-- tipo_anuncio: string (nullable = true)\n",
            " |-- tipo_unidade: string (nullable = true)\n",
            " |-- tipo_uso: string (nullable = true)\n",
            " |-- vaga: integer (nullable = true)\n",
            " |-- valores: array (nullable = true)\n",
            " |    |-- element: struct (containsNull = true)\n",
            " |    |    |-- condominio: string (nullable = true)\n",
            " |    |    |-- iptu: string (nullable = true)\n",
            " |    |    |-- tipo: string (nullable = true)\n",
            " |    |    |-- valor: string (nullable = true)\n",
            " |-- bairro: string (nullable = true)\n",
            " |-- zona: string (nullable = true)\n",
            "\n"
          ]
        }
      ]
    },
    {
      "cell_type": "code",
      "source": [
        "# Filtrando apenas as colunas condomínio, iptu, tipo,valor no array de valores\n",
        "imoveisRJ_anuncio_Valores = imoveisRj_anuncio_BZ.select(['id','valores.condominio','valores.iptu','valores.tipo','valores.valor'])\n",
        "imoveisRJ_anuncio_Valores.show(truncate=False)"
      ],
      "metadata": {
        "colab": {
          "base_uri": "https://localhost:8080/"
        },
        "id": "h67R9Zv4eHTz",
        "outputId": "d9b21e9c-de2d-4650-de16-0659697c31d7"
      },
      "execution_count": 145,
      "outputs": [
        {
          "output_type": "stream",
          "name": "stdout",
          "text": [
            "+------------------------------------+----------+------+-------+-------+\n",
            "|id                                  |condominio|iptu  |tipo   |valor  |\n",
            "+------------------------------------+----------+------+-------+-------+\n",
            "|47d553e0-79f2-4a46-9390-5a3c962740c2|[260]     |[107] |[Venda]|[10000]|\n",
            "|b6ffbae1-17f6-4870-9950-e998ac1c8d6a|[260]     |[107] |[Venda]|[10000]|\n",
            "|1fb030a5-9e3e-4a1d-93cd-cd2d8a215e11|[null]    |[1613]|[Venda]|[10000]|\n",
            "|ac6cb348-69d6-45af-9589-dc34099370d8|[80]      |[null]|[Venda]|[10000]|\n",
            "|e032b908-ef42-4d4a-8125-eba4792bacbe|[0]       |[0]   |[Venda]|[5000] |\n",
            "|df9cf0b8-b972-4334-88c9-87ef528806df|[223]     |[87]  |[Venda]|[18500]|\n",
            "|d2e3a3aa-09b5-45a0-9dcd-918847cd3ca3|[245]     |[null]|[Venda]|[15000]|\n",
            "|085bab2c-87ad-452a-bd0f-8b1451509f84|[0]       |[0]   |[Venda]|[15000]|\n",
            "|096ad966-dc36-47bf-8795-5604f078713a|[250]     |[null]|[Venda]|[20000]|\n",
            "|18d22cbe-1b86-4764-8def-70c615f15a61|[0]       |[0]   |[Venda]|[20000]|\n",
            "|bed8a354-9317-4426-b27e-1c798f864271|[285]     |[null]|[Venda]|[20000]|\n",
            "|b7d0fbd3-0b28-4203-b7d2-5a63b6f6f7aa|[200]     |[86]  |[Venda]|[11500]|\n",
            "|c6571c11-166e-4a4c-acdf-10da35afd5fa|[470]     |[null]|[Venda]|[12000]|\n",
            "|46d5b560-205f-45fe-9223-f2a4db04545c|[294]     |[98]  |[Venda]|[18000]|\n",
            "|db197997-00e6-4d6d-8066-45cbbf3ac56c|[684]     |[null]|[Venda]|[15000]|\n",
            "|835d4338-4aa9-4e46-8a19-c7a31b387ce5|[0]       |[120] |[Venda]|[20000]|\n",
            "|12a13315-d67f-48f0-9497-017b83252781|[245]     |[null]|[Venda]|[15000]|\n",
            "|a2e6d7a5-0ff0-484d-b3d8-3a8f15e2d80e|[285]     |[null]|[Venda]|[20000]|\n",
            "|a6e3173b-c950-4db4-9b7b-80c44bd75e90|[250]     |[null]|[Venda]|[15000]|\n",
            "|2e6e5dfb-206c-4968-944b-ea4c3918b50d|[245]     |[null]|[Venda]|[15000]|\n",
            "+------------------------------------+----------+------+-------+-------+\n",
            "only showing top 20 rows\n",
            "\n"
          ]
        }
      ]
    },
    {
      "cell_type": "code",
      "source": [
        "# Tranformando as variáveis de array para seu determinado tipo\n",
        "colunas_corrigir_valores = ['condominio', 'iptu', 'tipo', 'valor']\n",
        "imoveisRJ_anuncio_Valores = imoveisRJ_anuncio_Valores.select([f.col(c)[0].alias(c) if c in colunas_corrigir_valores else c for c in imoveisRJ_anuncio_Valores.columns])\n",
        "imoveisRJ_anuncio_Valores.show()"
      ],
      "metadata": {
        "colab": {
          "base_uri": "https://localhost:8080/"
        },
        "id": "-5qHhC41feNJ",
        "outputId": "01b5f867-039d-4b1b-8759-1cef78e677de"
      },
      "execution_count": 146,
      "outputs": [
        {
          "output_type": "stream",
          "name": "stdout",
          "text": [
            "+--------------------+----------+----+-----+-----+\n",
            "|                  id|condominio|iptu| tipo|valor|\n",
            "+--------------------+----------+----+-----+-----+\n",
            "|47d553e0-79f2-4a4...|       260| 107|Venda|10000|\n",
            "|b6ffbae1-17f6-487...|       260| 107|Venda|10000|\n",
            "|1fb030a5-9e3e-4a1...|      null|1613|Venda|10000|\n",
            "|ac6cb348-69d6-45a...|        80|null|Venda|10000|\n",
            "|e032b908-ef42-4d4...|         0|   0|Venda| 5000|\n",
            "|df9cf0b8-b972-433...|       223|  87|Venda|18500|\n",
            "|d2e3a3aa-09b5-45a...|       245|null|Venda|15000|\n",
            "|085bab2c-87ad-452...|         0|   0|Venda|15000|\n",
            "|096ad966-dc36-47b...|       250|null|Venda|20000|\n",
            "|18d22cbe-1b86-476...|         0|   0|Venda|20000|\n",
            "|bed8a354-9317-442...|       285|null|Venda|20000|\n",
            "|b7d0fbd3-0b28-420...|       200|  86|Venda|11500|\n",
            "|c6571c11-166e-4a4...|       470|null|Venda|12000|\n",
            "|46d5b560-205f-45f...|       294|  98|Venda|18000|\n",
            "|db197997-00e6-4d6...|       684|null|Venda|15000|\n",
            "|835d4338-4aa9-4e4...|         0| 120|Venda|20000|\n",
            "|12a13315-d67f-48f...|       245|null|Venda|15000|\n",
            "|a2e6d7a5-0ff0-484...|       285|null|Venda|20000|\n",
            "|a6e3173b-c950-4db...|       250|null|Venda|15000|\n",
            "|2e6e5dfb-206c-496...|       245|null|Venda|15000|\n",
            "+--------------------+----------+----+-----+-----+\n",
            "only showing top 20 rows\n",
            "\n"
          ]
        }
      ]
    },
    {
      "cell_type": "code",
      "source": [
        "# renomeando a coluna 'id'\n",
        "imoveisRJ_anuncio_Valores = imoveisRJ_anuncio_Valores.withColumnRenamed(\"id\",\"id_valores\")\n",
        "imoveisRJ_anuncio_Valores.show(truncate=False)"
      ],
      "metadata": {
        "colab": {
          "base_uri": "https://localhost:8080/"
        },
        "id": "XjBm4u44gK4y",
        "outputId": "0bdd21fc-8aea-424b-963e-0d302ba557af"
      },
      "execution_count": 147,
      "outputs": [
        {
          "output_type": "stream",
          "name": "stdout",
          "text": [
            "+------------------------------------+----------+----+-----+-----+\n",
            "|id_valores                          |condominio|iptu|tipo |valor|\n",
            "+------------------------------------+----------+----+-----+-----+\n",
            "|47d553e0-79f2-4a46-9390-5a3c962740c2|260       |107 |Venda|10000|\n",
            "|b6ffbae1-17f6-4870-9950-e998ac1c8d6a|260       |107 |Venda|10000|\n",
            "|1fb030a5-9e3e-4a1d-93cd-cd2d8a215e11|null      |1613|Venda|10000|\n",
            "|ac6cb348-69d6-45af-9589-dc34099370d8|80        |null|Venda|10000|\n",
            "|e032b908-ef42-4d4a-8125-eba4792bacbe|0         |0   |Venda|5000 |\n",
            "|df9cf0b8-b972-4334-88c9-87ef528806df|223       |87  |Venda|18500|\n",
            "|d2e3a3aa-09b5-45a0-9dcd-918847cd3ca3|245       |null|Venda|15000|\n",
            "|085bab2c-87ad-452a-bd0f-8b1451509f84|0         |0   |Venda|15000|\n",
            "|096ad966-dc36-47bf-8795-5604f078713a|250       |null|Venda|20000|\n",
            "|18d22cbe-1b86-4764-8def-70c615f15a61|0         |0   |Venda|20000|\n",
            "|bed8a354-9317-4426-b27e-1c798f864271|285       |null|Venda|20000|\n",
            "|b7d0fbd3-0b28-4203-b7d2-5a63b6f6f7aa|200       |86  |Venda|11500|\n",
            "|c6571c11-166e-4a4c-acdf-10da35afd5fa|470       |null|Venda|12000|\n",
            "|46d5b560-205f-45fe-9223-f2a4db04545c|294       |98  |Venda|18000|\n",
            "|db197997-00e6-4d6d-8066-45cbbf3ac56c|684       |null|Venda|15000|\n",
            "|835d4338-4aa9-4e46-8a19-c7a31b387ce5|0         |120 |Venda|20000|\n",
            "|12a13315-d67f-48f0-9497-017b83252781|245       |null|Venda|15000|\n",
            "|a2e6d7a5-0ff0-484d-b3d8-3a8f15e2d80e|285       |null|Venda|20000|\n",
            "|a6e3173b-c950-4db4-9b7b-80c44bd75e90|250       |null|Venda|15000|\n",
            "|2e6e5dfb-206c-4968-944b-ea4c3918b50d|245       |null|Venda|15000|\n",
            "+------------------------------------+----------+----+-----+-----+\n",
            "only showing top 20 rows\n",
            "\n"
          ]
        }
      ]
    },
    {
      "cell_type": "code",
      "source": [
        "imoveisRJ_anuncio_Valores.printSchema()"
      ],
      "metadata": {
        "colab": {
          "base_uri": "https://localhost:8080/"
        },
        "id": "BXSHXk63giOL",
        "outputId": "69b4ee4f-d5ca-4574-cf41-60a8de78c46a"
      },
      "execution_count": 148,
      "outputs": [
        {
          "output_type": "stream",
          "name": "stdout",
          "text": [
            "root\n",
            " |-- id_valores: string (nullable = true)\n",
            " |-- condominio: string (nullable = true)\n",
            " |-- iptu: string (nullable = true)\n",
            " |-- tipo: string (nullable = true)\n",
            " |-- valor: string (nullable = true)\n",
            "\n"
          ]
        }
      ]
    },
    {
      "cell_type": "code",
      "source": [
        "# Corrigindo os tipos dados em cada coluna\n",
        "imoveisRJ_anuncio_Valores = imoveisRJ_anuncio_Valores.withColumn('condominio', imoveisRJ_anuncio_Valores['condominio'].cast(DoubleType()))\n",
        "imoveisRJ_anuncio_Valores = imoveisRJ_anuncio_Valores.withColumn('iptu', imoveisRJ_anuncio_Valores['iptu'].cast(DoubleType()))\n",
        "imoveisRJ_anuncio_Valores = imoveisRJ_anuncio_Valores.withColumn('valor', imoveisRJ_anuncio_Valores['valor'].cast(DoubleType()))\n",
        "imoveisRJ_anuncio_Valores.printSchema()"
      ],
      "metadata": {
        "colab": {
          "base_uri": "https://localhost:8080/"
        },
        "id": "k1Vh68dSe9qG",
        "outputId": "205c2589-b58f-46ae-c233-a6ac0b05a533"
      },
      "execution_count": 149,
      "outputs": [
        {
          "output_type": "stream",
          "name": "stdout",
          "text": [
            "root\n",
            " |-- id_valores: string (nullable = true)\n",
            " |-- condominio: double (nullable = true)\n",
            " |-- iptu: double (nullable = true)\n",
            " |-- tipo: string (nullable = true)\n",
            " |-- valor: double (nullable = true)\n",
            "\n"
          ]
        }
      ]
    },
    {
      "cell_type": "code",
      "source": [
        "# Unindo com DataFrame Principal\n",
        "imoveisRj_anuncio_Valores_completo = imoveisRj_anuncio_BZ.join(imoveisRJ_anuncio_Valores, imoveisRJ_anuncio_Valores.id_valores == imoveisRj_anuncio_BZ.id, 'inner')"
      ],
      "metadata": {
        "id": "-GOu81KRnobn"
      },
      "execution_count": 153,
      "outputs": []
    },
    {
      "cell_type": "code",
      "source": [
        "imoveisRj_anuncio_Valores_completo.show()"
      ],
      "metadata": {
        "colab": {
          "base_uri": "https://localhost:8080/"
        },
        "id": "8emJoYncoP2p",
        "outputId": "deecb414-dd21-4ab7-9828-96afa0f29d31"
      },
      "execution_count": 154,
      "outputs": [
        {
          "output_type": "stream",
          "name": "stdout",
          "text": [
            "+-----+----------+---------+---------+--------------------+--------------------+-------+------+------------+------------+-----------+----+--------------------+--------------------+----------+--------------------+----------+------+-------+---------+\n",
            "|andar|area_total|area_util|banheiros|     caracteristicas|                  id|quartos|suites|tipo_anuncio|tipo_unidade|   tipo_uso|vaga|             valores|              bairro|      zona|          id_valores|condominio|  iptu|   tipo|    valor|\n",
            "+-----+----------+---------+---------+--------------------+--------------------+-------+------+------------+------------+-----------+----+--------------------+--------------------+----------+--------------------+----------+------+-------+---------+\n",
            "|    0|       116|      116|        2|[Elevador, Academ...|006e2b19-f4de-450...|      3|     1|       Usado| Apartamento|Residencial|   1|[{100, 100, Venda...|     Barra da Tijuca|Zona Oeste|006e2b19-f4de-450...|     100.0| 100.0|  Venda|3793260.0|\n",
            "|    0|       143|      143|        4|[Churrasqueira, P...|011acce0-129f-4c2...|      4|     3|       Usado| Apartamento|Residencial|   1|[{3948, 2000, Ven...|         Jacarepaguá|Zona Oeste|011acce0-129f-4c2...|    3948.0|2000.0|  Venda|1600000.0|\n",
            "|    7|       236|      236|        4|[Elevador, Academ...|013c582b-eca8-474...|      5|     2|       Usado| Apartamento|Residencial|   3|[{20, 20, Venda, ...|Freguesia (Jacare...|Zona Oeste|013c582b-eca8-474...|      20.0|  20.0|  Venda|1535000.0|\n",
            "|    0|       215|      215|        3|[Churrasqueira, E...|013d04e0-6054-4ac...|      3|     1|       Usado| Apartamento|Residencial|   2|[{1685, 4500, Ven...|            Botafogo|  Zona Sul|013d04e0-6054-4ac...|    1685.0|4500.0|  Venda|2279540.0|\n",
            "|    0|       262|      262|        1|                  []|02682b9f-d52c-432...|      4|     0|       Usado|      Outros|Residencial|   4|[{1500, 500, Vend...|     Barra da Tijuca|Zona Oeste|02682b9f-d52c-432...|    1500.0| 500.0|  Venda|3000000.0|\n",
            "|    3|        64|       64|        1|[Academia, Churra...|02fba6ef-a691-442...|      2|     2|       Usado| Apartamento|Residencial|   1|[{784, 80, Venda,...|         Jacarepaguá|Zona Oeste|02fba6ef-a691-442...|     784.0|  80.0|  Venda| 380000.0|\n",
            "|    0|        70|       70|        1|                  []|033d84b4-afb8-497...|      2|     0|       Usado|        Casa|Residencial|   2|[{300, 0, Venda, ...|           Bancários|Zona Norte|033d84b4-afb8-497...|     300.0|   0.0|  Venda| 270000.0|\n",
            "|    0|        43|       43|        1|[Churrasqueira, A...|03a386b6-7ab8-4ef...|      2|  null|       Usado| Apartamento|Residencial|   1|[{285, null, Vend...|            Realengo|Zona Oeste|03a386b6-7ab8-4ef...|     285.0|  null|  Venda|  22999.0|\n",
            "|    2|        80|       80|        2|[Condomínio fecha...|04ff4f3e-3ea8-475...|      2|     2|       Usado|        Casa|Residencial|   1|[{200, 60, Venda,...|           Pechincha|Zona Oeste|04ff4f3e-3ea8-475...|     200.0|  60.0|  Venda| 299900.0|\n",
            "|    2|        66|       66|        2|[Elevador, Salão ...|05e0cf33-59c4-4dd...|      2|     0|       Usado| Apartamento|Residencial|   1|[{1600, 210, Vend...|              Leblon|  Zona Sul|05e0cf33-59c4-4dd...|    1600.0| 210.0|  Venda|1200000.0|\n",
            "|    0|       154|      154|        5|[Condomínio fecha...|06e17192-b0ea-404...|      4|  null|       Usado| Apartamento|Residencial|   3|[{1780, 4400, Ven...|     Barra da Tijuca|Zona Oeste|06e17192-b0ea-404...|    1780.0|4400.0|  Venda|2200000.0|\n",
            "|    0|       120|      120|        3|                  []|070a3b3d-9992-422...|      3|     2|       Usado|      Outros|Residencial|   1|[{null, 2000, Ven...|              Tijuca|Zona Norte|070a3b3d-9992-422...|      null|2000.0|  Venda| 590000.0|\n",
            "|    0|        30|       30|        1|          [Elevador]|070bcd5b-8a55-440...|      0|     0|       Usado|      Outros|  Comercial|   1|[{998, 385, Alugu...|     Barra da Tijuca|Zona Oeste|070bcd5b-8a55-440...|     998.0| 385.0|Aluguel|    700.0|\n",
            "|    0|       100|      100|        3|[Piscina, Playgro...|075962eb-be7f-47c...|      2|     1|       Usado| Apartamento|Residencial|   1|[{5000, 7840, Ven...|             Ipanema|  Zona Sul|075962eb-be7f-47c...|    5000.0|7840.0|  Venda|2000000.0|\n",
            "|    0|        70|       70|        2|          [Elevador]|07ab6e4a-fd5e-4c0...|      2|     0|       Usado| Apartamento|Residencial|   1|[{550, 1, Venda, ...|            Maracanã|Zona Norte|07ab6e4a-fd5e-4c0...|     550.0|   1.0|  Venda| 438999.0|\n",
            "|    2|        50|       48|        1|[Condomínio fecha...|07bb07c1-21cc-4da...|      1|     0|       Usado| Apartamento|Residencial|   0|[{10, 10, Venda, ...|             Piedade|Zona Norte|07bb07c1-21cc-4da...|      10.0|  10.0|  Venda| 170000.0|\n",
            "|    1|       120|      120|        2|[Elevador, Portar...|07cbfef2-efbf-4e8...|      3|     0|       Usado| Apartamento|Residencial|   0|[{950, 270, Venda...|          Copacabana|  Zona Sul|07cbfef2-efbf-4e8...|     950.0| 270.0|  Venda| 950000.0|\n",
            "|    0|      null|      102|        2|[Academia, Churra...|085e90da-4e5e-4bd...|      2|     2|       Usado| Apartamento|Residencial|   1|[{1, 1, Venda, 95...|         São Conrado|  Zona Sul|085e90da-4e5e-4bd...|       1.0|   1.0|  Venda| 950000.0|\n",
            "|    0|      null|       72|        1|[Elevador, Churra...|092409e4-0c46-454...|      2|     0|       Usado| Apartamento|Residencial|   1|[{2000, 225, Vend...|                Leme|  Zona Sul|092409e4-0c46-454...|    2000.0| 225.0|  Venda| 750000.0|\n",
            "|    0|        68|       68|        1|                  []|0a00abfe-d8ac-487...|      2|     0|       Usado| Apartamento|Residencial|   0|[{750, 230, Venda...|               Zumbi|Zona Norte|0a00abfe-d8ac-487...|     750.0| 230.0|  Venda| 340000.0|\n",
            "+-----+----------+---------+---------+--------------------+--------------------+-------+------+------------+------------+-----------+----+--------------------+--------------------+----------+--------------------+----------+------+-------+---------+\n",
            "only showing top 20 rows\n",
            "\n"
          ]
        }
      ]
    },
    {
      "cell_type": "code",
      "source": [
        "# Retirando as colunas valores e id_valores\n",
        "imoveisRj_anuncio_Valores_completo = imoveisRj_anuncio_Valores_completo\\\n",
        "  .drop('valores')\\\n",
        "  .drop('id_valores')\n",
        "\n",
        "imoveisRj_anuncio_Valores_completo.show()\n"
      ],
      "metadata": {
        "colab": {
          "base_uri": "https://localhost:8080/"
        },
        "id": "zuepLXRGpxQg",
        "outputId": "b18bdeb7-127c-465e-87ee-aa6a19eef813"
      },
      "execution_count": 156,
      "outputs": [
        {
          "output_type": "stream",
          "name": "stdout",
          "text": [
            "+-----+----------+---------+---------+--------------------+--------------------+-------+------+------------+------------+-----------+----+--------------------+----------+----------+------+-------+---------+\n",
            "|andar|area_total|area_util|banheiros|     caracteristicas|                  id|quartos|suites|tipo_anuncio|tipo_unidade|   tipo_uso|vaga|              bairro|      zona|condominio|  iptu|   tipo|    valor|\n",
            "+-----+----------+---------+---------+--------------------+--------------------+-------+------+------------+------------+-----------+----+--------------------+----------+----------+------+-------+---------+\n",
            "|    0|       116|      116|        2|[Elevador, Academ...|006e2b19-f4de-450...|      3|     1|       Usado| Apartamento|Residencial|   1|     Barra da Tijuca|Zona Oeste|     100.0| 100.0|  Venda|3793260.0|\n",
            "|    0|       143|      143|        4|[Churrasqueira, P...|011acce0-129f-4c2...|      4|     3|       Usado| Apartamento|Residencial|   1|         Jacarepaguá|Zona Oeste|    3948.0|2000.0|  Venda|1600000.0|\n",
            "|    7|       236|      236|        4|[Elevador, Academ...|013c582b-eca8-474...|      5|     2|       Usado| Apartamento|Residencial|   3|Freguesia (Jacare...|Zona Oeste|      20.0|  20.0|  Venda|1535000.0|\n",
            "|    0|       215|      215|        3|[Churrasqueira, E...|013d04e0-6054-4ac...|      3|     1|       Usado| Apartamento|Residencial|   2|            Botafogo|  Zona Sul|    1685.0|4500.0|  Venda|2279540.0|\n",
            "|    0|       262|      262|        1|                  []|02682b9f-d52c-432...|      4|     0|       Usado|      Outros|Residencial|   4|     Barra da Tijuca|Zona Oeste|    1500.0| 500.0|  Venda|3000000.0|\n",
            "|    3|        64|       64|        1|[Academia, Churra...|02fba6ef-a691-442...|      2|     2|       Usado| Apartamento|Residencial|   1|         Jacarepaguá|Zona Oeste|     784.0|  80.0|  Venda| 380000.0|\n",
            "|    0|        70|       70|        1|                  []|033d84b4-afb8-497...|      2|     0|       Usado|        Casa|Residencial|   2|           Bancários|Zona Norte|     300.0|   0.0|  Venda| 270000.0|\n",
            "|    0|        43|       43|        1|[Churrasqueira, A...|03a386b6-7ab8-4ef...|      2|  null|       Usado| Apartamento|Residencial|   1|            Realengo|Zona Oeste|     285.0|  null|  Venda|  22999.0|\n",
            "|    2|        80|       80|        2|[Condomínio fecha...|04ff4f3e-3ea8-475...|      2|     2|       Usado|        Casa|Residencial|   1|           Pechincha|Zona Oeste|     200.0|  60.0|  Venda| 299900.0|\n",
            "|    2|        66|       66|        2|[Elevador, Salão ...|05e0cf33-59c4-4dd...|      2|     0|       Usado| Apartamento|Residencial|   1|              Leblon|  Zona Sul|    1600.0| 210.0|  Venda|1200000.0|\n",
            "|    0|       154|      154|        5|[Condomínio fecha...|06e17192-b0ea-404...|      4|  null|       Usado| Apartamento|Residencial|   3|     Barra da Tijuca|Zona Oeste|    1780.0|4400.0|  Venda|2200000.0|\n",
            "|    0|       120|      120|        3|                  []|070a3b3d-9992-422...|      3|     2|       Usado|      Outros|Residencial|   1|              Tijuca|Zona Norte|      null|2000.0|  Venda| 590000.0|\n",
            "|    0|        30|       30|        1|          [Elevador]|070bcd5b-8a55-440...|      0|     0|       Usado|      Outros|  Comercial|   1|     Barra da Tijuca|Zona Oeste|     998.0| 385.0|Aluguel|    700.0|\n",
            "|    0|       100|      100|        3|[Piscina, Playgro...|075962eb-be7f-47c...|      2|     1|       Usado| Apartamento|Residencial|   1|             Ipanema|  Zona Sul|    5000.0|7840.0|  Venda|2000000.0|\n",
            "|    0|        70|       70|        2|          [Elevador]|07ab6e4a-fd5e-4c0...|      2|     0|       Usado| Apartamento|Residencial|   1|            Maracanã|Zona Norte|     550.0|   1.0|  Venda| 438999.0|\n",
            "|    2|        50|       48|        1|[Condomínio fecha...|07bb07c1-21cc-4da...|      1|     0|       Usado| Apartamento|Residencial|   0|             Piedade|Zona Norte|      10.0|  10.0|  Venda| 170000.0|\n",
            "|    1|       120|      120|        2|[Elevador, Portar...|07cbfef2-efbf-4e8...|      3|     0|       Usado| Apartamento|Residencial|   0|          Copacabana|  Zona Sul|     950.0| 270.0|  Venda| 950000.0|\n",
            "|    0|      null|      102|        2|[Academia, Churra...|085e90da-4e5e-4bd...|      2|     2|       Usado| Apartamento|Residencial|   1|         São Conrado|  Zona Sul|       1.0|   1.0|  Venda| 950000.0|\n",
            "|    0|      null|       72|        1|[Elevador, Churra...|092409e4-0c46-454...|      2|     0|       Usado| Apartamento|Residencial|   1|                Leme|  Zona Sul|    2000.0| 225.0|  Venda| 750000.0|\n",
            "|    0|        68|       68|        1|                  []|0a00abfe-d8ac-487...|      2|     0|       Usado| Apartamento|Residencial|   0|               Zumbi|Zona Norte|     750.0| 230.0|  Venda| 340000.0|\n",
            "+-----+----------+---------+---------+--------------------+--------------------+-------+------+------------+------------+-----------+----+--------------------+----------+----------+------+-------+---------+\n",
            "only showing top 20 rows\n",
            "\n"
          ]
        }
      ]
    },
    {
      "cell_type": "markdown",
      "source": [
        "## Analisando os tipo de negociação dos imoveis"
      ],
      "metadata": {
        "id": "AUKsE5BZi_ou"
      }
    },
    {
      "cell_type": "code",
      "source": [
        "imoveisRj_anuncio_Valores_completo.groupby('tipo').count().show()"
      ],
      "metadata": {
        "colab": {
          "base_uri": "https://localhost:8080/"
        },
        "id": "U0j-VF6xh6mL",
        "outputId": "1c3efb3d-827b-4c2b-cbf2-692cb9b75950"
      },
      "execution_count": 192,
      "outputs": [
        {
          "output_type": "stream",
          "name": "stdout",
          "text": [
            "+-------+-----+\n",
            "|   tipo|count|\n",
            "+-------+-----+\n",
            "|Aluguel|  811|\n",
            "|  Venda|88272|\n",
            "+-------+-----+\n",
            "\n"
          ]
        }
      ]
    },
    {
      "cell_type": "code",
      "source": [
        "imoveisRj_anuncio_Valores_completo.filter(imoveisRJ_anuncio_Valores.tipo == \"Venda\").show()"
      ],
      "metadata": {
        "colab": {
          "base_uri": "https://localhost:8080/"
        },
        "id": "-AWxsZRyl2_K",
        "outputId": "a3d26900-3378-401b-ce49-a7bf28304bcc"
      },
      "execution_count": 193,
      "outputs": [
        {
          "output_type": "stream",
          "name": "stdout",
          "text": [
            "+-----+----------+---------+---------+--------------------+--------------------+-------+------+------------+------------+-----------+----+--------------------+----------+----------+------+-----+---------+\n",
            "|andar|area_total|area_util|banheiros|     caracteristicas|                  id|quartos|suites|tipo_anuncio|tipo_unidade|   tipo_uso|vaga|              bairro|      zona|condominio|  iptu| tipo|    valor|\n",
            "+-----+----------+---------+---------+--------------------+--------------------+-------+------+------------+------------+-----------+----+--------------------+----------+----------+------+-----+---------+\n",
            "|    0|       116|      116|        2|[Elevador, Academ...|006e2b19-f4de-450...|      3|     1|       Usado| Apartamento|Residencial|   1|     Barra da Tijuca|Zona Oeste|     100.0| 100.0|Venda|3793260.0|\n",
            "|    0|       143|      143|        4|[Churrasqueira, P...|011acce0-129f-4c2...|      4|     3|       Usado| Apartamento|Residencial|   1|         Jacarepaguá|Zona Oeste|    3948.0|2000.0|Venda|1600000.0|\n",
            "|    7|       236|      236|        4|[Elevador, Academ...|013c582b-eca8-474...|      5|     2|       Usado| Apartamento|Residencial|   3|Freguesia (Jacare...|Zona Oeste|      20.0|  20.0|Venda|1535000.0|\n",
            "|    0|       215|      215|        3|[Churrasqueira, E...|013d04e0-6054-4ac...|      3|     1|       Usado| Apartamento|Residencial|   2|            Botafogo|  Zona Sul|    1685.0|4500.0|Venda|2279540.0|\n",
            "|    0|       262|      262|        1|                  []|02682b9f-d52c-432...|      4|     0|       Usado|      Outros|Residencial|   4|     Barra da Tijuca|Zona Oeste|    1500.0| 500.0|Venda|3000000.0|\n",
            "|    3|        64|       64|        1|[Academia, Churra...|02fba6ef-a691-442...|      2|     2|       Usado| Apartamento|Residencial|   1|         Jacarepaguá|Zona Oeste|     784.0|  80.0|Venda| 380000.0|\n",
            "|    0|        70|       70|        1|                  []|033d84b4-afb8-497...|      2|     0|       Usado|        Casa|Residencial|   2|           Bancários|Zona Norte|     300.0|   0.0|Venda| 270000.0|\n",
            "|    0|        43|       43|        1|[Churrasqueira, A...|03a386b6-7ab8-4ef...|      2|  null|       Usado| Apartamento|Residencial|   1|            Realengo|Zona Oeste|     285.0|  null|Venda|  22999.0|\n",
            "|    2|        80|       80|        2|[Condomínio fecha...|04ff4f3e-3ea8-475...|      2|     2|       Usado|        Casa|Residencial|   1|           Pechincha|Zona Oeste|     200.0|  60.0|Venda| 299900.0|\n",
            "|    2|        66|       66|        2|[Elevador, Salão ...|05e0cf33-59c4-4dd...|      2|     0|       Usado| Apartamento|Residencial|   1|              Leblon|  Zona Sul|    1600.0| 210.0|Venda|1200000.0|\n",
            "|    0|       154|      154|        5|[Condomínio fecha...|06e17192-b0ea-404...|      4|  null|       Usado| Apartamento|Residencial|   3|     Barra da Tijuca|Zona Oeste|    1780.0|4400.0|Venda|2200000.0|\n",
            "|    0|       120|      120|        3|                  []|070a3b3d-9992-422...|      3|     2|       Usado|      Outros|Residencial|   1|              Tijuca|Zona Norte|      null|2000.0|Venda| 590000.0|\n",
            "|    0|       100|      100|        3|[Piscina, Playgro...|075962eb-be7f-47c...|      2|     1|       Usado| Apartamento|Residencial|   1|             Ipanema|  Zona Sul|    5000.0|7840.0|Venda|2000000.0|\n",
            "|    0|        70|       70|        2|          [Elevador]|07ab6e4a-fd5e-4c0...|      2|     0|       Usado| Apartamento|Residencial|   1|            Maracanã|Zona Norte|     550.0|   1.0|Venda| 438999.0|\n",
            "|    2|        50|       48|        1|[Condomínio fecha...|07bb07c1-21cc-4da...|      1|     0|       Usado| Apartamento|Residencial|   0|             Piedade|Zona Norte|      10.0|  10.0|Venda| 170000.0|\n",
            "|    1|       120|      120|        2|[Elevador, Portar...|07cbfef2-efbf-4e8...|      3|     0|       Usado| Apartamento|Residencial|   0|          Copacabana|  Zona Sul|     950.0| 270.0|Venda| 950000.0|\n",
            "|    0|      null|      102|        2|[Academia, Churra...|085e90da-4e5e-4bd...|      2|     2|       Usado| Apartamento|Residencial|   1|         São Conrado|  Zona Sul|       1.0|   1.0|Venda| 950000.0|\n",
            "|    0|      null|       72|        1|[Elevador, Churra...|092409e4-0c46-454...|      2|     0|       Usado| Apartamento|Residencial|   1|                Leme|  Zona Sul|    2000.0| 225.0|Venda| 750000.0|\n",
            "|    0|        68|       68|        1|                  []|0a00abfe-d8ac-487...|      2|     0|       Usado| Apartamento|Residencial|   0|               Zumbi|Zona Norte|     750.0| 230.0|Venda| 340000.0|\n",
            "|    2|       183|      183|        3|[Condomínio fecha...|0b3f15d1-a6fe-429...|      4|     2|       Usado| Apartamento|Residencial|   2|               Lagoa|  Zona Sul|      20.0|  20.0|Venda|5784000.0|\n",
            "+-----+----------+---------+---------+--------------------+--------------------+-------+------+------------+------------+-----------+----+--------------------+----------+----------+------+-----+---------+\n",
            "only showing top 20 rows\n",
            "\n"
          ]
        }
      ]
    },
    {
      "cell_type": "code",
      "source": [
        "imoveisRj_anuncio_Valores_completo.filter(imoveisRJ_anuncio_Valores.tipo == \"Aluguel\").show()"
      ],
      "metadata": {
        "colab": {
          "base_uri": "https://localhost:8080/"
        },
        "id": "Mml3xVJTnF8g",
        "outputId": "f1d0f417-801b-4aab-b60f-ddd756b4168f"
      },
      "execution_count": 194,
      "outputs": [
        {
          "output_type": "stream",
          "name": "stdout",
          "text": [
            "+-----+----------+---------+---------+--------------------+--------------------+-------+------+------------+------------+-----------+----+--------------------+------------+----------+-------+-------+-------+\n",
            "|andar|area_total|area_util|banheiros|     caracteristicas|                  id|quartos|suites|tipo_anuncio|tipo_unidade|   tipo_uso|vaga|              bairro|        zona|condominio|   iptu|   tipo|  valor|\n",
            "+-----+----------+---------+---------+--------------------+--------------------+-------+------+------------+------------+-----------+----+--------------------+------------+----------+-------+-------+-------+\n",
            "|    0|        30|       30|        1|          [Elevador]|070bcd5b-8a55-440...|      0|     0|       Usado|      Outros|  Comercial|   1|     Barra da Tijuca|  Zona Oeste|     998.0|  385.0|Aluguel|  700.0|\n",
            "|    0|       244|      244|        2|                  []|1d449b90-38fa-416...|      0|     0|       Usado|      Outros|  Comercial|   8|     Barra da Tijuca|  Zona Oeste|    7010.0|21470.0|Aluguel|12000.0|\n",
            "|    0|        77|       77|        2|[Piscina, Churras...|7ad121f1-7ab1-44e...|      3|     1|       Usado| Apartamento|Residencial|   1|           Pechincha|  Zona Oeste|     680.0|  220.0|Aluguel| 2900.0|\n",
            "|    0|       145|      145|        3|[Condomínio fechado]|9b9c4def-797e-409...|      0|     0|       Usado|      Outros|  Comercial|   5|     Barra da Tijuca|  Zona Oeste|    5220.0| 1786.0|Aluguel| 5500.0|\n",
            "|    0|       113|      113|        0|                  []|c6da43b9-deb7-492...|      0|     0|       Usado|      Outros|  Comercial|   1|     Barra da Tijuca|  Zona Oeste|    2536.0|   null|Aluguel| 3000.0|\n",
            "|    0|        90|       90|        2|          [Elevador]|d236576d-08f9-468...|      2|     1|       Usado| Apartamento|Residencial|   0|            Flamengo|    Zona Sul|    1150.0|  250.0|Aluguel| 3900.0|\n",
            "|    8|      null|      116|        2|                  []|e218401d-168a-4c2...|      0|     0|       Usado|      Outros|  Comercial|   0|              Centro|Zona Central|     842.0| 1072.0|Aluguel| 3000.0|\n",
            "|    0|      2193|     2193|        0|          [Elevador]|524977b1-dffa-414...|      0|     0|       Usado|      Outros|  Comercial|  18|Freguesia (Jacare...|  Zona Oeste|      null|14454.0|Aluguel|40000.0|\n",
            "|    0|      null|      252|        4|[Condomínio fecha...|a92787f5-ceec-465...|      3|     2|       Usado| Apartamento|Residencial|   2|     Barra da Tijuca|  Zona Oeste|    4000.0|10000.0|Aluguel|10000.0|\n",
            "|    0|        28|       28|        0|          [Elevador]|ad5b242e-9a04-45c...|      1|     0|       Usado|      Outros|  Comercial|   1|              Tijuca|  Zona Norte|     800.0|   null|Aluguel|  900.0|\n",
            "|    0|       145|      145|        3|                  []|d09d06ab-540c-472...|   null|  null|       Usado|      Outros|  Comercial|null|              Centro|Zona Central|    4200.0|  700.0|Aluguel| 3500.0|\n",
            "|    3|       120|      120|        2|[Elevador, Condom...|2d80682e-a3f3-455...|      3|     0|       Usado| Apartamento|Residencial|   1|              Tijuca|  Zona Norte|    1300.0| 1500.0|Aluguel| 2000.0|\n",
            "|    0|       155|      155|        2|                  []|54dc53cd-0be6-465...|      0|     0|       Usado|      Outros|  Comercial|   0|              Centro|Zona Central|    3350.0|  700.0|Aluguel| 2500.0|\n",
            "|    0|        66|       66|        2|[Churrasqueira, E...|8b21d565-ffe8-4b7...|      2|     1|       Usado| Apartamento|Residencial|   1|          Praça Seca|  Zona Oeste|     730.0|   65.0|Aluguel| 1100.0|\n",
            "|    0|        65|       65|        1|                  []|a1c29925-00a3-4c5...|      2|     0|       Usado| Apartamento|Residencial|   1|       Rocha Miranda|  Zona Norte|     500.0|   null|Aluguel|  900.0|\n",
            "|    0|       148|      148|        5|[Academia, Condom...|ae76f6f6-c2b3-49e...|      3|     3|       Usado| Apartamento|Residencial|   2|            Flamengo|    Zona Sul|    2150.0|    0.0|Aluguel|13000.0|\n",
            "|    0|        80|       80|        2|          [Elevador]|bd391ebe-be87-463...|      3|     1|       Usado| Apartamento|Residencial|   1|           Pechincha|  Zona Oeste|     583.0|   66.0|Aluguel| 1100.0|\n",
            "|    7|        42|       42|        1|[Condomínio fecha...|c330311d-2120-436...|      1|     0|       Usado| Apartamento|Residencial|   0|             Humaitá|    Zona Sul|     835.0|  897.0|Aluguel| 1700.0|\n",
            "|    0|        48|       48|        0|                  []|0e251613-3338-4bb...|      0|     0|       Usado|      Outros|  Comercial|   1|           Madureira|  Zona Norte|     637.0| 3142.0|Aluguel| 4500.0|\n",
            "|    0|       447|      447|        6|[Churrasqueira, P...|21cb300b-6b03-415...|      5|     3|       Usado|      Outros|Residencial|   4|     Barra da Tijuca|  Zona Oeste|    1773.0| 1220.0|Aluguel|25000.0|\n",
            "+-----+----------+---------+---------+--------------------+--------------------+-------+------+------------+------------+-----------+----+--------------------+------------+----------+-------+-------+-------+\n",
            "only showing top 20 rows\n",
            "\n"
          ]
        }
      ]
    },
    {
      "cell_type": "code",
      "source": [
        "imoveisRJ_anuncio_Valores_Venda = imoveisRj_anuncio_Valores_completo.filter(imoveisRJ_anuncio_Valores.tipo == \"Venda\")"
      ],
      "metadata": {
        "id": "gi_o3IALidzb"
      },
      "execution_count": 195,
      "outputs": []
    },
    {
      "cell_type": "code",
      "source": [
        "imoveisRJ_anuncio_Valores_Venda.show()"
      ],
      "metadata": {
        "colab": {
          "base_uri": "https://localhost:8080/"
        },
        "id": "vNc1utWZnM4h",
        "outputId": "c477c929-fd59-405c-de40-7529ed6a0828"
      },
      "execution_count": 196,
      "outputs": [
        {
          "output_type": "stream",
          "name": "stdout",
          "text": [
            "+-----+----------+---------+---------+--------------------+--------------------+-------+------+------------+------------+-----------+----+--------------------+----------+----------+------+-----+---------+\n",
            "|andar|area_total|area_util|banheiros|     caracteristicas|                  id|quartos|suites|tipo_anuncio|tipo_unidade|   tipo_uso|vaga|              bairro|      zona|condominio|  iptu| tipo|    valor|\n",
            "+-----+----------+---------+---------+--------------------+--------------------+-------+------+------------+------------+-----------+----+--------------------+----------+----------+------+-----+---------+\n",
            "|    0|       116|      116|        2|[Elevador, Academ...|006e2b19-f4de-450...|      3|     1|       Usado| Apartamento|Residencial|   1|     Barra da Tijuca|Zona Oeste|     100.0| 100.0|Venda|3793260.0|\n",
            "|    0|       143|      143|        4|[Churrasqueira, P...|011acce0-129f-4c2...|      4|     3|       Usado| Apartamento|Residencial|   1|         Jacarepaguá|Zona Oeste|    3948.0|2000.0|Venda|1600000.0|\n",
            "|    7|       236|      236|        4|[Elevador, Academ...|013c582b-eca8-474...|      5|     2|       Usado| Apartamento|Residencial|   3|Freguesia (Jacare...|Zona Oeste|      20.0|  20.0|Venda|1535000.0|\n",
            "|    0|       215|      215|        3|[Churrasqueira, E...|013d04e0-6054-4ac...|      3|     1|       Usado| Apartamento|Residencial|   2|            Botafogo|  Zona Sul|    1685.0|4500.0|Venda|2279540.0|\n",
            "|    0|       262|      262|        1|                  []|02682b9f-d52c-432...|      4|     0|       Usado|      Outros|Residencial|   4|     Barra da Tijuca|Zona Oeste|    1500.0| 500.0|Venda|3000000.0|\n",
            "|    3|        64|       64|        1|[Academia, Churra...|02fba6ef-a691-442...|      2|     2|       Usado| Apartamento|Residencial|   1|         Jacarepaguá|Zona Oeste|     784.0|  80.0|Venda| 380000.0|\n",
            "|    0|        70|       70|        1|                  []|033d84b4-afb8-497...|      2|     0|       Usado|        Casa|Residencial|   2|           Bancários|Zona Norte|     300.0|   0.0|Venda| 270000.0|\n",
            "|    0|        43|       43|        1|[Churrasqueira, A...|03a386b6-7ab8-4ef...|      2|  null|       Usado| Apartamento|Residencial|   1|            Realengo|Zona Oeste|     285.0|  null|Venda|  22999.0|\n",
            "|    2|        80|       80|        2|[Condomínio fecha...|04ff4f3e-3ea8-475...|      2|     2|       Usado|        Casa|Residencial|   1|           Pechincha|Zona Oeste|     200.0|  60.0|Venda| 299900.0|\n",
            "|    2|        66|       66|        2|[Elevador, Salão ...|05e0cf33-59c4-4dd...|      2|     0|       Usado| Apartamento|Residencial|   1|              Leblon|  Zona Sul|    1600.0| 210.0|Venda|1200000.0|\n",
            "|    0|       154|      154|        5|[Condomínio fecha...|06e17192-b0ea-404...|      4|  null|       Usado| Apartamento|Residencial|   3|     Barra da Tijuca|Zona Oeste|    1780.0|4400.0|Venda|2200000.0|\n",
            "|    0|       120|      120|        3|                  []|070a3b3d-9992-422...|      3|     2|       Usado|      Outros|Residencial|   1|              Tijuca|Zona Norte|      null|2000.0|Venda| 590000.0|\n",
            "|    0|       100|      100|        3|[Piscina, Playgro...|075962eb-be7f-47c...|      2|     1|       Usado| Apartamento|Residencial|   1|             Ipanema|  Zona Sul|    5000.0|7840.0|Venda|2000000.0|\n",
            "|    0|        70|       70|        2|          [Elevador]|07ab6e4a-fd5e-4c0...|      2|     0|       Usado| Apartamento|Residencial|   1|            Maracanã|Zona Norte|     550.0|   1.0|Venda| 438999.0|\n",
            "|    2|        50|       48|        1|[Condomínio fecha...|07bb07c1-21cc-4da...|      1|     0|       Usado| Apartamento|Residencial|   0|             Piedade|Zona Norte|      10.0|  10.0|Venda| 170000.0|\n",
            "|    1|       120|      120|        2|[Elevador, Portar...|07cbfef2-efbf-4e8...|      3|     0|       Usado| Apartamento|Residencial|   0|          Copacabana|  Zona Sul|     950.0| 270.0|Venda| 950000.0|\n",
            "|    0|      null|      102|        2|[Academia, Churra...|085e90da-4e5e-4bd...|      2|     2|       Usado| Apartamento|Residencial|   1|         São Conrado|  Zona Sul|       1.0|   1.0|Venda| 950000.0|\n",
            "|    0|      null|       72|        1|[Elevador, Churra...|092409e4-0c46-454...|      2|     0|       Usado| Apartamento|Residencial|   1|                Leme|  Zona Sul|    2000.0| 225.0|Venda| 750000.0|\n",
            "|    0|        68|       68|        1|                  []|0a00abfe-d8ac-487...|      2|     0|       Usado| Apartamento|Residencial|   0|               Zumbi|Zona Norte|     750.0| 230.0|Venda| 340000.0|\n",
            "|    2|       183|      183|        3|[Condomínio fecha...|0b3f15d1-a6fe-429...|      4|     2|       Usado| Apartamento|Residencial|   2|               Lagoa|  Zona Sul|      20.0|  20.0|Venda|5784000.0|\n",
            "+-----+----------+---------+---------+--------------------+--------------------+-------+------+------------+------------+-----------+----+--------------------+----------+----------+------+-----+---------+\n",
            "only showing top 20 rows\n",
            "\n"
          ]
        }
      ]
    },
    {
      "cell_type": "markdown",
      "source": [
        "## Salvando o DataFrame em um arquivo tipo parquet"
      ],
      "metadata": {
        "id": "TpeW4FN6sU08"
      }
    },
    {
      "cell_type": "code",
      "source": [
        "#Salvando o arquivo\n",
        "imoveisRJ_anuncio_Valores_Venda.write.parquet(\"imoveisRJ_tipo_venda.parquet\")"
      ],
      "metadata": {
        "id": "yWcQ4dUqsZjF"
      },
      "execution_count": 165,
      "outputs": []
    },
    {
      "cell_type": "code",
      "source": [
        "# Teste de leitura para certificar a operação anterior\n",
        "parquetFile = spark.read.parquet(\"imoveisRJ_tipo_venda.parquet\")\n",
        "parquetFile.show()"
      ],
      "metadata": {
        "colab": {
          "base_uri": "https://localhost:8080/"
        },
        "id": "4zUgtj4FtioZ",
        "outputId": "d1bd2553-62c6-4ebc-df88-d13271986314"
      },
      "execution_count": 167,
      "outputs": [
        {
          "output_type": "stream",
          "name": "stdout",
          "text": [
            "+-----+----------+---------+---------+--------------------+--------------------+-------+------+------------+------------+-----------+----+--------------------+----------+----------+-------+-----+---------+\n",
            "|andar|area_total|area_util|banheiros|     caracteristicas|                  id|quartos|suites|tipo_anuncio|tipo_unidade|   tipo_uso|vaga|              bairro|      zona|condominio|   iptu| tipo|    valor|\n",
            "+-----+----------+---------+---------+--------------------+--------------------+-------+------+------------+------------+-----------+----+--------------------+----------+----------+-------+-----+---------+\n",
            "|    2|       270|      155|        3|[Condomínio fecha...|00406835-540c-4fb...|      3|     1|       Usado|        Casa|Residencial|   2|                Anil|Zona Oeste|     401.0| 1600.0|Venda| 950000.0|\n",
            "|   11|       166|      166|        5|[Academia, Churra...|00790b85-56e3-43a...|      4|     4|       Usado| Apartamento|Residencial|   2|         Jacarepaguá|Zona Oeste|    2100.0| 4600.0|Venda|1750000.0|\n",
            "|    4|       640|      640|        5|[Animais permitid...|007f8099-8e1d-45f...|     11|     3|       Usado| Apartamento|Residencial|null|                Urca|  Zona Sul|    3060.0|20030.0|Venda|3800000.0|\n",
            "|    1|        50|       50|        1|[Academia, Churra...|00b23c6d-0e9d-4be...|      2|     0|       Usado| Apartamento|Residencial|   1|     Parada de Lucas|Zona Norte|     363.0|   97.0|Venda| 192000.0|\n",
            "|    0|       160|      160|        4|          [Elevador]|012aebd7-278f-4b4...|      3|     1|       Usado| Apartamento|Residencial|   3|             Ipanema|  Zona Sul|    1530.0| 7440.0|Venda|3490000.0|\n",
            "|    0|       288|      288|        4|[Portão eletrônic...|0180a0df-607d-4c5...|      4|     1|       Usado|        Casa|Residencial|   3|Freguesia (Jacare...|Zona Oeste|     395.0| 4900.0|Venda|1190000.0|\n",
            "|    0|        52|       52|        1|[Churrasqueira, P...|0267dcdb-7705-44a...|      2|     1|       Usado| Apartamento|Residencial|   1|           Pechincha|Zona Oeste|      null|   null|Venda| 440000.0|\n",
            "|    0|       219|      219|        4|[Elevador, Academ...|02ad9d93-7b89-46b...|      4|     2|       Usado| Apartamento|Residencial|   3|     Barra da Tijuca|Zona Oeste|    2800.0| 5855.0|Venda|2300000.0|\n",
            "|    0|        75|       75|        2|[Academia, Condom...|02ef01fe-9333-40f...|      3|     1|       Usado| Apartamento|Residencial|   1|            Botafogo|  Zona Sul|      10.0|   10.0|Venda|1345000.0|\n",
            "|    0|       220|      220|        7|[Churrasqueira, C...|0315ff24-1edd-4ec...|      4|     4|       Usado|      Outros|Residencial|   2|Recreio dos Bande...|Zona Oeste|    2000.0|  500.0|Venda|1650000.0|\n",
            "|    0|       360|      360|        7|[Churrasqueira, E...|03907a08-e031-47b...|      5|     4|       Usado|      Outros|Residencial|   3|Recreio dos Bande...|Zona Oeste|       0.0|    0.0|Venda|1590000.0|\n",
            "|    0|        82|       82|        2|[Academia, Churra...|04171318-00f9-430...|      3|     1|       Usado| Apartamento|Residencial|   1|Recreio dos Bande...|Zona Oeste|     870.0| 1900.0|Venda| 484999.0|\n",
            "|    0|       187|      187|        5|[Condomínio fecha...|04a03e35-1a8b-4fc...|      4|     2|       Usado| Apartamento|Residencial|   3|     Barra da Tijuca|Zona Oeste|    2600.0| 5800.0|Venda|1950000.0|\n",
            "|    8|       132|      132|        3|[Academia, Churra...|04a8d9c5-daca-44f...|      4|     2|       Usado| Apartamento|Residencial|   2|         Jacarepaguá|Zona Oeste|       1.0|    1.0|Venda|1330000.0|\n",
            "|   11|       153|      153|        4|                  []|058e6011-b830-455...|      3|     2|       Usado| Apartamento|Residencial|   2|               Gávea|  Zona Sul|    2200.0|  350.0|Venda|3100000.0|\n",
            "|    2|        80|       80|        1|[Academia, Elevad...|05beb775-9afa-428...|      3|     0|       Usado| Apartamento|Residencial|   1|          Copacabana|  Zona Sul|     940.0|  160.0|Venda| 749000.0|\n",
            "|    0|       148|      148|        3|   [Salão de festas]|067673ae-4b0f-444...|      3|     1|       Usado| Apartamento|Residencial|   1|          Copacabana|  Zona Sul|    1500.0| 3800.0|Venda|1100000.0|\n",
            "|    0|       481|      481|        5|           [Piscina]|06f1e6fd-58cb-40c...|      4|     4|       Usado|      Outros|Residencial|   3|     Barra da Tijuca|Zona Oeste|    2600.0| 1771.0|Venda|4890000.0|\n",
            "|    0|       238|      238|        1|[Churrasqueira, C...|0758b0ca-0844-430...|      3|     1|       Usado|      Outros|Residencial|   3|        Campo Grande|Zona Oeste|     700.0| 1900.0|Venda|1380000.0|\n",
            "|    0|        52|       52|        1|[Condomínio fecha...|07bd5c4a-e06d-4da...|      2|  null|       Usado| Apartamento|Residencial|   1|         Jacarepaguá|Zona Oeste|     500.0|  300.0|Venda| 270000.0|\n",
            "+-----+----------+---------+---------+--------------------+--------------------+-------+------+------------+------------+-----------+----+--------------------+----------+----------+-------+-----+---------+\n",
            "only showing top 20 rows\n",
            "\n"
          ]
        }
      ]
    },
    {
      "cell_type": "markdown",
      "source": [
        "## Salvando o DataFrame e um arquivo tipo csv"
      ],
      "metadata": {
        "id": "ueh4ukPtuJXq"
      }
    },
    {
      "cell_type": "code",
      "source": [
        "from pyspark.sql import Column"
      ],
      "metadata": {
        "id": "ImEEGu-oEObI"
      },
      "execution_count": 216,
      "outputs": []
    },
    {
      "cell_type": "code",
      "source": [
        "imoveisRJ_anuncio_Valores_Venda.show(1)"
      ],
      "metadata": {
        "colab": {
          "base_uri": "https://localhost:8080/"
        },
        "id": "litIzwR2zyw8",
        "outputId": "26dc7ad4-d32c-43cb-d09f-f32f263bc176"
      },
      "execution_count": 203,
      "outputs": [
        {
          "output_type": "stream",
          "name": "stdout",
          "text": [
            "+-----+----------+---------+---------+--------------------+--------------------+-------+------+------------+------------+-----------+----+---------------+----------+----------+-----+-----+---------+\n",
            "|andar|area_total|area_util|banheiros|     caracteristicas|                  id|quartos|suites|tipo_anuncio|tipo_unidade|   tipo_uso|vaga|         bairro|      zona|condominio| iptu| tipo|    valor|\n",
            "+-----+----------+---------+---------+--------------------+--------------------+-------+------+------------+------------+-----------+----+---------------+----------+----------+-----+-----+---------+\n",
            "|    0|       116|      116|        2|[Elevador, Academ...|006e2b19-f4de-450...|      3|     1|       Usado| Apartamento|Residencial|   1|Barra da Tijuca|Zona Oeste|     100.0|100.0|Venda|3793260.0|\n",
            "+-----+----------+---------+---------+--------------------+--------------------+-------+------+------------+------------+-----------+----+---------------+----------+----------+-----+-----+---------+\n",
            "only showing top 1 row\n",
            "\n"
          ]
        }
      ]
    },
    {
      "cell_type": "code",
      "source": [
        "imoveisRJ_anuncio_Valores_Venda.printSchema()"
      ],
      "metadata": {
        "colab": {
          "base_uri": "https://localhost:8080/"
        },
        "id": "3OqZrvEPz2NX",
        "outputId": "00229518-e365-4a94-f496-fde0aab316ae"
      },
      "execution_count": 198,
      "outputs": [
        {
          "output_type": "stream",
          "name": "stdout",
          "text": [
            "root\n",
            " |-- andar: long (nullable = true)\n",
            " |-- area_total: integer (nullable = true)\n",
            " |-- area_util: integer (nullable = true)\n",
            " |-- banheiros: integer (nullable = true)\n",
            " |-- caracteristicas: array (nullable = true)\n",
            " |    |-- element: string (containsNull = true)\n",
            " |-- id: string (nullable = true)\n",
            " |-- quartos: integer (nullable = true)\n",
            " |-- suites: integer (nullable = true)\n",
            " |-- tipo_anuncio: string (nullable = true)\n",
            " |-- tipo_unidade: string (nullable = true)\n",
            " |-- tipo_uso: string (nullable = true)\n",
            " |-- vaga: integer (nullable = true)\n",
            " |-- bairro: string (nullable = true)\n",
            " |-- zona: string (nullable = true)\n",
            " |-- condominio: double (nullable = true)\n",
            " |-- iptu: double (nullable = true)\n",
            " |-- tipo: string (nullable = true)\n",
            " |-- valor: double (nullable = true)\n",
            "\n"
          ]
        }
      ]
    },
    {
      "cell_type": "code",
      "source": [
        "imoveisRJ_anuncio_Valores_Venda.count()"
      ],
      "metadata": {
        "colab": {
          "base_uri": "https://localhost:8080/"
        },
        "id": "9EKBLcj2AEpQ",
        "outputId": "7fa77a92-6d32-4c2b-9ecf-1d05fbe5c034"
      },
      "execution_count": 204,
      "outputs": [
        {
          "output_type": "execute_result",
          "data": {
            "text/plain": [
              "88272"
            ]
          },
          "metadata": {},
          "execution_count": 204
        }
      ]
    },
    {
      "cell_type": "code",
      "source": [
        "# Transformando a coluna 'caracteristicas' de Array para String\n",
        "imoveisRJ_anuncio_Valores_Venda_csv = imoveisRJ_anuncio_Valores_Venda.withColumn('caracteristicas', concat_ws(\",\",col(\"caracteristicas\")))"
      ],
      "metadata": {
        "id": "qQroqxksv80T"
      },
      "execution_count": 218,
      "outputs": []
    },
    {
      "cell_type": "code",
      "source": [
        "imoveisRJ_anuncio_Valores_Venda_csv.printSchema()"
      ],
      "metadata": {
        "colab": {
          "base_uri": "https://localhost:8080/"
        },
        "id": "ZE1eAqk4-xoR",
        "outputId": "3b52a9e0-6420-4d9b-f649-5d2c10e5b270"
      },
      "execution_count": 221,
      "outputs": [
        {
          "output_type": "stream",
          "name": "stdout",
          "text": [
            "root\n",
            " |-- andar: long (nullable = true)\n",
            " |-- area_total: integer (nullable = true)\n",
            " |-- area_util: integer (nullable = true)\n",
            " |-- banheiros: integer (nullable = true)\n",
            " |-- caracteristicas: string (nullable = false)\n",
            " |-- id: string (nullable = true)\n",
            " |-- quartos: integer (nullable = true)\n",
            " |-- suites: integer (nullable = true)\n",
            " |-- tipo_anuncio: string (nullable = true)\n",
            " |-- tipo_unidade: string (nullable = true)\n",
            " |-- tipo_uso: string (nullable = true)\n",
            " |-- vaga: integer (nullable = true)\n",
            " |-- bairro: string (nullable = true)\n",
            " |-- zona: string (nullable = true)\n",
            " |-- condominio: double (nullable = true)\n",
            " |-- iptu: double (nullable = true)\n",
            " |-- tipo: string (nullable = true)\n",
            " |-- valor: double (nullable = true)\n",
            "\n"
          ]
        }
      ]
    },
    {
      "cell_type": "code",
      "source": [
        "imoveisRJ_anuncio_Valores_Venda_csv.show()"
      ],
      "metadata": {
        "colab": {
          "base_uri": "https://localhost:8080/"
        },
        "id": "mxXqWxd9_c_m",
        "outputId": "558a9624-6d5c-4304-f791-0abc65a324ff"
      },
      "execution_count": 219,
      "outputs": [
        {
          "output_type": "stream",
          "name": "stdout",
          "text": [
            "+-----+----------+---------+---------+--------------------+--------------------+-------+------+------------+------------+-----------+----+--------------------+----------+----------+------+-----+---------+\n",
            "|andar|area_total|area_util|banheiros|     caracteristicas|                  id|quartos|suites|tipo_anuncio|tipo_unidade|   tipo_uso|vaga|              bairro|      zona|condominio|  iptu| tipo|    valor|\n",
            "+-----+----------+---------+---------+--------------------+--------------------+-------+------+------------+------------+-----------+----+--------------------+----------+----------+------+-----+---------+\n",
            "|    0|       116|      116|        2|Elevador,Academia...|006e2b19-f4de-450...|      3|     1|       Usado| Apartamento|Residencial|   1|     Barra da Tijuca|Zona Oeste|     100.0| 100.0|Venda|3793260.0|\n",
            "|    0|       143|      143|        4|Churrasqueira,Pis...|011acce0-129f-4c2...|      4|     3|       Usado| Apartamento|Residencial|   1|         Jacarepaguá|Zona Oeste|    3948.0|2000.0|Venda|1600000.0|\n",
            "|    7|       236|      236|        4|Elevador,Academia...|013c582b-eca8-474...|      5|     2|       Usado| Apartamento|Residencial|   3|Freguesia (Jacare...|Zona Oeste|      20.0|  20.0|Venda|1535000.0|\n",
            "|    0|       215|      215|        3|Churrasqueira,Ele...|013d04e0-6054-4ac...|      3|     1|       Usado| Apartamento|Residencial|   2|            Botafogo|  Zona Sul|    1685.0|4500.0|Venda|2279540.0|\n",
            "|    0|       262|      262|        1|                    |02682b9f-d52c-432...|      4|     0|       Usado|      Outros|Residencial|   4|     Barra da Tijuca|Zona Oeste|    1500.0| 500.0|Venda|3000000.0|\n",
            "|    3|        64|       64|        1|Academia,Churrasq...|02fba6ef-a691-442...|      2|     2|       Usado| Apartamento|Residencial|   1|         Jacarepaguá|Zona Oeste|     784.0|  80.0|Venda| 380000.0|\n",
            "|    0|        70|       70|        1|                    |033d84b4-afb8-497...|      2|     0|       Usado|        Casa|Residencial|   2|           Bancários|Zona Norte|     300.0|   0.0|Venda| 270000.0|\n",
            "|    0|        43|       43|        1|Churrasqueira,Aca...|03a386b6-7ab8-4ef...|      2|  null|       Usado| Apartamento|Residencial|   1|            Realengo|Zona Oeste|     285.0|  null|Venda|  22999.0|\n",
            "|    2|        80|       80|        2|Condomínio fechad...|04ff4f3e-3ea8-475...|      2|     2|       Usado|        Casa|Residencial|   1|           Pechincha|Zona Oeste|     200.0|  60.0|Venda| 299900.0|\n",
            "|    2|        66|       66|        2|Elevador,Salão de...|05e0cf33-59c4-4dd...|      2|     0|       Usado| Apartamento|Residencial|   1|              Leblon|  Zona Sul|    1600.0| 210.0|Venda|1200000.0|\n",
            "|    0|       154|      154|        5|Condomínio fechad...|06e17192-b0ea-404...|      4|  null|       Usado| Apartamento|Residencial|   3|     Barra da Tijuca|Zona Oeste|    1780.0|4400.0|Venda|2200000.0|\n",
            "|    0|       120|      120|        3|                    |070a3b3d-9992-422...|      3|     2|       Usado|      Outros|Residencial|   1|              Tijuca|Zona Norte|      null|2000.0|Venda| 590000.0|\n",
            "|    0|       100|      100|        3|  Piscina,Playground|075962eb-be7f-47c...|      2|     1|       Usado| Apartamento|Residencial|   1|             Ipanema|  Zona Sul|    5000.0|7840.0|Venda|2000000.0|\n",
            "|    0|        70|       70|        2|            Elevador|07ab6e4a-fd5e-4c0...|      2|     0|       Usado| Apartamento|Residencial|   1|            Maracanã|Zona Norte|     550.0|   1.0|Venda| 438999.0|\n",
            "|    2|        50|       48|        1|Condomínio fechad...|07bb07c1-21cc-4da...|      1|     0|       Usado| Apartamento|Residencial|   0|             Piedade|Zona Norte|      10.0|  10.0|Venda| 170000.0|\n",
            "|    1|       120|      120|        2|Elevador,Portaria...|07cbfef2-efbf-4e8...|      3|     0|       Usado| Apartamento|Residencial|   0|          Copacabana|  Zona Sul|     950.0| 270.0|Venda| 950000.0|\n",
            "|    0|      null|      102|        2|Academia,Churrasq...|085e90da-4e5e-4bd...|      2|     2|       Usado| Apartamento|Residencial|   1|         São Conrado|  Zona Sul|       1.0|   1.0|Venda| 950000.0|\n",
            "|    0|      null|       72|        1|Elevador,Churrasq...|092409e4-0c46-454...|      2|     0|       Usado| Apartamento|Residencial|   1|                Leme|  Zona Sul|    2000.0| 225.0|Venda| 750000.0|\n",
            "|    0|        68|       68|        1|                    |0a00abfe-d8ac-487...|      2|     0|       Usado| Apartamento|Residencial|   0|               Zumbi|Zona Norte|     750.0| 230.0|Venda| 340000.0|\n",
            "|    2|       183|      183|        3|Condomínio fechad...|0b3f15d1-a6fe-429...|      4|     2|       Usado| Apartamento|Residencial|   2|               Lagoa|  Zona Sul|      20.0|  20.0|Venda|5784000.0|\n",
            "+-----+----------+---------+---------+--------------------+--------------------+-------+------+------------+------------+-----------+----+--------------------+----------+----------+------+-----+---------+\n",
            "only showing top 20 rows\n",
            "\n"
          ]
        }
      ]
    },
    {
      "cell_type": "code",
      "source": [
        "imoveisRJ_anuncio_Valores_Venda_csv.count()"
      ],
      "metadata": {
        "colab": {
          "base_uri": "https://localhost:8080/"
        },
        "id": "1c29miUVAIPH",
        "outputId": "8e86c1d3-a18a-4007-bba5-88d4bf79eed4"
      },
      "execution_count": 220,
      "outputs": [
        {
          "output_type": "execute_result",
          "data": {
            "text/plain": [
              "88272"
            ]
          },
          "metadata": {},
          "execution_count": 220
        }
      ]
    },
    {
      "cell_type": "code",
      "source": [
        "#Salvando o arquivo\n",
        "imoveisRJ_anuncio_Valores_Venda_csv.write.option(\"header\",True).csv(\"imoveisRJ_tipo_venda.csv\")"
      ],
      "metadata": {
        "id": "mJyegX_7tqLW"
      },
      "execution_count": 222,
      "outputs": []
    },
    {
      "cell_type": "code",
      "source": [
        "# Teste de leitura para certificar a operação anterior\n",
        "csvFile = spark.read.option(\"header\",True).csv(\"imoveisRJ_tipo_venda.csv\")\n",
        "csvFile.show()"
      ],
      "metadata": {
        "colab": {
          "base_uri": "https://localhost:8080/"
        },
        "id": "PWHbLfytGW2x",
        "outputId": "79e83f33-dcec-4db4-8957-3c23060f38aa"
      },
      "execution_count": 225,
      "outputs": [
        {
          "output_type": "stream",
          "name": "stdout",
          "text": [
            "+-----+----------+---------+---------+--------------------+--------------------+-------+------+------------+------------+-----------+----+--------------------+----------+----------+-------+-----+---------+\n",
            "|andar|area_total|area_util|banheiros|     caracteristicas|                  id|quartos|suites|tipo_anuncio|tipo_unidade|   tipo_uso|vaga|              bairro|      zona|condominio|   iptu| tipo|    valor|\n",
            "+-----+----------+---------+---------+--------------------+--------------------+-------+------+------------+------------+-----------+----+--------------------+----------+----------+-------+-----+---------+\n",
            "|    2|       270|      155|        3|Condomínio fechad...|00406835-540c-4fb...|      3|     1|       Usado|        Casa|Residencial|   2|                Anil|Zona Oeste|     401.0| 1600.0|Venda| 950000.0|\n",
            "|   11|       166|      166|        5|Academia,Churrasq...|00790b85-56e3-43a...|      4|     4|       Usado| Apartamento|Residencial|   2|         Jacarepaguá|Zona Oeste|    2100.0| 4600.0|Venda|1750000.0|\n",
            "|    4|       640|      640|        5|Animais permitido...|007f8099-8e1d-45f...|     11|     3|       Usado| Apartamento|Residencial|null|                Urca|  Zona Sul|    3060.0|20030.0|Venda|3800000.0|\n",
            "|    1|        50|       50|        1|Academia,Churrasq...|00b23c6d-0e9d-4be...|      2|     0|       Usado| Apartamento|Residencial|   1|     Parada de Lucas|Zona Norte|     363.0|   97.0|Venda| 192000.0|\n",
            "|    0|       160|      160|        4|            Elevador|012aebd7-278f-4b4...|      3|     1|       Usado| Apartamento|Residencial|   3|             Ipanema|  Zona Sul|    1530.0| 7440.0|Venda|3490000.0|\n",
            "|    0|       288|      288|        4|Portão eletrônico...|0180a0df-607d-4c5...|      4|     1|       Usado|        Casa|Residencial|   3|Freguesia (Jacare...|Zona Oeste|     395.0| 4900.0|Venda|1190000.0|\n",
            "|    0|        52|       52|        1|Churrasqueira,Pis...|0267dcdb-7705-44a...|      2|     1|       Usado| Apartamento|Residencial|   1|           Pechincha|Zona Oeste|      null|   null|Venda| 440000.0|\n",
            "|    0|       219|      219|        4|Elevador,Academia...|02ad9d93-7b89-46b...|      4|     2|       Usado| Apartamento|Residencial|   3|     Barra da Tijuca|Zona Oeste|    2800.0| 5855.0|Venda|2300000.0|\n",
            "|    0|        75|       75|        2|Academia,Condomín...|02ef01fe-9333-40f...|      3|     1|       Usado| Apartamento|Residencial|   1|            Botafogo|  Zona Sul|      10.0|   10.0|Venda|1345000.0|\n",
            "|    0|       220|      220|        7|Churrasqueira,Con...|0315ff24-1edd-4ec...|      4|     4|       Usado|      Outros|Residencial|   2|Recreio dos Bande...|Zona Oeste|    2000.0|  500.0|Venda|1650000.0|\n",
            "|    0|       360|      360|        7|Churrasqueira,Ele...|03907a08-e031-47b...|      5|     4|       Usado|      Outros|Residencial|   3|Recreio dos Bande...|Zona Oeste|       0.0|    0.0|Venda|1590000.0|\n",
            "|    0|        82|       82|        2|Academia,Churrasq...|04171318-00f9-430...|      3|     1|       Usado| Apartamento|Residencial|   1|Recreio dos Bande...|Zona Oeste|     870.0| 1900.0|Venda| 484999.0|\n",
            "|    0|       187|      187|        5|Condomínio fechad...|04a03e35-1a8b-4fc...|      4|     2|       Usado| Apartamento|Residencial|   3|     Barra da Tijuca|Zona Oeste|    2600.0| 5800.0|Venda|1950000.0|\n",
            "|    8|       132|      132|        3|Academia,Churrasq...|04a8d9c5-daca-44f...|      4|     2|       Usado| Apartamento|Residencial|   2|         Jacarepaguá|Zona Oeste|       1.0|    1.0|Venda|1330000.0|\n",
            "|   11|       153|      153|        4|                null|058e6011-b830-455...|      3|     2|       Usado| Apartamento|Residencial|   2|               Gávea|  Zona Sul|    2200.0|  350.0|Venda|3100000.0|\n",
            "|    2|        80|       80|        1|Academia,Elevador...|05beb775-9afa-428...|      3|     0|       Usado| Apartamento|Residencial|   1|          Copacabana|  Zona Sul|     940.0|  160.0|Venda| 749000.0|\n",
            "|    0|       148|      148|        3|     Salão de festas|067673ae-4b0f-444...|      3|     1|       Usado| Apartamento|Residencial|   1|          Copacabana|  Zona Sul|    1500.0| 3800.0|Venda|1100000.0|\n",
            "|    0|       481|      481|        5|             Piscina|06f1e6fd-58cb-40c...|      4|     4|       Usado|      Outros|Residencial|   3|     Barra da Tijuca|Zona Oeste|    2600.0| 1771.0|Venda|4890000.0|\n",
            "|    0|       238|      238|        1|Churrasqueira,Con...|0758b0ca-0844-430...|      3|     1|       Usado|      Outros|Residencial|   3|        Campo Grande|Zona Oeste|     700.0| 1900.0|Venda|1380000.0|\n",
            "|    0|        52|       52|        1|Condomínio fechad...|07bd5c4a-e06d-4da...|      2|  null|       Usado| Apartamento|Residencial|   1|         Jacarepaguá|Zona Oeste|     500.0|  300.0|Venda| 270000.0|\n",
            "+-----+----------+---------+---------+--------------------+--------------------+-------+------+------------+------------+-----------+----+--------------------+----------+----------+-------+-----+---------+\n",
            "only showing top 20 rows\n",
            "\n"
          ]
        }
      ]
    },
    {
      "cell_type": "markdown",
      "source": [
        "## Comparando o tempo de leitura dos arquivos .parquet e .csv"
      ],
      "metadata": {
        "id": "ttmAiup5HQA0"
      }
    },
    {
      "cell_type": "code",
      "source": [
        "# Arquivo .parquet\n",
        "%%time\n",
        "\n",
        "parquetFile = spark.read.parquet(\"imoveisRJ_tipo_venda.parquet\")\n",
        "parquetFile.show()"
      ],
      "metadata": {
        "colab": {
          "base_uri": "https://localhost:8080/"
        },
        "id": "Oz5hjk0UG1sE",
        "outputId": "402529bd-c674-4fa8-83fa-3f4bc52fa229"
      },
      "execution_count": 226,
      "outputs": [
        {
          "output_type": "stream",
          "name": "stdout",
          "text": [
            "+-----+----------+---------+---------+--------------------+--------------------+-------+------+------------+------------+-----------+----+--------------------+----------+----------+-------+-----+---------+\n",
            "|andar|area_total|area_util|banheiros|     caracteristicas|                  id|quartos|suites|tipo_anuncio|tipo_unidade|   tipo_uso|vaga|              bairro|      zona|condominio|   iptu| tipo|    valor|\n",
            "+-----+----------+---------+---------+--------------------+--------------------+-------+------+------------+------------+-----------+----+--------------------+----------+----------+-------+-----+---------+\n",
            "|    2|       270|      155|        3|[Condomínio fecha...|00406835-540c-4fb...|      3|     1|       Usado|        Casa|Residencial|   2|                Anil|Zona Oeste|     401.0| 1600.0|Venda| 950000.0|\n",
            "|   11|       166|      166|        5|[Academia, Churra...|00790b85-56e3-43a...|      4|     4|       Usado| Apartamento|Residencial|   2|         Jacarepaguá|Zona Oeste|    2100.0| 4600.0|Venda|1750000.0|\n",
            "|    4|       640|      640|        5|[Animais permitid...|007f8099-8e1d-45f...|     11|     3|       Usado| Apartamento|Residencial|null|                Urca|  Zona Sul|    3060.0|20030.0|Venda|3800000.0|\n",
            "|    1|        50|       50|        1|[Academia, Churra...|00b23c6d-0e9d-4be...|      2|     0|       Usado| Apartamento|Residencial|   1|     Parada de Lucas|Zona Norte|     363.0|   97.0|Venda| 192000.0|\n",
            "|    0|       160|      160|        4|          [Elevador]|012aebd7-278f-4b4...|      3|     1|       Usado| Apartamento|Residencial|   3|             Ipanema|  Zona Sul|    1530.0| 7440.0|Venda|3490000.0|\n",
            "|    0|       288|      288|        4|[Portão eletrônic...|0180a0df-607d-4c5...|      4|     1|       Usado|        Casa|Residencial|   3|Freguesia (Jacare...|Zona Oeste|     395.0| 4900.0|Venda|1190000.0|\n",
            "|    0|        52|       52|        1|[Churrasqueira, P...|0267dcdb-7705-44a...|      2|     1|       Usado| Apartamento|Residencial|   1|           Pechincha|Zona Oeste|      null|   null|Venda| 440000.0|\n",
            "|    0|       219|      219|        4|[Elevador, Academ...|02ad9d93-7b89-46b...|      4|     2|       Usado| Apartamento|Residencial|   3|     Barra da Tijuca|Zona Oeste|    2800.0| 5855.0|Venda|2300000.0|\n",
            "|    0|        75|       75|        2|[Academia, Condom...|02ef01fe-9333-40f...|      3|     1|       Usado| Apartamento|Residencial|   1|            Botafogo|  Zona Sul|      10.0|   10.0|Venda|1345000.0|\n",
            "|    0|       220|      220|        7|[Churrasqueira, C...|0315ff24-1edd-4ec...|      4|     4|       Usado|      Outros|Residencial|   2|Recreio dos Bande...|Zona Oeste|    2000.0|  500.0|Venda|1650000.0|\n",
            "|    0|       360|      360|        7|[Churrasqueira, E...|03907a08-e031-47b...|      5|     4|       Usado|      Outros|Residencial|   3|Recreio dos Bande...|Zona Oeste|       0.0|    0.0|Venda|1590000.0|\n",
            "|    0|        82|       82|        2|[Academia, Churra...|04171318-00f9-430...|      3|     1|       Usado| Apartamento|Residencial|   1|Recreio dos Bande...|Zona Oeste|     870.0| 1900.0|Venda| 484999.0|\n",
            "|    0|       187|      187|        5|[Condomínio fecha...|04a03e35-1a8b-4fc...|      4|     2|       Usado| Apartamento|Residencial|   3|     Barra da Tijuca|Zona Oeste|    2600.0| 5800.0|Venda|1950000.0|\n",
            "|    8|       132|      132|        3|[Academia, Churra...|04a8d9c5-daca-44f...|      4|     2|       Usado| Apartamento|Residencial|   2|         Jacarepaguá|Zona Oeste|       1.0|    1.0|Venda|1330000.0|\n",
            "|   11|       153|      153|        4|                  []|058e6011-b830-455...|      3|     2|       Usado| Apartamento|Residencial|   2|               Gávea|  Zona Sul|    2200.0|  350.0|Venda|3100000.0|\n",
            "|    2|        80|       80|        1|[Academia, Elevad...|05beb775-9afa-428...|      3|     0|       Usado| Apartamento|Residencial|   1|          Copacabana|  Zona Sul|     940.0|  160.0|Venda| 749000.0|\n",
            "|    0|       148|      148|        3|   [Salão de festas]|067673ae-4b0f-444...|      3|     1|       Usado| Apartamento|Residencial|   1|          Copacabana|  Zona Sul|    1500.0| 3800.0|Venda|1100000.0|\n",
            "|    0|       481|      481|        5|           [Piscina]|06f1e6fd-58cb-40c...|      4|     4|       Usado|      Outros|Residencial|   3|     Barra da Tijuca|Zona Oeste|    2600.0| 1771.0|Venda|4890000.0|\n",
            "|    0|       238|      238|        1|[Churrasqueira, C...|0758b0ca-0844-430...|      3|     1|       Usado|      Outros|Residencial|   3|        Campo Grande|Zona Oeste|     700.0| 1900.0|Venda|1380000.0|\n",
            "|    0|        52|       52|        1|[Condomínio fecha...|07bd5c4a-e06d-4da...|      2|  null|       Usado| Apartamento|Residencial|   1|         Jacarepaguá|Zona Oeste|     500.0|  300.0|Venda| 270000.0|\n",
            "+-----+----------+---------+---------+--------------------+--------------------+-------+------+------------+------------+-----------+----+--------------------+----------+----------+-------+-----+---------+\n",
            "only showing top 20 rows\n",
            "\n",
            "CPU times: user 4.35 ms, sys: 866 µs, total: 5.21 ms\n",
            "Wall time: 248 ms\n"
          ]
        }
      ]
    },
    {
      "cell_type": "code",
      "source": [
        "# Arquivo .csv\n",
        "%%time\n",
        "\n",
        "csvFile = spark.read.option(\"header\",True).csv(\"imoveisRJ_tipo_venda.csv\")\n",
        "csvFile.show()"
      ],
      "metadata": {
        "colab": {
          "base_uri": "https://localhost:8080/"
        },
        "id": "g5gE2TZZHcbr",
        "outputId": "6848f906-81ae-44c9-c531-b78106e0af4e"
      },
      "execution_count": 227,
      "outputs": [
        {
          "output_type": "stream",
          "name": "stdout",
          "text": [
            "+-----+----------+---------+---------+--------------------+--------------------+-------+------+------------+------------+-----------+----+--------------------+----------+----------+-------+-----+---------+\n",
            "|andar|area_total|area_util|banheiros|     caracteristicas|                  id|quartos|suites|tipo_anuncio|tipo_unidade|   tipo_uso|vaga|              bairro|      zona|condominio|   iptu| tipo|    valor|\n",
            "+-----+----------+---------+---------+--------------------+--------------------+-------+------+------------+------------+-----------+----+--------------------+----------+----------+-------+-----+---------+\n",
            "|    2|       270|      155|        3|Condomínio fechad...|00406835-540c-4fb...|      3|     1|       Usado|        Casa|Residencial|   2|                Anil|Zona Oeste|     401.0| 1600.0|Venda| 950000.0|\n",
            "|   11|       166|      166|        5|Academia,Churrasq...|00790b85-56e3-43a...|      4|     4|       Usado| Apartamento|Residencial|   2|         Jacarepaguá|Zona Oeste|    2100.0| 4600.0|Venda|1750000.0|\n",
            "|    4|       640|      640|        5|Animais permitido...|007f8099-8e1d-45f...|     11|     3|       Usado| Apartamento|Residencial|null|                Urca|  Zona Sul|    3060.0|20030.0|Venda|3800000.0|\n",
            "|    1|        50|       50|        1|Academia,Churrasq...|00b23c6d-0e9d-4be...|      2|     0|       Usado| Apartamento|Residencial|   1|     Parada de Lucas|Zona Norte|     363.0|   97.0|Venda| 192000.0|\n",
            "|    0|       160|      160|        4|            Elevador|012aebd7-278f-4b4...|      3|     1|       Usado| Apartamento|Residencial|   3|             Ipanema|  Zona Sul|    1530.0| 7440.0|Venda|3490000.0|\n",
            "|    0|       288|      288|        4|Portão eletrônico...|0180a0df-607d-4c5...|      4|     1|       Usado|        Casa|Residencial|   3|Freguesia (Jacare...|Zona Oeste|     395.0| 4900.0|Venda|1190000.0|\n",
            "|    0|        52|       52|        1|Churrasqueira,Pis...|0267dcdb-7705-44a...|      2|     1|       Usado| Apartamento|Residencial|   1|           Pechincha|Zona Oeste|      null|   null|Venda| 440000.0|\n",
            "|    0|       219|      219|        4|Elevador,Academia...|02ad9d93-7b89-46b...|      4|     2|       Usado| Apartamento|Residencial|   3|     Barra da Tijuca|Zona Oeste|    2800.0| 5855.0|Venda|2300000.0|\n",
            "|    0|        75|       75|        2|Academia,Condomín...|02ef01fe-9333-40f...|      3|     1|       Usado| Apartamento|Residencial|   1|            Botafogo|  Zona Sul|      10.0|   10.0|Venda|1345000.0|\n",
            "|    0|       220|      220|        7|Churrasqueira,Con...|0315ff24-1edd-4ec...|      4|     4|       Usado|      Outros|Residencial|   2|Recreio dos Bande...|Zona Oeste|    2000.0|  500.0|Venda|1650000.0|\n",
            "|    0|       360|      360|        7|Churrasqueira,Ele...|03907a08-e031-47b...|      5|     4|       Usado|      Outros|Residencial|   3|Recreio dos Bande...|Zona Oeste|       0.0|    0.0|Venda|1590000.0|\n",
            "|    0|        82|       82|        2|Academia,Churrasq...|04171318-00f9-430...|      3|     1|       Usado| Apartamento|Residencial|   1|Recreio dos Bande...|Zona Oeste|     870.0| 1900.0|Venda| 484999.0|\n",
            "|    0|       187|      187|        5|Condomínio fechad...|04a03e35-1a8b-4fc...|      4|     2|       Usado| Apartamento|Residencial|   3|     Barra da Tijuca|Zona Oeste|    2600.0| 5800.0|Venda|1950000.0|\n",
            "|    8|       132|      132|        3|Academia,Churrasq...|04a8d9c5-daca-44f...|      4|     2|       Usado| Apartamento|Residencial|   2|         Jacarepaguá|Zona Oeste|       1.0|    1.0|Venda|1330000.0|\n",
            "|   11|       153|      153|        4|                null|058e6011-b830-455...|      3|     2|       Usado| Apartamento|Residencial|   2|               Gávea|  Zona Sul|    2200.0|  350.0|Venda|3100000.0|\n",
            "|    2|        80|       80|        1|Academia,Elevador...|05beb775-9afa-428...|      3|     0|       Usado| Apartamento|Residencial|   1|          Copacabana|  Zona Sul|     940.0|  160.0|Venda| 749000.0|\n",
            "|    0|       148|      148|        3|     Salão de festas|067673ae-4b0f-444...|      3|     1|       Usado| Apartamento|Residencial|   1|          Copacabana|  Zona Sul|    1500.0| 3800.0|Venda|1100000.0|\n",
            "|    0|       481|      481|        5|             Piscina|06f1e6fd-58cb-40c...|      4|     4|       Usado|      Outros|Residencial|   3|     Barra da Tijuca|Zona Oeste|    2600.0| 1771.0|Venda|4890000.0|\n",
            "|    0|       238|      238|        1|Churrasqueira,Con...|0758b0ca-0844-430...|      3|     1|       Usado|      Outros|Residencial|   3|        Campo Grande|Zona Oeste|     700.0| 1900.0|Venda|1380000.0|\n",
            "|    0|        52|       52|        1|Condomínio fechad...|07bd5c4a-e06d-4da...|      2|  null|       Usado| Apartamento|Residencial|   1|         Jacarepaguá|Zona Oeste|     500.0|  300.0|Venda| 270000.0|\n",
            "+-----+----------+---------+---------+--------------------+--------------------+-------+------+------------+------------+-----------+----+--------------------+----------+----------+-------+-----+---------+\n",
            "only showing top 20 rows\n",
            "\n",
            "CPU times: user 11.2 ms, sys: 2.09 ms, total: 13.3 ms\n",
            "Wall time: 1.32 s\n"
          ]
        }
      ]
    }
  ]
}
